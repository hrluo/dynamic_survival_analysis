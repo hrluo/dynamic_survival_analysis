{
 "cells": [
  {
   "cell_type": "code",
   "execution_count": 1,
   "metadata": {
    "collapsed": true,
    "pycharm": {
     "is_executing": false
    }
   },
   "outputs": [],
   "source": [
    "%matplotlib notebook"
   ]
  },
  {
   "cell_type": "code",
   "execution_count": 6,
   "outputs": [],
   "source": [
    "import numpy as np\n",
    "import pandas as pd\n",
    "import os as os\n",
    "try:\n",
    "    import cPickle as pickle\n",
    "except ModuleNotFoundError:\n",
    "    import pickle"
   ],
   "metadata": {
    "collapsed": false,
    "pycharm": {
     "name": "#%%\n",
     "is_executing": false
    }
   }
  },
  {
   "cell_type": "code",
   "execution_count": 17,
   "outputs": [],
   "source": [
    "today = pd.to_datetime('today')\n",
    "location = 'Ohio'  \n",
    "datafile = 'oh_040820.csv'\n",
    "plot_folder =  'plots'\n",
    "estimate_gamma = False\n",
    "ifMPI = False\n",
    "ifsmooth = False\n",
    "last_date = pd.to_datetime(np.datetime64('2020-04-07 00:00:00'))"
   ],
   "metadata": {
    "collapsed": false,
    "pycharm": {
     "name": "#%%\n",
     "is_executing": false
    }
   }
  },
  {
   "cell_type": "code",
   "execution_count": 18,
   "outputs": [],
   "source": [
    "dsa_dict = {'datafile': datafile,\n",
    "            'location': 'Ohio',\n",
    "            'plot_folder': plot_folder,\n",
    "            'last_date': last_date,\n",
    "            'estimate_gamma': estimate_gamma,\n",
    "            'ifsmooth': ifsmooth,\n",
    "            'ifMPI': ifMPI}\n",
    "\n",
    "laplace_dict = {'datafile': datafile,\n",
    "                'location': 'Ohio',\n",
    "                'plot_folder': plot_folder,\n",
    "                'ifMPI': ifMPI,\n",
    "                'last_date': last_date,\n",
    "                'estimate_gamma': estimate_gamma,\n",
    "                'ifsmooth': ifsmooth}\n",
    "\n"
   ],
   "metadata": {
    "collapsed": false,
    "pycharm": {
     "name": "#%%\n",
     "is_executing": false
    }
   }
  },
  {
   "cell_type": "code",
   "execution_count": 19,
   "outputs": [],
   "source": [
    "root_folder = os.getcwd()\n",
    "data_folder = os.path.join(root_folder,'data')\n"
   ],
   "metadata": {
    "collapsed": false,
    "pycharm": {
     "name": "#%%\n",
     "is_executing": false
    }
   }
  },
  {
   "cell_type": "code",
   "execution_count": 20,
   "outputs": [],
   "source": [
    "fname = 'dsa_dict' + today.strftime(\"%m%d\") +  '.pkl'\n",
    "f = open(os.path.join(data_folder,fname),\"wb\")\n",
    "pickle.dump(dsa_dict,f)\n",
    "f.close()\n",
    "\n",
    "fname = 'laplace_dict' + today.strftime(\"%m%d\") + '.pkl'\n",
    "f = open(os.path.join(data_folder,fname),\"wb\")\n",
    "pickle.dump(laplace_dict,f)\n",
    "f.close()\n"
   ],
   "metadata": {
    "collapsed": false,
    "pycharm": {
     "name": "#%%\n",
     "is_executing": false
    }
   }
  },
  {
   "cell_type": "code",
   "execution_count": 22,
   "outputs": [
    {
     "data": {
      "text/plain": "0"
     },
     "metadata": {},
     "output_type": "execute_result",
     "execution_count": 22
    }
   ],
   "source": [
    "os.system('python DSA.py')"
   ],
   "metadata": {
    "collapsed": false,
    "pycharm": {
     "name": "#%%\n",
     "is_executing": false
    }
   }
  },
  {
   "cell_type": "code",
   "execution_count": null,
   "outputs": [],
   "source": [
    "\n"
   ],
   "metadata": {
    "collapsed": false,
    "pycharm": {
     "name": "#%%\n"
    }
   }
  }
 ],
 "metadata": {
  "kernelspec": {
   "display_name": "Python 3",
   "language": "python",
   "name": "python3"
  },
  "language_info": {
   "codemirror_mode": {
    "name": "ipython",
    "version": 2
   },
   "file_extension": ".py",
   "mimetype": "text/x-python",
   "name": "python",
   "nbconvert_exporter": "python",
   "pygments_lexer": "ipython2",
   "version": "2.7.6"
  },
  "pycharm": {
   "stem_cell": {
    "cell_type": "raw",
    "source": [],
    "metadata": {
     "collapsed": false
    }
   }
  }
 },
 "nbformat": 4,
 "nbformat_minor": 0
}
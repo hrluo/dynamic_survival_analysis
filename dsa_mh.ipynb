{
 "cells": [
  {
   "cell_type": "code",
   "execution_count": 1,
   "metadata": {
    "collapsed": true,
    "pycharm": {
     "is_executing": false
    }
   },
   "outputs": [],
   "source": [
    "%matplotlib notebook"
   ]
  },
  {
   "cell_type": "code",
   "execution_count": 2,
   "outputs": [],
   "source": [
    "import os as os \n",
    "import numpy as np\n",
    "import pandas as pd\n",
    "\n",
    "try:\n",
    "    import cPickle as pickle\n",
    "except ModuleNotFoundError:\n",
    "    import pickle"
   ],
   "metadata": {
    "collapsed": false,
    "pycharm": {
     "name": "#%%\n",
     "is_executing": false
    }
   }
  },
  {
   "cell_type": "code",
   "execution_count": 3,
   "outputs": [],
   "source": [
    "root_folder = os.getcwd()\n",
    "data_folder = os.path.join(root_folder,'data')\n"
   ],
   "metadata": {
    "collapsed": false,
    "pycharm": {
     "name": "#%%\n",
     "is_executing": false
    }
   }
  },
  {
   "cell_type": "code",
   "execution_count": 4,
   "outputs": [],
   "source": [
    "today = pd.to_datetime('today')\n",
    "location = 'Ohio'  \n",
    "datafile = 'dummy.csv'\n",
    "plot_folder =  'plots'\n",
    "estimate_gamma = False\n",
    "ifMPI = False\n",
    "ifsmooth = False\n",
    "last_date = pd.to_datetime(np.datetime64('2020-03-22 00:00:00'))\n",
    "burn_in = 5000\n",
    "nChains = 10"
   ],
   "metadata": {
    "collapsed": false,
    "pycharm": {
     "name": "#%%\n",
     "is_executing": false
    }
   }
  },
  {
   "cell_type": "code",
   "execution_count": 5,
   "outputs": [],
   "source": [
    "mh_dict = {'datafile': datafile,\n",
    "            'location': 'Ohio',\n",
    "            'plot_folder': plot_folder,\n",
    "            'ifMPI': ifMPI,\n",
    "            'last_date': last_date,\n",
    "            'estimate_gamma': estimate_gamma,\n",
    "            'ifsmooth': ifsmooth,\n",
    "           'burn_in': burn_in,\n",
    "           'nChains': nChains}\n"
   ],
   "metadata": {
    "collapsed": false,
    "pycharm": {
     "name": "#%%\n",
     "is_executing": false
    }
   }
  },
  {
   "cell_type": "code",
   "execution_count": 6,
   "outputs": [],
   "source": [
    "fname = 'mh_dict' + today.strftime(\"%m%d\") + '.pkl'\n",
    "f = open(os.path.join(data_folder,fname),\"wb\")\n",
    "pickle.dump(mh_dict,f)\n",
    "f.close()"
   ],
   "metadata": {
    "collapsed": false,
    "pycharm": {
     "name": "#%%\n",
     "is_executing": false
    }
   }
  },
  {
   "cell_type": "code",
   "execution_count": null,
   "outputs": [],
   "source": [
    "os.system('python DSA_Bayesian.py')\n"
   ],
   "metadata": {
    "collapsed": false,
    "pycharm": {
     "name": "#%%\n"
    }
   }
  }
 ],
 "metadata": {
  "kernelspec": {
   "display_name": "Python 3",
   "language": "python",
   "name": "python3"
  },
  "language_info": {
   "codemirror_mode": {
    "name": "ipython",
    "version": 2
   },
   "file_extension": ".py",
   "mimetype": "text/x-python",
   "name": "python",
   "nbconvert_exporter": "python",
   "pygments_lexer": "ipython2",
   "version": "2.7.6"
  },
  "pycharm": {
   "stem_cell": {
    "cell_type": "raw",
    "source": [],
    "metadata": {
     "collapsed": false
    }
   }
  }
 },
 "nbformat": 4,
 "nbformat_minor": 0
}
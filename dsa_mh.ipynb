{
 "cells": [
  {
   "cell_type": "code",
   "execution_count": 1,
   "metadata": {
    "collapsed": true,
    "pycharm": {
     "is_executing": false
    }
   },
   "outputs": [],
   "source": [
    "%matplotlib notebook"
   ]
  },
  {
   "cell_type": "code",
   "execution_count": 2,
   "metadata": {
    "pycharm": {
     "is_executing": false,
     "name": "#%%\n"
    }
   },
   "outputs": [],
   "source": [
    "import os as os \n",
    "import numpy as np\n",
    "import pandas as pd\n",
    "\n",
    "try:\n",
    "    import cPickle as pickle\n",
    "except ModuleNotFoundError:\n",
    "    import pickle"
   ]
  },
  {
   "cell_type": "code",
   "execution_count": 3,
   "metadata": {
    "pycharm": {
     "is_executing": false,
     "name": "#%%\n"
    }
   },
   "outputs": [],
   "source": [
    "root_folder = os.getcwd()\n",
    "data_folder = os.path.join(root_folder,'data')\n"
   ]
  },
  {
   "cell_type": "code",
   "execution_count": 4,
   "metadata": {
    "pycharm": {
     "is_executing": false,
     "name": "#%%\n"
    }
   },
   "outputs": [],
   "source": [
    "today = pd.to_datetime('today')\n",
    "location = 'Ohio'  \n",
    "datafile = 'dummy.csv'\n",
    "plot_folder =  'plots'\n",
    "estimate_gamma = False\n",
    "ifMPI = False\n",
    "ifsmooth = False\n",
    "last_date = pd.to_datetime(np.datetime64('2020-03-22 00:00:00'))\n",
    "burn_in = 5000\n",
    "nChains = 10"
   ]
  },
  {
   "cell_type": "code",
   "execution_count": 5,
   "metadata": {
    "pycharm": {
     "is_executing": false,
     "name": "#%%\n"
    }
   },
   "outputs": [],
   "source": [
    "mh_dict = {'datafile': datafile,\n",
    "            'location': 'Ohio',\n",
    "            'plot_folder': plot_folder,\n",
    "            'ifMPI': ifMPI,\n",
    "            'last_date': last_date,\n",
    "            'estimate_gamma': estimate_gamma,\n",
    "            'ifsmooth': ifsmooth,\n",
    "           'burn_in': burn_in,\n",
    "           'nChains': nChains}\n"
   ]
  },
  {
   "cell_type": "code",
   "execution_count": 6,
   "metadata": {
    "pycharm": {
     "is_executing": false,
     "name": "#%%\n"
    }
   },
   "outputs": [],
   "source": [
    "fname = 'mh_dict' + today.strftime(\"%m%d\") + '.pkl'\n",
    "f = open(os.path.join(data_folder,fname),\"wb\")\n",
    "pickle.dump(mh_dict,f)\n",
    "f.close()"
   ]
  },
  {
   "cell_type": "code",
   "execution_count": null,
   "metadata": {
    "pycharm": {
     "name": "#%%\n"
    }
   },
   "outputs": [],
   "source": [
    "os.system('python DSA_Bayesian.py')\n"
   ]
  }
 ],
 "metadata": {
  "kernelspec": {
   "display_name": "Python 3",
   "language": "python",
   "name": "python3"
  },
  "language_info": {
   "codemirror_mode": {
    "name": "ipython",
    "version": 3
   },
   "file_extension": ".py",
   "mimetype": "text/x-python",
   "name": "python",
   "nbconvert_exporter": "python",
   "pygments_lexer": "ipython3",
   "version": "3.6.10"
  },
  "pycharm": {
   "stem_cell": {
    "cell_type": "raw",
    "metadata": {
     "collapsed": false
    },
    "source": []
   }
  }
 },
 "nbformat": 4,
 "nbformat_minor": 1
}

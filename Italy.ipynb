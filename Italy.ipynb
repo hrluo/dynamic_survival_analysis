{
 "cells": [
  {
   "cell_type": "markdown",
   "metadata": {
    "heading_collapsed": true
   },
   "source": [
    "# Setup"
   ]
  },
  {
   "cell_type": "code",
   "execution_count": 1,
   "metadata": {
    "hidden": true
   },
   "outputs": [],
   "source": [
    "%matplotlib inline"
   ]
  },
  {
   "cell_type": "code",
   "execution_count": 2,
   "metadata": {
    "hidden": true
   },
   "outputs": [],
   "source": [
    "!jt -t gruvboxd -T -tf firacode -tfs 16 -mathfs 110 -fs 16"
   ]
  },
  {
   "cell_type": "code",
   "execution_count": 3,
   "metadata": {
    "hidden": true
   },
   "outputs": [],
   "source": [
    "from ipywidgets import interact\n",
    "import ipywidgets as widgets"
   ]
  },
  {
   "cell_type": "code",
   "execution_count": 4,
   "metadata": {
    "hidden": true
   },
   "outputs": [],
   "source": [
    "import qgrid"
   ]
  },
  {
   "cell_type": "code",
   "execution_count": 5,
   "metadata": {
    "hidden": true
   },
   "outputs": [
    {
     "data": {
      "application/vnd.jupyter.widget-view+json": {
       "model_id": "4bb8a3fc1f0845ad8824324b6bc40af9",
       "version_major": 2,
       "version_minor": 0
      },
      "text/plain": [
       "ColorPicker(value='blue', description='Pick a color')"
      ]
     },
     "metadata": {},
     "output_type": "display_data"
    }
   ],
   "source": [
    "widgets.ColorPicker(\n",
    "    concise=False,\n",
    "    description='Pick a color',\n",
    "    value='blue',\n",
    "    disabled=False\n",
    ")"
   ]
  },
  {
   "cell_type": "code",
   "execution_count": 22,
   "metadata": {
    "hidden": true
   },
   "outputs": [],
   "source": [
    "import sys\n",
    "import os as os\n",
    "import numpy as np\n",
    "import scipy as sc\n",
    "import matplotlib.pyplot as plt\n",
    "import pandas as pd\n",
    "import matplotlib\n",
    "from numpy.random import RandomState\n",
    "from scipy.stats import gamma, beta, uniform, binom\n",
    "from scipy.integrate import solve_ivp\n",
    "import time\n",
    "\n",
    "rand = RandomState()"
   ]
  },
  {
   "cell_type": "code",
   "execution_count": 7,
   "metadata": {
    "hidden": true
   },
   "outputs": [],
   "source": [
    "try:\n",
    "    import cPickle as pickle\n",
    "except ModuleNotFoundError:\n",
    "    import pickle"
   ]
  },
  {
   "cell_type": "markdown",
   "metadata": {},
   "source": [
    "# Functions and classes"
   ]
  },
  {
   "cell_type": "code",
   "execution_count": 8,
   "metadata": {},
   "outputs": [],
   "source": [
    "%%bash \n",
    "source activate dynamic_survival_analysis"
   ]
  },
  {
   "cell_type": "code",
   "execution_count": 9,
   "metadata": {},
   "outputs": [],
   "source": [
    "from epidemiccore_w import *"
   ]
  },
  {
   "cell_type": "code",
   "execution_count": 10,
   "metadata": {},
   "outputs": [],
   "source": [
    "def compute_density(epi,theta):\n",
    "    S0 = [1]\n",
    "    sol = odeint(Epidemic.Deriv_S, S0, epi.t, args=tuple(theta))\n",
    "    S = interp1d(epi.t,sol[:,0])\n",
    "    a,b,c = theta    \n",
    "    out = []\n",
    "    ST = S(epi.T)\n",
    "    for x in epi.t:\n",
    "        Sx = S(x)\n",
    "        out.append((a*Sx*np.log(Sx)+b*(Sx-Sx**2)+c*Sx)/(1-ST))\n",
    "    return out"
   ]
  },
  {
   "cell_type": "code",
   "execution_count": 11,
   "metadata": {},
   "outputs": [],
   "source": [
    "def plot_density_fit_posterior(epi, samples):\n",
    "    nSamples = np.size(samples, axis = 0)\n",
    "    Ds = np.zeros((nSamples, len(epi.t)), dtype=np.float)\n",
    "    for idx in range(nSamples):\n",
    "        Ds[idx] = compute_density(epi, samples[idx])\n",
    "    Dslow = np.quantile(Ds, q = 0.025, axis=0)\n",
    "    Dshigh = np.quantile(Ds, q = 0.975, axis=0)\n",
    "    Dmean = np.mean(Ds, axis=0)\n",
    "    fig = plt.figure()\n",
    "    plt.plot(epi.t, Dmean, '-', color=myColours['tud7d'].get_rgb(), lw=3)\n",
    "    plt.plot(epi.t, Dslow, '--', color=myColours['tud7d'].get_rgb(), lw=1)\n",
    "    plt.plot(epi.t, Dshigh, '--', color=myColours['tud7d'].get_rgb(), lw=1)\n",
    "    plt.axvline(x=epi.T, color=myColours['tud11d'].get_rgb(), linestyle='-')\n",
    "\n",
    "    mirrored_data = (2 * epi.T - epi.df['infection'].values).tolist()\n",
    "    combined_data = epi.df['infection'].values.tolist() + mirrored_data\n",
    "    dense = gaussian_kde(combined_data)\n",
    "    denseval = list(dense(x) * 2 for x in epi.t)\n",
    "    plt.plot(epi.t, denseval, '-', color=myColours['tud1d'].get_rgb(), lw=3)\n",
    "    plt.fill_between(epi.t, Dslow, Dshigh, alpha=.3, color=myColours['tud7d'].get_rgb())\n",
    "    plt.legend()\n",
    "    plt.ylabel('$-S_t/(1-S_T)$')\n",
    "    plt.xlabel('t')\n",
    "    c = cumtrapz(Dmean, epi.t)\n",
    "    ind = np.argmax(c >= 0.001)\n",
    "    plt.xlim((epi.t[ind], epi.t[-1] + 1))\n",
    "\n",
    "    return fig"
   ]
  },
  {
   "cell_type": "code",
   "execution_count": 85,
   "metadata": {},
   "outputs": [],
   "source": [
    "def poisson_ode_fun(t, S, a, b, c):\n",
    "    dsdt = np.float64(- a * S * np.log(S, dtype=np.float64) - b * (S - S * S) - c * S)\n",
    "    return dsdt"
   ]
  },
  {
   "cell_type": "code",
   "execution_count": 205,
   "metadata": {},
   "outputs": [],
   "source": [
    "def poisson_trans_ode(t, S, a, b, rho):\n",
    "    dsdt = np.float64(- a * S * np.log(S, dtype=np.float64) - b * (S - S * S) - b * rho * S)\n",
    "#     dsdt = -(b*S*(1.0+rho) - b*S*S + a*S*np.log(S, dtype=np.float64))\n",
    "    return dsdt"
   ]
  },
  {
   "cell_type": "code",
   "execution_count": 174,
   "metadata": {},
   "outputs": [],
   "source": [
    "def euler1d(odefun, t, ic=1.0, abc=(0.4,0.6,1E-6)):\n",
    "    stepsize = t[1] - t[0]\n",
    "    sol = np.zeros(len(t), dtype=np.float64)\n",
    "    sol[0] = ic\n",
    "    a,b,c = abc\n",
    "    f = lambda S: odefun(t, S, a, b, c)\n",
    "    for i in range(1,len(t)):\n",
    "        sol[i] = sol[i-1] + np.float64(f(sol[i-1])) * stepsize\n",
    "    return sol"
   ]
  },
  {
   "cell_type": "code",
   "execution_count": 175,
   "metadata": {},
   "outputs": [],
   "source": [
    "def prevalence_loglikelihood(prev_data, T, parms):\n",
    "    a, b, rho = parms\n",
    "    step_size = 0.01\n",
    "    t = np.linspace(0.0, T, 1000)\n",
    "#     sol = solve_ivp(poisson_trans_ode, [0.0, T], y0= [1.0], args=tuple(parms))\n",
    "    sol = euler1d(poisson_trans_ode, t, abc=(a, b, c))\n",
    "    S = interp1d(t, sol)\n",
    "    nsuccess, nfail = prev_data\n",
    "    n = nsuccess + nfail\n",
    "    if T > 21:\n",
    "        p = (S(T-21) - S(T))/(1-S(T))\n",
    "    else:\n",
    "        p = 1.0\n",
    "    return binom.logpmf(nsuccess, n, p)"
   ]
  },
  {
   "cell_type": "code",
   "execution_count": 184,
   "metadata": {},
   "outputs": [],
   "source": [
    "def log_data_likelihood(df, theta):\n",
    "    a, b, rho = theta\n",
    "    S0 = [1.0]\n",
    "    T = np.max(df.values)\n",
    "    t = np.linspace(0.0,T,1000)\n",
    "    sol = euler1d(poisson_trans_ode, t, abc=(a, b, rho))\n",
    "    S = interp1d(t, sol)\n",
    "    smax = S(T)\n",
    "    factor = 1 - smax\n",
    "    Z = 0\n",
    "    j = 0\n",
    "    for x in df.values:\n",
    "        s = S(x)\n",
    "        if s > 0:\n",
    "            z = (a*s*np.log(s, dtype=np.float64)+b*(s-s**2)+b*rho*s)/factor\n",
    "            if z > 0:\n",
    "                Z += np.log(z, dtype=np.float64)\n",
    "                j += 1\n",
    "    return -Z"
   ]
  },
  {
   "cell_type": "code",
   "execution_count": 216,
   "metadata": {},
   "outputs": [],
   "source": [
    "parms = (0.4, 0.6, 1e-9)\n",
    "step_size = 0.01\n",
    "T = 100.0\n",
    "timepoints = np.linspace(0.0, T, 1000)\n",
    "sol = solve_ivp(poisson_trans_ode, [0.0, T], \n",
    "                y0 = [1.0], \n",
    "                dense_output = True, \n",
    "                args = (0.4, 0.6, 1e-15)) "
   ]
  },
  {
   "cell_type": "code",
   "execution_count": 217,
   "metadata": {},
   "outputs": [
    {
     "data": {
      "text/plain": [
       "[<matplotlib.lines.Line2D at 0x1a39d77ef0>]"
      ]
     },
     "execution_count": 217,
     "metadata": {},
     "output_type": "execute_result"
    },
    {
     "data": {
      "image/png": "[encoded data removed]",
      "text/plain": [
       "<Figure size 432x288 with 1 Axes>"
      ]
     },
     "metadata": {},
     "output_type": "display_data"
    }
   ],
   "source": [
    "z = sol.sol(timepoints)\n",
    "fig = plt.figure()\n",
    "plt.plot(z.T)"
   ]
  },
  {
   "cell_type": "code",
   "execution_count": 219,
   "metadata": {},
   "outputs": [
    {
     "data": {
      "text/plain": [
       "[<matplotlib.lines.Line2D at 0x1a39a332b0>]"
      ]
     },
     "execution_count": 219,
     "metadata": {},
     "output_type": "execute_result"
    },
    {
     "data": {
      "image/png": "[encoded data removed]",
      "text/plain": [
       "<Figure size 432x288 with 1 Axes>"
      ]
     },
     "metadata": {},
     "output_type": "display_data"
    }
   ],
   "source": [
    "sol2 = euler1d(poisson_trans_ode, timepoints,\n",
    "               abc=(0.4, 0.6, 1e-15))\n",
    "fig = plt.figure()\n",
    "plt.plot(sol2)"
   ]
  },
  {
   "cell_type": "code",
   "execution_count": 224,
   "metadata": {},
   "outputs": [
    {
     "data": {
      "text/plain": [
       "array([[ 0.00000000e+00],\n",
       "       [ 0.00000000e+00],\n",
       "       [-2.22044605e-16],\n",
       "       [-2.22044605e-16],\n",
       "       [-3.33066907e-16],\n",
       "       [-3.33066907e-16],\n",
       "       [-4.44089210e-16],\n",
       "       [-5.55111512e-16],\n",
       "       [-5.55111512e-16],\n",
       "       [-6.66133815e-16],\n",
       "       [-6.66133815e-16],\n",
       "       [-7.77156117e-16],\n",
       "       [-8.88178420e-16],\n",
       "       [-8.88178420e-16],\n",
       "       [-9.99200722e-16],\n",
       "       [-1.11022302e-15],\n",
       "       [-1.22124533e-15],\n",
       "       [-1.22124533e-15],\n",
       "       [-1.33226763e-15],\n",
       "       [-1.44328993e-15],\n",
       "       [-1.55431223e-15],\n",
       "       [-1.66533454e-15],\n",
       "       [-1.66533454e-15],\n",
       "       [-1.77635684e-15],\n",
       "       [-1.88737914e-15],\n",
       "       [-1.99840144e-15],\n",
       "       [-2.10942375e-15],\n",
       "       [-2.22044605e-15],\n",
       "       [-2.33146835e-15],\n",
       "       [-2.44249065e-15],\n",
       "       [-2.55351296e-15],\n",
       "       [-2.66453526e-15],\n",
       "       [-2.77555756e-15],\n",
       "       [-2.88657986e-15],\n",
       "       [-2.99760217e-15],\n",
       "       [-3.10862447e-15],\n",
       "       [-3.21964677e-15],\n",
       "       [-3.33066907e-15],\n",
       "       [-3.44169138e-15],\n",
       "       [-3.66373598e-15],\n",
       "       [-3.77475828e-15],\n",
       "       [-3.88578059e-15],\n",
       "       [-3.99680289e-15],\n",
       "       [-4.21884749e-15],\n",
       "       [-4.32986980e-15],\n",
       "       [-4.44089210e-15],\n",
       "       [-4.66293670e-15],\n",
       "       [-4.77395901e-15],\n",
       "       [-4.88498131e-15],\n",
       "       [-5.10702591e-15],\n",
       "       [-5.21804822e-15],\n",
       "       [-5.44009282e-15],\n",
       "       [-5.55111512e-15],\n",
       "       [-5.77315973e-15],\n",
       "       [-5.88418203e-15],\n",
       "       [-6.10622664e-15],\n",
       "       [-6.32827124e-15],\n",
       "       [-6.43929354e-15],\n",
       "       [-6.66133815e-15],\n",
       "       [-6.88338275e-15],\n",
       "       [-7.10542736e-15],\n",
       "       [-7.21644966e-15],\n",
       "       [-7.43849426e-15],\n",
       "       [-7.66053887e-15],\n",
       "       [-7.88258347e-15],\n",
       "       [-8.10462808e-15],\n",
       "       [-8.32667268e-15],\n",
       "       [-8.54871729e-15],\n",
       "       [-8.77076189e-15],\n",
       "       [-8.99280650e-15],\n",
       "       [-9.32587341e-15],\n",
       "       [-9.54791801e-15],\n",
       "       [-9.76996262e-15],\n",
       "       [-9.99200722e-15],\n",
       "       [-1.03250741e-14],\n",
       "       [-1.05471187e-14],\n",
       "       [-1.08801856e-14],\n",
       "       [-1.11022302e-14],\n",
       "       [-1.14352972e-14],\n",
       "       [-1.16573418e-14],\n",
       "       [-1.19904087e-14],\n",
       "       [-1.23234756e-14],\n",
       "       [-1.26565425e-14],\n",
       "       [-1.28785871e-14],\n",
       "       [-1.32116540e-14],\n",
       "       [-1.35447209e-14],\n",
       "       [-1.38777878e-14],\n",
       "       [-1.42108547e-14],\n",
       "       [-1.46549439e-14],\n",
       "       [-1.49880108e-14],\n",
       "       [-1.53210777e-14],\n",
       "       [-1.56541446e-14],\n",
       "       [-1.60982339e-14],\n",
       "       [-1.64313008e-14],\n",
       "       [-1.68753900e-14],\n",
       "       [-1.73194792e-14],\n",
       "       [-1.76525461e-14],\n",
       "       [-1.80966353e-14],\n",
       "       [-1.85407245e-14],\n",
       "       [-1.89848137e-14],\n",
       "       [-1.94289029e-14],\n",
       "       [-1.98729921e-14],\n",
       "       [-2.03170814e-14],\n",
       "       [-2.07611706e-14],\n",
       "       [-2.13162821e-14],\n",
       "       [-2.17603713e-14],\n",
       "       [-2.23154828e-14],\n",
       "       [-2.27595720e-14],\n",
       "       [-2.33146835e-14],\n",
       "       [-2.38697950e-14],\n",
       "       [-2.44249065e-14],\n",
       "       [-2.49800181e-14],\n",
       "       [-6.51700915e-14],\n",
       "       [-1.84074977e-13],\n",
       "       [-3.80917520e-13],\n",
       "       [-6.54920562e-13],\n",
       "       [-1.00530695e-12],\n",
       "       [-1.43141055e-12],\n",
       "       [-1.93234317e-12],\n",
       "       [-2.50732768e-12],\n",
       "       [-3.15569793e-12],\n",
       "       [-3.87667676e-12],\n",
       "       [-4.66948702e-12],\n",
       "       [-5.53335155e-12],\n",
       "       [-6.46760423e-12],\n",
       "       [-7.47135687e-12],\n",
       "       [-8.54405435e-12],\n",
       "       [-9.68480851e-12],\n",
       "       [-1.08929532e-11],\n",
       "       [-1.21677113e-11],\n",
       "       [-1.35083056e-11],\n",
       "       [-1.49140700e-11],\n",
       "       [-1.63842273e-11],\n",
       "       [-1.79181114e-11],\n",
       "       [-1.95150562e-11],\n",
       "       [-2.11740625e-11],\n",
       "       [-2.28946861e-11],\n",
       "       [-2.46761500e-11],\n",
       "       [-2.65176769e-11],\n",
       "       [-2.84184898e-11],\n",
       "       [-3.03780334e-11],\n",
       "       [-3.23955307e-11],\n",
       "       [-3.44702045e-11],\n",
       "       [-3.66014996e-11],\n",
       "       [-3.87886390e-11],\n",
       "       [-4.10308454e-11],\n",
       "       [-4.33274527e-11],\n",
       "       [-4.56779059e-11],\n",
       "       [-4.80813167e-11],\n",
       "       [-5.05371300e-11],\n",
       "       [-5.30445687e-11],\n",
       "       [-5.56030777e-11],\n",
       "       [-5.82118798e-11],\n",
       "       [-6.08701978e-11],\n",
       "       [-6.35774766e-11],\n",
       "       [-6.63330502e-11],\n",
       "       [-6.91362523e-11],\n",
       "       [-7.19863058e-11],\n",
       "       [-7.48826556e-11],\n",
       "       [-7.78245246e-11],\n",
       "       [-8.08113576e-11],\n",
       "       [-8.38424885e-11],\n",
       "       [-8.69171402e-11],\n",
       "       [-9.00347574e-11],\n",
       "       [-9.31945632e-11],\n",
       "       [-9.63961133e-11],\n",
       "       [-9.96386307e-11],\n",
       "       [-1.02921449e-10],\n",
       "       [-1.06243903e-10],\n",
       "       [-1.09605436e-10],\n",
       "       [-1.13005383e-10],\n",
       "       [-1.16443077e-10],\n",
       "       [-1.19917964e-10],\n",
       "       [-1.23429267e-10],\n",
       "       [-1.26976429e-10],\n",
       "       [-1.30558786e-10],\n",
       "       [-1.34175782e-10],\n",
       "       [-1.37826750e-10],\n",
       "       [-1.41511136e-10],\n",
       "       [-1.45228274e-10],\n",
       "       [-1.48977386e-10],\n",
       "       [-1.52758139e-10],\n",
       "       [-1.56569757e-10],\n",
       "       [-1.60411573e-10],\n",
       "       [-1.64283143e-10],\n",
       "       [-1.68183800e-10],\n",
       "       [-1.72112880e-10],\n",
       "       [-1.76069825e-10],\n",
       "       [-1.80054083e-10],\n",
       "       [-1.84064985e-10],\n",
       "       [-1.88101978e-10],\n",
       "       [-1.92164396e-10],\n",
       "       [-1.96251793e-10],\n",
       "       [-2.00363393e-10],\n",
       "       [-2.04498751e-10],\n",
       "       [-2.08657314e-10],\n",
       "       [-2.12838414e-10],\n",
       "       [-2.17041607e-10],\n",
       "       [-2.21266117e-10],\n",
       "       [-2.25511387e-10],\n",
       "       [-2.29777086e-10],\n",
       "       [-2.34062436e-10],\n",
       "       [-2.38366882e-10],\n",
       "       [-2.42689868e-10],\n",
       "       [-2.47030951e-10],\n",
       "       [-2.51389465e-10],\n",
       "       [-2.55764965e-10],\n",
       "       [-2.60156674e-10],\n",
       "       [-2.64564259e-10],\n",
       "       [-2.68987166e-10],\n",
       "       [-2.73424616e-10],\n",
       "       [-2.77876389e-10],\n",
       "       [-2.82341706e-10],\n",
       "       [-2.86820012e-10],\n",
       "       [-2.91310975e-10],\n",
       "       [-2.95813929e-10],\n",
       "       [-3.00328318e-10],\n",
       "       [-3.04853698e-10],\n",
       "       [-3.09389514e-10],\n",
       "       [-3.13935211e-10],\n",
       "       [-3.18490234e-10],\n",
       "       [-3.23054139e-10],\n",
       "       [-3.27626481e-10],\n",
       "       [-3.32206485e-10],\n",
       "       [-3.36793926e-10],\n",
       "       [-3.41388029e-10],\n",
       "       [-3.45988571e-10],\n",
       "       [-3.50594775e-10],\n",
       "       [-3.55206309e-10],\n",
       "       [-3.59822616e-10],\n",
       "       [-3.64443142e-10],\n",
       "       [-3.69067554e-10],\n",
       "       [-3.73695186e-10],\n",
       "       [-3.78325593e-10],\n",
       "       [-3.82958443e-10],\n",
       "       [-3.87592958e-10],\n",
       "       [-3.92228916e-10],\n",
       "       [-3.96865651e-10],\n",
       "       [-4.01502831e-10],\n",
       "       [-4.06139788e-10],\n",
       "       [-4.10776302e-10],\n",
       "       [-4.15411705e-10],\n",
       "       [-4.20045554e-10],\n",
       "       [-4.24677515e-10],\n",
       "       [-4.29306923e-10],\n",
       "       [-4.33933445e-10],\n",
       "       [-4.38556635e-10],\n",
       "       [-4.43175940e-10],\n",
       "       [-4.47790915e-10],\n",
       "       [-4.52401228e-10],\n",
       "       [-4.57006211e-10],\n",
       "       [-4.61605643e-10],\n",
       "       [-4.66198968e-10],\n",
       "       [-4.70785744e-10],\n",
       "       [-4.75365636e-10],\n",
       "       [-4.79937978e-10],\n",
       "       [-4.84502549e-10],\n",
       "       [-4.89058793e-10],\n",
       "       [-4.93606267e-10],\n",
       "       [-4.98144637e-10],\n",
       "       [-5.02673458e-10],\n",
       "       [-5.07192177e-10],\n",
       "       [-5.11700571e-10],\n",
       "       [-5.16197973e-10],\n",
       "       [-5.20684273e-10],\n",
       "       [-5.25158805e-10],\n",
       "       [-5.29621236e-10],\n",
       "       [-5.34071121e-10],\n",
       "       [-5.38508127e-10],\n",
       "       [-5.42931811e-10],\n",
       "       [-5.47341839e-10],\n",
       "       [-5.51737656e-10],\n",
       "       [-5.56118929e-10],\n",
       "       [-5.60485325e-10],\n",
       "       [-5.64836400e-10],\n",
       "       [-5.69171710e-10],\n",
       "       [-5.73490921e-10],\n",
       "       [-5.77793702e-10],\n",
       "       [-5.82079607e-10],\n",
       "       [-5.86348192e-10],\n",
       "       [-5.90599125e-10],\n",
       "       [-5.94832072e-10],\n",
       "       [-5.99046701e-10],\n",
       "       [-6.03242456e-10],\n",
       "       [-6.07419115e-10],\n",
       "       [-6.11576345e-10],\n",
       "       [-6.15713591e-10],\n",
       "       [-6.19830631e-10],\n",
       "       [-6.23927132e-10],\n",
       "       [-6.28002650e-10],\n",
       "       [-6.32056851e-10],\n",
       "       [-6.36089403e-10],\n",
       "       [-6.40099973e-10],\n",
       "       [-6.44088116e-10],\n",
       "       [-6.48053500e-10],\n",
       "       [-6.51995902e-10],\n",
       "       [-6.55914878e-10],\n",
       "       [-6.59810206e-10],\n",
       "       [-6.63681332e-10],\n",
       "       [-6.67528144e-10],\n",
       "       [-6.71350087e-10],\n",
       "       [-6.75147049e-10],\n",
       "       [-6.78918588e-10],\n",
       "       [-6.82664369e-10],\n",
       "       [-6.86384172e-10],\n",
       "       [-6.90077440e-10],\n",
       "       [-6.93744173e-10],\n",
       "       [-6.97383817e-10],\n",
       "       [-7.00996150e-10],\n",
       "       [-7.04580949e-10],\n",
       "       [-7.08137660e-10],\n",
       "       [-7.11666170e-10],\n",
       "       [-7.15166149e-10],\n",
       "       [-7.18637261e-10],\n",
       "       [-7.22079174e-10],\n",
       "       [-7.25491667e-10],\n",
       "       [-7.28874405e-10],\n",
       "       [-7.32227168e-10],\n",
       "       [-7.35549510e-10],\n",
       "       [-7.38841210e-10],\n",
       "       [-7.42102046e-10],\n",
       "       [-7.45331685e-10],\n",
       "       [-7.48529905e-10],\n",
       "       [-7.51696372e-10],\n",
       "       [-7.54830753e-10],\n",
       "       [-7.57932828e-10],\n",
       "       [-7.61002372e-10],\n",
       "       [-7.64039165e-10],\n",
       "       [-7.67042763e-10],\n",
       "       [-7.70012942e-10],\n",
       "       [-7.72949593e-10],\n",
       "       [-7.75852271e-10],\n",
       "       [-7.78720866e-10],\n",
       "       [-7.81555043e-10],\n",
       "       [-7.84354470e-10],\n",
       "       [-7.87119148e-10],\n",
       "       [-7.89848631e-10],\n",
       "       [-7.92542587e-10],\n",
       "       [-7.95201016e-10],\n",
       "       [-7.97823585e-10],\n",
       "       [-8.00410072e-10],\n",
       "       [-8.02960143e-10],\n",
       "       [-8.05473577e-10],\n",
       "       [-8.07950262e-10],\n",
       "       [-8.10389866e-10],\n",
       "       [-8.12792167e-10],\n",
       "       [-8.15157053e-10],\n",
       "       [-8.17484191e-10],\n",
       "       [-8.19773360e-10],\n",
       "       [-8.22024449e-10],\n",
       "       [-8.24237123e-10],\n",
       "       [-8.26411162e-10],\n",
       "       [-8.28546454e-10],\n",
       "       [-8.30642777e-10],\n",
       "       [-8.32699909e-10],\n",
       "       [-8.34717517e-10],\n",
       "       [-8.36695602e-10],\n",
       "       [-8.38633940e-10],\n",
       "       [-8.40532199e-10],\n",
       "       [-8.42390269e-10],\n",
       "       [-8.44208037e-10],\n",
       "       [-8.45985171e-10],\n",
       "       [-8.47721560e-10],\n",
       "       [-8.49416981e-10],\n",
       "       [-8.51071325e-10],\n",
       "       [-8.52684368e-10],\n",
       "       [-8.54255888e-10],\n",
       "       [-8.55785776e-10],\n",
       "       [-8.57273807e-10],\n",
       "       [-8.58719984e-10],\n",
       "       [-8.60123861e-10],\n",
       "       [-8.61485439e-10],\n",
       "       [-8.62804606e-10],\n",
       "       [-8.64081029e-10],\n",
       "       [-8.65314709e-10],\n",
       "       [-8.66505423e-10],\n",
       "       [-8.67653061e-10],\n",
       "       [-8.68757399e-10],\n",
       "       [-8.69818217e-10],\n",
       "       [-8.70835626e-10],\n",
       "       [-8.71809291e-10],\n",
       "       [-8.72739103e-10],\n",
       "       [-8.73624950e-10],\n",
       "       [-8.74466721e-10],\n",
       "       [-8.75264194e-10],\n",
       "       [-8.76017370e-10],\n",
       "       [-8.76725914e-10],\n",
       "       [-8.77389938e-10],\n",
       "       [-8.78009110e-10],\n",
       "       [-8.78583428e-10],\n",
       "       [-8.79112783e-10],\n",
       "       [-8.79596951e-10],\n",
       "       [-8.80035933e-10],\n",
       "       [-8.80429618e-10],\n",
       "       [-8.80777784e-10],\n",
       "       [-8.81080320e-10],\n",
       "       [-8.81337225e-10],\n",
       "       [-8.81548390e-10],\n",
       "       [-8.81713702e-10],\n",
       "       [-8.81833051e-10],\n",
       "       [-8.81906326e-10],\n",
       "       [-8.81933415e-10],\n",
       "       [-8.81914208e-10],\n",
       "       [-8.81848705e-10],\n",
       "       [-8.81736795e-10],\n",
       "       [-8.81578366e-10],\n",
       "       [-8.81373308e-10],\n",
       "       [-8.81121620e-10],\n",
       "       [-8.80823192e-10],\n",
       "       [-8.80477913e-10],\n",
       "       [-8.80085782e-10],\n",
       "       [-8.79646578e-10],\n",
       "       [-8.79160411e-10],\n",
       "       [-8.78627171e-10],\n",
       "       [-8.78046746e-10],\n",
       "       [-8.77419137e-10],\n",
       "       [-8.76744122e-10],\n",
       "       [-8.76021922e-10],\n",
       "       [-8.75252204e-10],\n",
       "       [-8.74435191e-10],\n",
       "       [-8.73570549e-10],\n",
       "       [-8.72658390e-10],\n",
       "       [-8.71698713e-10],\n",
       "       [-8.70691408e-10],\n",
       "       [-8.69636474e-10],\n",
       "       [-8.68533800e-10],\n",
       "       [-8.67383387e-10],\n",
       "       [-8.66185235e-10],\n",
       "       [-8.64939342e-10],\n",
       "       [-8.63645599e-10],\n",
       "       [-8.62303895e-10],\n",
       "       [-8.60914451e-10],\n",
       "       [-8.59477156e-10],\n",
       "       [-8.57991900e-10],\n",
       "       [-8.56458682e-10],\n",
       "       [-8.54877613e-10],\n",
       "       [-8.53248472e-10],\n",
       "       [-8.51571480e-10],\n",
       "       [-8.49846526e-10],\n",
       "       [-8.48073611e-10],\n",
       "       [-8.46252735e-10],\n",
       "       [-8.44383896e-10],\n",
       "       [-8.42467096e-10],\n",
       "       [-8.40502445e-10],\n",
       "       [-8.38489722e-10],\n",
       "       [-8.36429148e-10],\n",
       "       [-8.34320613e-10],\n",
       "       [-8.32164115e-10],\n",
       "       [-8.29959768e-10],\n",
       "       [-8.27707680e-10],\n",
       "       [-8.25407631e-10],\n",
       "       [-8.23059731e-10],\n",
       "       [-8.20664203e-10],\n",
       "       [-8.18220713e-10],\n",
       "       [-8.15729706e-10],\n",
       "       [-8.13190848e-10],\n",
       "       [-8.10604361e-10],\n",
       "       [-8.07970246e-10],\n",
       "       [-8.05288614e-10],\n",
       "       [-8.02559463e-10],\n",
       "       [-7.99782796e-10],\n",
       "       [-7.96958721e-10],\n",
       "       [-7.94087129e-10],\n",
       "       [-7.91168353e-10],\n",
       "       [-7.88202281e-10],\n",
       "       [-7.85188914e-10],\n",
       "       [-7.82128473e-10],\n",
       "       [-7.79020848e-10],\n",
       "       [-7.75866260e-10],\n",
       "       [-7.72664710e-10],\n",
       "       [-7.69416197e-10],\n",
       "       [-7.66120944e-10],\n",
       "       [-7.62778951e-10],\n",
       "       [-7.59390217e-10],\n",
       "       [-7.55954965e-10],\n",
       "       [-7.52473195e-10],\n",
       "       [-7.48944906e-10],\n",
       "       [-7.45370432e-10],\n",
       "       [-7.41749551e-10],\n",
       "       [-7.38082595e-10],\n",
       "       [-7.34369676e-10],\n",
       "       [-7.30610683e-10],\n",
       "       [-7.26805838e-10],\n",
       "       [-7.22955140e-10],\n",
       "       [-7.19058924e-10],\n",
       "       [-7.15117077e-10],\n",
       "       [-7.11129822e-10],\n",
       "       [-7.07097159e-10],\n",
       "       [-7.03019309e-10],\n",
       "       [-6.98896274e-10],\n",
       "       [-6.94728386e-10],\n",
       "       [-6.90515534e-10],\n",
       "       [-6.86257939e-10],\n",
       "       [-6.81955714e-10],\n",
       "       [-6.77608969e-10],\n",
       "       [-6.73217815e-10],\n",
       "       [-6.68782474e-10],\n",
       "       [-6.64303057e-10],\n",
       "       [-6.59779675e-10],\n",
       "       [-6.55212440e-10],\n",
       "       [-6.50601462e-10],\n",
       "       [-6.45946963e-10],\n",
       "       [-6.41249054e-10],\n",
       "       [-6.36507957e-10],\n",
       "       [-6.31723673e-10],\n",
       "       [-6.26896424e-10],\n",
       "       [-6.22026430e-10],\n",
       "       [-6.17113805e-10],\n",
       "       [-6.12158768e-10],\n",
       "       [-6.07161321e-10],\n",
       "       [-6.02121686e-10],\n",
       "       [-5.97040195e-10],\n",
       "       [-5.91916738e-10],\n",
       "       [-5.86751758e-10],\n",
       "       [-5.81545256e-10],\n",
       "       [-5.76297454e-10],\n",
       "       [-5.71008574e-10],\n",
       "       [-5.65678726e-10],\n",
       "       [-5.60308244e-10],\n",
       "       [-5.54897128e-10],\n",
       "       [-5.49445600e-10],\n",
       "       [-5.43953882e-10],\n",
       "       [-5.38422196e-10],\n",
       "       [-5.32850764e-10],\n",
       "       [-5.27239696e-10],\n",
       "       [-5.21589216e-10],\n",
       "       [-5.15899545e-10],\n",
       "       [-5.10170906e-10],\n",
       "       [-5.04403519e-10],\n",
       "       [-4.98597497e-10],\n",
       "       [-4.92753172e-10],\n",
       "       [-4.86870766e-10],\n",
       "       [-4.80950280e-10],\n",
       "       [-4.74992157e-10],\n",
       "       [-4.68996619e-10],\n",
       "       [-4.62963667e-10],\n",
       "       [-4.56893856e-10],\n",
       "       [-4.50787074e-10],\n",
       "       [-4.44643877e-10],\n",
       "       [-4.38464154e-10],\n",
       "       [-4.32248459e-10],\n",
       "       [-4.25996904e-10],\n",
       "       [-4.19709600e-10],\n",
       "       [-4.13386991e-10],\n",
       "       [-4.07029299e-10],\n",
       "       [-4.00636635e-10],\n",
       "       [-3.94209332e-10],\n",
       "       [-3.87747723e-10],\n",
       "       [-3.81251919e-10],\n",
       "       [-3.74722142e-10],\n",
       "       [-3.68158948e-10],\n",
       "       [-3.61562225e-10],\n",
       "       [-3.54932528e-10],\n",
       "       [-3.48269968e-10],\n",
       "       [-3.41574768e-10],\n",
       "       [-3.34847372e-10],\n",
       "       [-3.28088001e-10],\n",
       "       [-3.21296767e-10],\n",
       "       [-3.14474224e-10],\n",
       "       [-3.07620374e-10],\n",
       "       [-3.00735770e-10],\n",
       "       [-2.93820412e-10],\n",
       "       [-2.86874857e-10],\n",
       "       [-2.79899215e-10],\n",
       "       [-2.72893819e-10],\n",
       "       [-2.65859113e-10],\n",
       "       [-2.58795096e-10],\n",
       "       [-2.51702326e-10],\n",
       "       [-2.44581022e-10],\n",
       "       [-2.37431408e-10],\n",
       "       [-2.30253927e-10],\n",
       "       [-2.23048802e-10],\n",
       "       [-2.15816476e-10],\n",
       "       [-2.08557061e-10],\n",
       "       [-2.01270889e-10],\n",
       "       [-1.93958516e-10],\n",
       "       [-1.86619942e-10],\n",
       "       [-1.79255832e-10],\n",
       "       [-1.71866188e-10],\n",
       "       [-1.64451563e-10],\n",
       "       [-1.57012181e-10],\n",
       "       [-1.49548374e-10],\n",
       "       [-1.42060586e-10],\n",
       "       [-1.34549039e-10],\n",
       "       [-1.27014066e-10],\n",
       "       [-1.19456112e-10],\n",
       "       [-1.11875398e-10],\n",
       "       [-1.04272369e-10],\n",
       "       [-9.66473568e-11],\n",
       "       [-8.90006957e-11],\n",
       "       [-8.13327183e-11],\n",
       "       [-7.36438688e-11],\n",
       "       [-6.59343691e-11],\n",
       "       [-5.82046633e-11],\n",
       "       [-5.04551956e-11],\n",
       "       [-4.26860769e-11],\n",
       "       [-3.48979734e-11],\n",
       "       [-2.70911071e-11],\n",
       "       [-1.92658112e-11],\n",
       "       [-1.14225296e-11],\n",
       "       [-3.56170649e-12],\n",
       "       [ 4.31632508e-12],\n",
       "       [ 1.22113430e-11],\n",
       "       [ 2.01227923e-11],\n",
       "       [ 2.80504509e-11],\n",
       "       [ 3.59936525e-11],\n",
       "       [ 4.39521752e-11],\n",
       "       [ 5.19255750e-11],\n",
       "       [ 5.99134076e-11],\n",
       "       [ 6.79154510e-11],\n",
       "       [ 7.59312613e-11],\n",
       "       [ 8.39601721e-11],\n",
       "       [ 9.20021836e-11],\n",
       "       [ 1.00056630e-10],\n",
       "       [ 1.08123288e-10],\n",
       "       [ 1.16201271e-10],\n",
       "       [ 1.24290800e-10],\n",
       "       [ 1.32390987e-10],\n",
       "       [ 1.40501832e-10],\n",
       "       [ 1.48622448e-10],\n",
       "       [ 1.56752611e-10],\n",
       "       [ 1.64891878e-10],\n",
       "       [ 1.73040027e-10],\n",
       "       [ 1.81196391e-10],\n",
       "       [ 1.89360527e-10],\n",
       "       [ 1.97531991e-10],\n",
       "       [ 2.05710560e-10],\n",
       "       [ 2.13895568e-10],\n",
       "       [ 2.22086793e-10],\n",
       "       [ 2.30283348e-10],\n",
       "       [ 2.38485232e-10],\n",
       "       [ 2.46692000e-10],\n",
       "       [ 2.54902766e-10],\n",
       "       [ 2.63117528e-10],\n",
       "       [ 2.71335621e-10],\n",
       "       [ 2.79556600e-10],\n",
       "       [ 2.87780022e-10],\n",
       "       [ 2.96005442e-10],\n",
       "       [ 3.04232195e-10],\n",
       "       [ 3.12460058e-10],\n",
       "       [ 3.20688587e-10],\n",
       "       [ 3.28917116e-10],\n",
       "       [ 3.37145201e-10],\n",
       "       [ 3.45372397e-10],\n",
       "       [ 3.53598262e-10],\n",
       "       [ 3.61822350e-10],\n",
       "       [ 3.70043995e-10],\n",
       "       [ 3.78262976e-10],\n",
       "       [ 3.86478405e-10],\n",
       "       [ 3.94690280e-10],\n",
       "       [ 4.02897715e-10],\n",
       "       [ 4.11100265e-10],\n",
       "       [ 4.19297708e-10],\n",
       "       [ 4.27489377e-10],\n",
       "       [ 4.35674608e-10],\n",
       "       [ 4.43852954e-10],\n",
       "       [ 4.52023974e-10],\n",
       "       [ 4.60187222e-10],\n",
       "       [ 4.68342032e-10],\n",
       "       [ 4.76488182e-10],\n",
       "       [ 4.84624563e-10],\n",
       "       [ 4.92751395e-10],\n",
       "       [ 5.00867570e-10],\n",
       "       [ 5.08972864e-10],\n",
       "       [ 5.17066612e-10],\n",
       "       [ 5.25148147e-10],\n",
       "       [ 5.33217470e-10],\n",
       "       [ 5.41273470e-10],\n",
       "       [ 5.49315704e-10],\n",
       "       [ 5.57343949e-10],\n",
       "       [ 5.65357539e-10],\n",
       "       [ 5.73355585e-10],\n",
       "       [ 5.81338089e-10],\n",
       "       [ 5.89303939e-10],\n",
       "       [ 5.97253136e-10],\n",
       "       [ 6.05184569e-10],\n",
       "       [ 6.13098017e-10],\n",
       "       [ 6.20993035e-10],\n",
       "       [ 6.28868735e-10],\n",
       "       [ 6.36724895e-10],\n",
       "       [ 6.44560405e-10],\n",
       "       [ 6.52375265e-10],\n",
       "       [ 6.60168809e-10],\n",
       "       [ 6.67940148e-10],\n",
       "       [ 6.75688838e-10],\n",
       "       [ 6.83414436e-10],\n",
       "       [ 6.91116275e-10],\n",
       "       [ 6.98793912e-10],\n",
       "       [ 7.06446457e-10],\n",
       "       [ 7.14073467e-10],\n",
       "       [ 7.21674498e-10],\n",
       "       [ 7.29248661e-10],\n",
       "       [ 7.36795736e-10],\n",
       "       [ 7.44314832e-10],\n",
       "       [ 7.51805285e-10],\n",
       "       [ 7.59266872e-10],\n",
       "       [ 7.66698482e-10],\n",
       "       [ 7.74099895e-10],\n",
       "       [ 7.81470444e-10],\n",
       "       [ 7.88809462e-10],\n",
       "       [ 7.96116284e-10],\n",
       "       [ 8.03390465e-10],\n",
       "       [ 8.10631118e-10],\n",
       "       [ 8.17837797e-10],\n",
       "       [ 8.25009838e-10],\n",
       "       [ 8.32146574e-10],\n",
       "       [ 8.39247338e-10],\n",
       "       [ 8.46311909e-10],\n",
       "       [ 8.53338955e-10],\n",
       "       [ 8.60328475e-10],\n",
       "       [ 8.67279359e-10],\n",
       "       [ 8.74191386e-10],\n",
       "       [ 8.81063444e-10],\n",
       "       [ 8.87895313e-10],\n",
       "       [ 8.94686103e-10],\n",
       "       [ 9.01435371e-10],\n",
       "       [ 9.08142228e-10],\n",
       "       [ 9.14806009e-10],\n",
       "       [ 9.21426269e-10],\n",
       "       [ 9.28002342e-10],\n",
       "       [ 9.34533340e-10],\n",
       "       [ 9.41018818e-10],\n",
       "       [ 9.47457890e-10],\n",
       "       [ 9.53850110e-10],\n",
       "       [ 9.60194591e-10],\n",
       "       [ 9.66490887e-10],\n",
       "       [ 9.72738112e-10],\n",
       "       [ 9.78935821e-10],\n",
       "       [ 9.85083126e-10],\n",
       "       [ 9.91179361e-10],\n",
       "       [ 9.97223859e-10],\n",
       "       [ 1.00321618e-09],\n",
       "       [ 1.00915520e-09],\n",
       "       [ 1.01504050e-09],\n",
       "       [ 1.02087139e-09],\n",
       "       [ 1.02664721e-09],\n",
       "       [ 1.03236686e-09],\n",
       "       [ 1.03803011e-09],\n",
       "       [ 1.04363607e-09],\n",
       "       [ 1.04918407e-09],\n",
       "       [ 1.05467346e-09],\n",
       "       [ 1.06010334e-09],\n",
       "       [ 1.06547304e-09],\n",
       "       [ 1.07078213e-09],\n",
       "       [ 1.07602949e-09],\n",
       "       [ 1.08121445e-09],\n",
       "       [ 1.08633658e-09],\n",
       "       [ 1.09139497e-09],\n",
       "       [ 1.09638898e-09],\n",
       "       [ 1.10131770e-09],\n",
       "       [ 1.10618048e-09],\n",
       "       [ 1.11097664e-09],\n",
       "       [ 1.11570531e-09],\n",
       "       [ 1.12036580e-09],\n",
       "       [ 1.12495768e-09],\n",
       "       [ 1.12947984e-09],\n",
       "       [ 1.13393139e-09],\n",
       "       [ 1.13831211e-09],\n",
       "       [ 1.14262089e-09],\n",
       "       [ 1.14685683e-09],\n",
       "       [ 1.15101972e-09],\n",
       "       [ 1.15510823e-09],\n",
       "       [ 1.15912191e-09],\n",
       "       [ 1.16305987e-09],\n",
       "       [ 1.16692145e-09],\n",
       "       [ 1.17070575e-09],\n",
       "       [ 1.17441212e-09],\n",
       "       [ 1.17803967e-09],\n",
       "       [ 1.18158772e-09],\n",
       "       [ 1.18505539e-09],\n",
       "       [ 1.18844223e-09],\n",
       "       [ 1.19174692e-09],\n",
       "       [ 1.19496901e-09],\n",
       "       [ 1.19810784e-09],\n",
       "       [ 1.20116228e-09],\n",
       "       [ 1.20413168e-09],\n",
       "       [ 1.20701538e-09],\n",
       "       [ 1.20981225e-09],\n",
       "       [ 1.21252186e-09],\n",
       "       [ 1.21514310e-09],\n",
       "       [ 1.21767552e-09],\n",
       "       [ 1.22011801e-09],\n",
       "       [ 1.22246990e-09],\n",
       "       [ 1.22473010e-09],\n",
       "       [ 1.22689836e-09],\n",
       "       [ 1.22897337e-09],\n",
       "       [ 1.23095445e-09],\n",
       "       [ 1.23284072e-09],\n",
       "       [ 1.23463151e-09],\n",
       "       [ 1.23632615e-09],\n",
       "       [ 1.23792332e-09],\n",
       "       [ 1.23942256e-09],\n",
       "       [ 1.24082278e-09],\n",
       "       [ 1.24212352e-09],\n",
       "       [ 1.24332367e-09],\n",
       "       [ 1.24442234e-09],\n",
       "       [ 1.24541888e-09],\n",
       "       [ 1.24631216e-09],\n",
       "       [ 1.24710176e-09],\n",
       "       [ 1.24778654e-09],\n",
       "       [ 1.24836563e-09],\n",
       "       [ 1.24883837e-09],\n",
       "       [ 1.24920363e-09],\n",
       "       [ 1.24946076e-09],\n",
       "       [ 1.24960886e-09],\n",
       "       [ 1.24964705e-09],\n",
       "       [ 1.24957444e-09],\n",
       "       [ 1.24939015e-09],\n",
       "       [ 1.24909350e-09],\n",
       "       [ 1.24868316e-09],\n",
       "       [ 1.24815891e-09],\n",
       "       [ 1.24751920e-09],\n",
       "       [ 1.24676358e-09],\n",
       "       [ 1.24589117e-09],\n",
       "       [ 1.24490085e-09],\n",
       "       [ 1.24379174e-09],\n",
       "       [ 1.24256316e-09],\n",
       "       [ 1.24121424e-09],\n",
       "       [ 1.23974386e-09],\n",
       "       [ 1.23815114e-09],\n",
       "       [ 1.23643540e-09],\n",
       "       [ 1.23459554e-09],\n",
       "       [ 1.23263089e-09],\n",
       "       [ 1.23054011e-09],\n",
       "       [ 1.22832255e-09],\n",
       "       [ 1.22597754e-09],\n",
       "       [ 1.22350374e-09],\n",
       "       [ 1.22090049e-09],\n",
       "       [ 1.21816690e-09],\n",
       "       [ 1.21530186e-09],\n",
       "       [ 1.21230448e-09],\n",
       "       [ 1.20917387e-09],\n",
       "       [ 1.20590937e-09],\n",
       "       [ 1.20250965e-09],\n",
       "       [ 1.19897381e-09],\n",
       "       [ 1.19530119e-09],\n",
       "       [ 1.19149068e-09],\n",
       "       [ 1.18754140e-09],\n",
       "       [ 1.18345223e-09],\n",
       "       [ 1.17922250e-09],\n",
       "       [ 1.17485111e-09],\n",
       "       [ 1.17033716e-09],\n",
       "       [ 1.16567955e-09],\n",
       "       [ 1.16087762e-09],\n",
       "       [ 1.15593024e-09],\n",
       "       [ 1.15083632e-09],\n",
       "       [ 1.14559495e-09],\n",
       "       [ 1.14020549e-09],\n",
       "       [ 1.13466658e-09],\n",
       "       [ 1.12897736e-09],\n",
       "       [ 1.12313692e-09],\n",
       "       [ 1.11714438e-09],\n",
       "       [ 1.11099863e-09],\n",
       "       [ 1.10469855e-09],\n",
       "       [ 1.09824350e-09],\n",
       "       [ 1.09163234e-09],\n",
       "       [ 1.08486398e-09],\n",
       "       [ 1.07793752e-09],\n",
       "       [ 1.07085207e-09],\n",
       "       [ 1.06360654e-09],\n",
       "       [ 1.05619979e-09],\n",
       "       [ 1.04863118e-09],\n",
       "       [ 1.04089937e-09],\n",
       "       [ 1.03300346e-09],\n",
       "       [ 1.02494258e-09],\n",
       "       [ 1.01671560e-09],\n",
       "       [ 1.00832143e-09],\n",
       "       [ 9.99759164e-10],\n",
       "       [ 9.91027926e-10],\n",
       "       [ 9.82126380e-10],\n",
       "       [ 9.73053860e-10],\n",
       "       [ 9.63809033e-10],\n",
       "       [ 9.54391233e-10],\n",
       "       [ 9.44799128e-10],\n",
       "       [ 9.35031608e-10],\n",
       "       [ 9.25088006e-10],\n",
       "       [ 9.14966991e-10],\n",
       "       [ 9.04667674e-10],\n",
       "       [ 8.94189167e-10],\n",
       "       [ 8.83529916e-10],\n",
       "       [ 8.72689476e-10],\n",
       "       [ 8.61666516e-10],\n",
       "       [ 8.50459925e-10],\n",
       "       [ 8.39068814e-10],\n",
       "       [ 8.27491853e-10],\n",
       "       [ 8.15728374e-10],\n",
       "       [ 8.03777267e-10],\n",
       "       [ 7.91637200e-10],\n",
       "       [ 7.79307285e-10],\n",
       "       [ 7.66786412e-10],\n",
       "       [ 7.54073470e-10],\n",
       "       [ 7.41167572e-10],\n",
       "       [ 7.28067384e-10],\n",
       "       [ 7.14772241e-10],\n",
       "       [ 7.01280589e-10],\n",
       "       [ 6.87591761e-10],\n",
       "       [ 6.73704426e-10],\n",
       "       [ 6.59617472e-10],\n",
       "       [ 6.45330012e-10],\n",
       "       [ 6.30840713e-10],\n",
       "       [ 6.16148910e-10],\n",
       "       [ 6.01253047e-10],\n",
       "       [ 5.86152238e-10],\n",
       "       [ 5.70845371e-10],\n",
       "       [ 5.55331336e-10],\n",
       "       [ 5.39609024e-10],\n",
       "       [ 5.23677324e-10],\n",
       "       [ 5.07535347e-10],\n",
       "       [ 4.91181540e-10],\n",
       "       [ 4.74615236e-10],\n",
       "       [ 4.57834881e-10],\n",
       "       [ 4.40839809e-10],\n",
       "       [ 4.23628688e-10],\n",
       "       [ 4.06200407e-10],\n",
       "       [ 3.88553856e-10],\n",
       "       [ 3.70687925e-10],\n",
       "       [ 3.52601282e-10],\n",
       "       [ 3.34293260e-10],\n",
       "       [ 3.15762305e-10],\n",
       "       [ 2.97007530e-10],\n",
       "       [ 2.78027601e-10],\n",
       "       [ 2.58821409e-10],\n",
       "       [ 2.39387843e-10],\n",
       "       [ 2.19726015e-10],\n",
       "       [ 1.99834371e-10],\n",
       "       [ 1.79712023e-10],\n",
       "       [ 1.59357860e-10],\n",
       "       [ 1.38770551e-10],\n",
       "       [ 1.17948984e-10],\n",
       "       [ 9.68920499e-11],\n",
       "       [ 7.55984164e-11],\n",
       "       [ 5.40671952e-11],\n",
       "       [ 3.22970539e-11],\n",
       "       [ 1.02868825e-11],\n",
       "       [-1.19644294e-11],\n",
       "       [-3.44582141e-11],\n",
       "       [-5.71954706e-11],\n",
       "       [-8.01775313e-11],\n",
       "       [-1.03405506e-10],\n",
       "       [-1.26880617e-10],\n",
       "       [-1.50603974e-10],\n",
       "       [-1.74576797e-10],\n",
       "       [-1.98800310e-10],\n",
       "       [-2.23275620e-10],\n",
       "       [-2.48003951e-10],\n",
       "       [-2.72986633e-10],\n",
       "       [-2.98224667e-10],\n",
       "       [-3.23719274e-10],\n",
       "       [-3.49471785e-10],\n",
       "       [-3.75483311e-10],\n",
       "       [-4.01755185e-10],\n",
       "       [-4.28288405e-10],\n",
       "       [-4.55084415e-10],\n",
       "       [-4.82144213e-10],\n",
       "       [-5.09469134e-10],\n",
       "       [-5.37060396e-10],\n",
       "       [-5.64919111e-10],\n",
       "       [-5.93046723e-10],\n",
       "       [-6.21444229e-10],\n",
       "       [-6.50113074e-10],\n",
       "       [-6.79054257e-10],\n",
       "       [-7.08269221e-10],\n",
       "       [-7.37759076e-10],\n",
       "       [-7.67525044e-10],\n",
       "       [-7.97568456e-10],\n",
       "       [-8.27890534e-10],\n",
       "       [-8.58492499e-10],\n",
       "       [-8.89375573e-10],\n",
       "       [-9.20541088e-10],\n",
       "       [-9.51990153e-10],\n",
       "       [-9.83724102e-10],\n",
       "       [-1.01574427e-09],\n",
       "       [-1.04805187e-09],\n",
       "       [-1.08064813e-09],\n",
       "       [-1.11353438e-09],\n",
       "       [-1.14671173e-09],\n",
       "       [-1.18018162e-09],\n",
       "       [-1.21394517e-09],\n",
       "       [-1.24800381e-09],\n",
       "       [-1.28235877e-09],\n",
       "       [-1.31701128e-09],\n",
       "       [-1.35196265e-09],\n",
       "       [-1.38721412e-09],\n",
       "       [-1.42276713e-09],\n",
       "       [-1.45862267e-09],\n",
       "       [-1.49478230e-09],\n",
       "       [-1.53124724e-09],\n",
       "       [-1.56801883e-09],\n",
       "       [-1.60509828e-09],\n",
       "       [-1.64248681e-09],\n",
       "       [-1.68018588e-09],\n",
       "       [-1.71819681e-09],\n",
       "       [-1.75652082e-09],\n",
       "       [-1.79515913e-09],\n",
       "       [-1.83411331e-09],\n",
       "       [-1.87338445e-09],\n",
       "       [-1.91297400e-09],\n",
       "       [-1.95288319e-09],\n",
       "       [-1.99311334e-09],\n",
       "       [-2.03366579e-09]])"
      ]
     },
     "execution_count": 224,
     "metadata": {},
     "output_type": "execute_result"
    }
   ],
   "source": [
    "z.T - 1.0"
   ]
  },
  {
   "cell_type": "code",
   "execution_count": null,
   "metadata": {},
   "outputs": [],
   "source": []
  },
  {
   "cell_type": "code",
   "execution_count": 141,
   "metadata": {},
   "outputs": [],
   "source": [
    "root_folder = os.getcwd()\n",
    "plot_folder = os.path.join(root_folder,'plots')\n",
    "data_folder = os.path.join(root_folder,'data')\n",
    "server_folder = os.path.join(root_folder,'data')"
   ]
  },
  {
   "cell_type": "code",
   "execution_count": 142,
   "metadata": {},
   "outputs": [],
   "source": [
    "today = pd.to_datetime(np.datetime64('2020-04-04 00:00:00'))"
   ]
  },
  {
   "cell_type": "code",
   "execution_count": 143,
   "metadata": {},
   "outputs": [],
   "source": [
    "today = pd.to_datetime('today')"
   ]
  },
  {
   "cell_type": "markdown",
   "metadata": {},
   "source": [
    "# Dynamic Survival Analysis for Italy"
   ]
  },
  {
   "cell_type": "code",
   "execution_count": 144,
   "metadata": {},
   "outputs": [],
   "source": [
    "location = 'italy'"
   ]
  },
  {
   "cell_type": "code",
   "execution_count": 145,
   "metadata": {},
   "outputs": [],
   "source": [
    "fname_for_server = location + '_' + today.strftime(\"%m%d\") + '.csv'"
   ]
  },
  {
   "cell_type": "code",
   "execution_count": 146,
   "metadata": {},
   "outputs": [],
   "source": [
    "datafile = 'Italy0413.csv'\n",
    "df_italy = pd.read_csv(os.path.join(data_folder,datafile), parse_dates=[\"time\"])"
   ]
  },
  {
   "cell_type": "code",
   "execution_count": 147,
   "metadata": {},
   "outputs": [
    {
     "name": "stdout",
     "output_type": "stream",
     "text": [
      "2020-02-06 00:00:00\n"
     ]
    }
   ],
   "source": [
    "day0 = pd.to_datetime(df_italy.time.min())\n",
    "print(day0)"
   ]
  },
  {
   "cell_type": "code",
   "execution_count": 148,
   "metadata": {},
   "outputs": [],
   "source": [
    "# get daily counts\n",
    "df_italy_inf = df_italy['cum_confirm'].diff().abs()\n",
    "df_italy_inf[0] = df_italy['cum_confirm'].iloc[0]\n",
    "df_italy['daily_confirm'] = df_italy_inf"
   ]
  },
  {
   "cell_type": "code",
   "execution_count": 149,
   "metadata": {},
   "outputs": [],
   "source": [
    "inf_count = df_italy['cum_confirm'].values\n",
    "death_count = df_italy['cum_dead'].values\n",
    "cure_count = df_italy['cum_heal'].values\n",
    "\n",
    "# get daily recovery counts \n",
    "df_italy_cure = df_italy['cum_heal'].diff().abs()\n",
    "df_italy_cure[0] = df_italy['cum_heal'].iloc[0]\n",
    "df_italy['recovery'] = df_italy_cure\n",
    "\n",
    "# get daily death counts\n",
    "df_italy_death = df_italy['cum_dead'].diff().abs()\n",
    "df_italy_death[0] = df_italy['cum_dead'].iloc[0]\n",
    "df_italy['deaths'] = df_italy_death"
   ]
  },
  {
   "cell_type": "code",
   "execution_count": 150,
   "metadata": {},
   "outputs": [],
   "source": [
    "df_italy.to_csv(os.path.join(server_folder,fname_for_server), index=False)"
   ]
  },
  {
   "cell_type": "code",
   "execution_count": 151,
   "metadata": {},
   "outputs": [],
   "source": [
    "location = 'Italy'  \n",
    "datafile = fname_for_server\n",
    "estimate_gamma = True\n",
    "ifMPI = True\n",
    "ifsmooth = False\n",
    "last_date = pd.to_datetime(np.datetime64('2020-04-13 00:00:00'))\n",
    "burn_in = 5000\n",
    "nChains = 1"
   ]
  },
  {
   "cell_type": "code",
   "execution_count": 152,
   "metadata": {},
   "outputs": [],
   "source": [
    "dsa_dict = {'datafile': datafile,\n",
    "            'location': location,\n",
    "            'plot_folder': today.strftime(\"%m%d\") + '_plots_dsa',\n",
    "            'last_date': last_date,\n",
    "            'estimate_gamma': estimate_gamma,\n",
    "            'ifsmooth': ifsmooth,\n",
    "            'ifMPI': ifMPI}\n",
    "\n",
    "laplace_dict = {'datafile': datafile,\n",
    "                'location': location,\n",
    "                'plot_folder': today.strftime(\"%m%d\") + '_plots_laplace',\n",
    "                'ifMPI': ifMPI,\n",
    "                'last_date': last_date,\n",
    "                'estimate_gamma': estimate_gamma,\n",
    "                'ifsmooth': ifsmooth}\n",
    "\n",
    "ifMPI = False\n",
    "mh_dict = {'datafile': datafile,\n",
    "            'location': location,\n",
    "            'plot_folder': today.strftime(\"%m%d\") + '_plots_mh',\n",
    "            'ifMPI': ifMPI,\n",
    "            'last_date': last_date,\n",
    "            'estimate_gamma': estimate_gamma,\n",
    "            'ifsmooth': ifsmooth,\n",
    "            'burn_in': burn_in,\n",
    "            'nChains': nChains}\n",
    "\n",
    "fname = 'dsa_dict' + today.strftime(\"%m%d\") + '.pkl'\n",
    "f = open(os.path.join(server_folder, fname),\"wb\")\n",
    "pickle.dump(dsa_dict,f)\n",
    "f.close()\n",
    "\n",
    "fname = 'laplace_dict' + today.strftime(\"%m%d\") + '.pkl'\n",
    "f = open(os.path.join(server_folder, fname),\"wb\")\n",
    "pickle.dump(laplace_dict,f)\n",
    "f.close()\n",
    "\n",
    "fname = 'mh_dict' + today.strftime(\"%m%d\") + '.pkl'\n",
    "f = open(os.path.join(data_folder,fname),\"wb\")\n",
    "pickle.dump(mh_dict,f)\n",
    "f.close()"
   ]
  },
  {
   "cell_type": "code",
   "execution_count": 153,
   "metadata": {},
   "outputs": [
    {
     "data": {
      "text/plain": [
       "{'datafile': 'italy_0421.csv',\n",
       " 'location': 'Italy',\n",
       " 'plot_folder': '0421_plots_laplace',\n",
       " 'ifMPI': True,\n",
       " 'last_date': Timestamp('2020-04-13 00:00:00'),\n",
       " 'estimate_gamma': True,\n",
       " 'ifsmooth': False}"
      ]
     },
     "execution_count": 153,
     "metadata": {},
     "output_type": "execute_result"
    }
   ],
   "source": [
    "laplace_dict"
   ]
  },
  {
   "cell_type": "code",
   "execution_count": 154,
   "metadata": {},
   "outputs": [
    {
     "name": "stdout",
     "output_type": "stream",
     "text": [
      "Generating infection times by uniformly distributing throughout each day from actual daily counts\n",
      "\n"
     ]
    }
   ],
   "source": [
    "## smoothing counts\n",
    "df_italy[\"rolling_mean\"] = df_italy.daily_confirm.rolling(window=3).mean()\n",
    "df_italy[\"rolling_mean\"] = df_italy.apply(lambda dd: dd.daily_confirm if np.isnan(dd.rolling_mean)\n",
    "                                                   else dd.rolling_mean, axis=1)\n",
    "\n",
    "if ifsmooth:\n",
    "    print('Generating infection times by uniformly distributing throughout each day from smoothed daily counts\\n')\n",
    "    infection_data = list(\n",
    "        i + rand.uniform() for i, y in enumerate(df_italy['rolling_mean'].values) for z in range(y.astype(int)))\n",
    "    df = pd.DataFrame(infection_data, index=range(len(infection_data)), columns=['infection'])\n",
    "else:\n",
    "    print('Generating infection times by uniformly distributing throughout each day from actual daily counts\\n')\n",
    "    infection_data = list(\n",
    "        i + rand.uniform() for i, y in enumerate(df_italy['daily_confirm'].values) for z in range(y.astype(int)))\n",
    "    df = pd.DataFrame(infection_data,index=range(len(infection_data)),columns=['infection'])\n"
   ]
  },
  {
   "cell_type": "code",
   "execution_count": 155,
   "metadata": {},
   "outputs": [],
   "source": [
    "## set up prior\n",
    "a = expon(scale=0.4)\n",
    "b = expon(scale=0.6)\n",
    "c = expon(scale=1E-5)\n",
    "p = [a,b,c]"
   ]
  },
  {
   "cell_type": "code",
   "execution_count": 156,
   "metadata": {},
   "outputs": [
    {
     "name": "stdout",
     "output_type": "stream",
     "text": [
      "[0.7656831183574525, 0.5642816575798797, 0.0005454640519013106]\n"
     ]
    }
   ],
   "source": [
    "plot_T = 150\n",
    "N = min(500,df_italy['cum_confirm'].iloc[-1])\n",
    "n = 40\n",
    "bounds = [(0.3,0.50),(0.51,0.70),(1E-9,1E-3)]\n",
    "\n",
    "#a_prior = expon(scale=0.4)\n",
    "#b_prior = expon(scale=0.6)\n",
    "#c_prior = expon(scale=1E-5)\n",
    "a_prior = uniform(loc=bounds[0][0], scale=bounds[0][1])\n",
    "b_prior = uniform(loc=bounds[1][0], scale=bounds[1][1])\n",
    "c_prior = uniform(loc=bounds[2][0], scale=bounds[2][1])\n",
    "p = [a_prior, b_prior, c_prior]\n",
    "\n",
    "ic = [a_prior.rvs(), b_prior.rvs(), c_prior.rvs()]\n",
    "print(ic)\n",
    "\n",
    "epiT = Epidemic(file_or_df=df,bounds=bounds,abc=tuple(ic),plot_T=plot_T, p=p)"
   ]
  },
  {
   "cell_type": "code",
   "execution_count": 157,
   "metadata": {},
   "outputs": [
    {
     "data": {
      "text/plain": [
       "58030153.64111174"
      ]
     },
     "execution_count": 157,
     "metadata": {},
     "output_type": "execute_result"
    }
   ],
   "source": [
    "epiT.n"
   ]
  },
  {
   "cell_type": "code",
   "execution_count": 159,
   "metadata": {},
   "outputs": [
    {
     "name": "stderr",
     "output_type": "stream",
     "text": [
      "/Users/khudabukhsh.2/Dropbox/COVID-19-Caleb/python/wasiur/dynamic_survival_analysis/epidemiccore_w.py:1852: RuntimeWarning: divide by zero encountered in double_scalars\n",
      "  Theta[1] = Theta[1] + d\n",
      "/Users/khudabukhsh.2/Dropbox/COVID-19-Caleb/python/wasiur/dynamic_survival_analysis/epidemiccore_w.py:1862: RuntimeWarning: divide by zero encountered in double_scalars\n",
      "  Theta = np.copy(theta)\n",
      "/Users/khudabukhsh.2/Dropbox/COVID-19-Caleb/python/wasiur/dynamic_survival_analysis/epidemiccore_w.py:1873: RuntimeWarning: divide by zero encountered in double_scalars\n",
      "  \n"
     ]
    },
    {
     "name": "stdout",
     "output_type": "stream",
     "text": [
      "Parameter    Name                                   MLE  Mean      StdErr\n",
      "-----------  ------------------------  ----------------  ------  --------\n",
      "T            final time                    68\n",
      "a            beta+gamma+delta               0.5                       inf\n",
      "b            beta*mu                        0.564282                  inf\n",
      "c            beta*mu*rho                    0.000545464               inf\n",
      "R0           R-naught                       1.12856\n",
      "rho          initial fraction I             0.000966652\n",
      "tau          epidemic size                  0.225772\n",
      "1-S(T)       rescaling                      0.173815\n",
      "n            #S+#I                     899594\n",
      "kT           #I(T)                     156363\n",
      "sT           #S(T)                     743231\n",
      "kinfty       #I(infty)                 203103\n",
      "sinfty       #S(infty)                 696491\n",
      "1/rho        initial total population    1034.5\n",
      "gamma        recovery rate\n",
      "offset       shift parameter\n"
     ]
    },
    {
     "data": {
      "text/plain": [
       "<epidemiccore_w.Epidemic at 0x1a2ee70c18>"
      ]
     },
     "execution_count": 159,
     "metadata": {},
     "output_type": "execute_result"
    }
   ],
   "source": [
    "#epiT.laplace_fit(N=N, summary = True)\n",
    "epiT.fit(N=N, summary = True)"
   ]
  },
  {
   "cell_type": "code",
   "execution_count": 191,
   "metadata": {},
   "outputs": [
    {
     "data": {
      "text/plain": [
       "(1e-09, 0.001)"
      ]
     },
     "execution_count": 191,
     "metadata": {},
     "output_type": "execute_result"
    }
   ],
   "source": [
    "epiT.boundc"
   ]
  },
  {
   "cell_type": "code",
   "execution_count": 194,
   "metadata": {},
   "outputs": [
    {
     "name": "stdout",
     "output_type": "stream",
     "text": [
      "      fun: array([574846.6217271])\n",
      " hess_inv: <3x3 LbfgsInvHessProduct with dtype=float64>\n",
      "      jac: array([   403.0065611 ,    763.40511441, 108042.91814566])\n",
      "  message: b'CONVERGENCE: REL_REDUCTION_OF_F_<=_FACTR*EPSMCH'\n",
      "     nfev: 152\n",
      "      nit: 16\n",
      "   status: 0\n",
      "  success: True\n",
      "        x: array([3.85771538e-01, 5.35325373e-01, 5.94802665e-05])\n"
     ]
    }
   ],
   "source": [
    "x0 = [0.24, 0.66, 1e-4]\n",
    "bounds = [[0.01, 1.0], [0.01,1.0], [1e-9, 1e-3]]\n",
    "objfxn = lambda theta: log_data_likelihood(df, theta)\n",
    "minobj = minimize(objfxn, x0= tuple(x0),\n",
    "        bounds=bounds)\n",
    "print(minobj)\n",
    "a, b, rho = minobj.x "
   ]
  },
  {
   "cell_type": "code",
   "execution_count": 196,
   "metadata": {},
   "outputs": [
    {
     "name": "stdout",
     "output_type": "stream",
     "text": [
      "1.387674622393993\n",
      "3.1841295890499035e-05\n"
     ]
    }
   ],
   "source": [
    "R0 = b/a\n",
    "c = b * rho\n",
    "print(R0)\n",
    "print(c)"
   ]
  },
  {
   "cell_type": "code",
   "execution_count": null,
   "metadata": {},
   "outputs": [],
   "source": [
    "poisson_ode_fun(1e-28, 0.1, abc=(0.3,0.78,1e-1))"
   ]
  },
  {
   "cell_type": "code",
   "execution_count": null,
   "metadata": {},
   "outputs": [],
   "source": [
    "sol = euler1d(poisson_ode_fun, epiT.t, abc=(0.24, 0.85, 1e-6))"
   ]
  },
  {
   "cell_type": "code",
   "execution_count": null,
   "metadata": {},
   "outputs": [],
   "source": [
    "f = plt.figure()\n",
    "plt.plot(sol)"
   ]
  },
  {
   "cell_type": "code",
   "execution_count": null,
   "metadata": {},
   "outputs": [],
   "source": [
    "epiT.fit(N=N, summary=True)"
   ]
  },
  {
   "cell_type": "code",
   "execution_count": null,
   "metadata": {},
   "outputs": [],
   "source": [
    "epiT.laplace_objfxn([0.4,0.6, 1E-5])"
   ]
  },
  {
   "cell_type": "code",
   "execution_count": null,
   "metadata": {},
   "outputs": [],
   "source": [
    "f = plt.figure()\n",
    "plt.plot(epiT.t,compute_density(epiT, epiT.theta))"
   ]
  },
  {
   "cell_type": "markdown",
   "metadata": {},
   "source": [
    "## Fitted parameters"
   ]
  },
  {
   "cell_type": "code",
   "execution_count": null,
   "metadata": {},
   "outputs": [],
   "source": [
    "fname = \"fitted_parms_\" + today.strftime(\"%m%d\") + '.csv' \n",
    "fitted_parms = pd.read_csv(os.path.join('Italy',fname))\n",
    "fitted_parms"
   ]
  },
  {
   "cell_type": "code",
   "execution_count": null,
   "metadata": {},
   "outputs": [],
   "source": [
    "temp = np.zeros((3, np.size(fitted_parms,0)), dtype=np.float)\n",
    "temp[0] = fitted_parms.a.values\n",
    "temp[1] = fitted_parms.b.values\n",
    "temp[2] = fitted_parms.c.values\n",
    "mean_estimates = np.mean(fitted_parms, axis=0)\n",
    "s = np.std(fitted_parms, axis=0)\n",
    "theta = np.mean(temp,axis=1)\n",
    "cov = np.cov(temp)\n",
    "print('The mean values of the posterior samples are\\n')\n",
    "print(mean_estimates)\n",
    "\n",
    "print('The standard deviations of the posterior samples are\\n')\n",
    "print(s)\n",
    "\n",
    "print('The estimated covariance matrix is\\n')\n",
    "print(cov)"
   ]
  },
  {
   "cell_type": "code",
   "execution_count": null,
   "metadata": {},
   "outputs": [],
   "source": [
    "f = plt.figure()\n",
    "plt.hist(fitted_parms.a.values, bins=10)\n",
    "\n",
    "g = plt.figure()\n",
    "plt.hist(fitted_parms.b.values, bins=10)"
   ]
  },
  {
   "cell_type": "code",
   "execution_count": null,
   "metadata": {},
   "outputs": [],
   "source": [
    "samples = fitted_parms[['a','b', 'c']].to_numpy()"
   ]
  },
  {
   "cell_type": "code",
   "execution_count": null,
   "metadata": {},
   "outputs": [],
   "source": [
    "nDays = 150\n",
    "dates = pd.DataFrame({'d':[day0 + pd.DateOffset(i) for i in np.arange(nDays)]})\n",
    "\n",
    "nSim = 5000\n",
    "samples = parm_sample_correlated(theta,cov,nSim)\n",
    "samples"
   ]
  },
  {
   "cell_type": "code",
   "execution_count": null,
   "metadata": {},
   "outputs": [],
   "source": [
    "fname = location + '_epi_' + today.strftime(\"%m%d\") + '.pkl'\n",
    "epiT = pickle.load(open(os.path.join('Italy', fname), \"rb\"))"
   ]
  },
  {
   "cell_type": "code",
   "execution_count": null,
   "metadata": {},
   "outputs": [],
   "source": [
    "fig_density = plot_density_fit_posterior(epiT, samples)\n",
    "fname = location + 'Tfinaldensity' + today.strftime(\"%m%d\")\n",
    "fig_save(fig_density, plot_folder, fname)"
   ]
  },
  {
   "cell_type": "code",
   "execution_count": null,
   "metadata": {},
   "outputs": [],
   "source": [
    "fname = location + 'predictions_' + today.strftime(\"%m%d\")\n",
    "#fname = 'test'\n",
    "predictions = predict(epiT, samples, df_italy, dates, plot_folder, fname)"
   ]
  },
  {
   "cell_type": "code",
   "execution_count": null,
   "metadata": {},
   "outputs": [],
   "source": [
    "def peak_s(s, abc):\n",
    "    a, b, c = abc\n",
    "    L = a + b + c \n",
    "    return L - 2 * b * s + a * np.log(s, dtype=np.float64)\n",
    "\n",
    "def peak_t(t, abc):\n",
    "    a, b, c = abc\n",
    "    L = a + b + c\n",
    "    sol = euler1d(poisson_ode_fun, epiT.t, abc=tuple(epiT.theta))\n",
    "    S = interp1d(epiT.t, sol) \n",
    "    x = sc.optimize.broyden1(lambda s: peak_s(s, abc), [0.5], f_tol=1e-14)\n",
    "    return S(t) - x"
   ]
  },
  {
   "cell_type": "code",
   "execution_count": null,
   "metadata": {},
   "outputs": [],
   "source": [
    "x = sc.optimize.broyden1(peak_s, [0.5], f_tol=1e-14)"
   ]
  },
  {
   "cell_type": "code",
   "execution_count": null,
   "metadata": {},
   "outputs": [],
   "source": [
    "peak_time = sc.optimize.broyden1(lambda t: peak_t(t, epiT.theta), [40.5], f_tol=1e-14)"
   ]
  },
  {
   "cell_type": "code",
   "execution_count": null,
   "metadata": {},
   "outputs": [],
   "source": [
    "peak_times = peak_time_hist(samples)"
   ]
  },
  {
   "cell_type": "code",
   "execution_count": null,
   "metadata": {},
   "outputs": [],
   "source": [
    "fname = 'peaktime_hist' + today.strftime(\"%m%d\")\n",
    "fig = plt.figure()\n",
    "plt.hist(peak_times, bins=20, density=True, color=myColours['tud3a'].get_rgb())\n",
    "fig_save(fig, plot_folder, fname)"
   ]
  },
  {
   "cell_type": "code",
   "execution_count": null,
   "metadata": {},
   "outputs": [],
   "source": [
    "def peak_time_hist(samples):\n",
    "    peak_times = np.zeros(np.size(samples, axis=0), dtype=np.float64)\n",
    "    for i in range(np.size(samples, axis=0)):\n",
    "        peak_times[i] = sc.optimize.broyden1(lambda t: peak_t(t, samples[i]), [40.5], f_tol=1e-14)\n",
    "    return peak_times"
   ]
  },
  {
   "cell_type": "markdown",
   "metadata": {},
   "source": [
    "## Recovery times"
   ]
  },
  {
   "cell_type": "code",
   "execution_count": null,
   "metadata": {},
   "outputs": [],
   "source": [
    "print('Generating recovery times by uniformly distributing throughout each day')\n",
    "recovery_data = list(\n",
    "    i + rand.uniform() for i, y in enumerate(df_italy['recovery'].values + df_italy['deaths'].values) for z in\n",
    "    range(y.astype(int)))\n",
    "df_recovery = pd.DataFrame(recovery_data, index=range(len(recovery_data)), columns=['recovery'])"
   ]
  },
  {
   "cell_type": "code",
   "execution_count": null,
   "metadata": {},
   "outputs": [],
   "source": [
    "fname = location + \"_gamma_fitted_\" + today.strftime(\"%m%d\") + \".csv\"\n",
    "fitted_recovery_params = pd.read_csv(os.path.join('Italy', fname))\n",
    "fitted_recovery_params"
   ]
  },
  {
   "cell_type": "code",
   "execution_count": null,
   "metadata": {},
   "outputs": [],
   "source": [
    "temp = np.zeros((2, np.size(fitted_recovery_params,0)), dtype=np.float)\n",
    "temp[0] = fitted_recovery_params.gamma.values\n",
    "temp[1] = fitted_recovery_params.offset.values\n",
    "\n",
    "recov_mean_estimates = np.mean(fitted_recovery_params, axis=0)\n",
    "recov_s = np.std(fitted_recovery_params, axis=0)\n",
    "recov_theta = np.mean(temp,axis=1)\n",
    "recov_cov = np.cov(temp)\n",
    "print('The mean values of the posterior samples are\\n')\n",
    "print(recov_mean_estimates)\n",
    "\n",
    "print('The standard deviations of the posterior samples are\\n')\n",
    "print(recov_s)\n",
    "\n",
    "print('The estimated covariance matrix is\\n')\n",
    "print(recov_cov)"
   ]
  },
  {
   "cell_type": "code",
   "execution_count": null,
   "metadata": {},
   "outputs": [],
   "source": [
    "fig = plt.figure()\n",
    "plt.hist(fitted_recovery_params.gamma.values, bins=25, density=True)"
   ]
  },
  {
   "cell_type": "code",
   "execution_count": null,
   "metadata": {},
   "outputs": [],
   "source": [
    "fig = plt.figure()\n",
    "plt.hist(fitted_recovery_params.offset.values, bins=25, density=True)"
   ]
  },
  {
   "cell_type": "code",
   "execution_count": null,
   "metadata": {},
   "outputs": [],
   "source": [
    "nSim = 100\n",
    "recov_parm_samples = parm_sample_correlated(recov_theta,recov_cov,nSim)\n",
    "recov_parm_samples"
   ]
  },
  {
   "cell_type": "code",
   "execution_count": null,
   "metadata": {},
   "outputs": [],
   "source": [
    "bounds=[(1.0 / 25, 1.0 / 5), (-10, 0)] \n",
    "approach='offset'\n",
    "\n",
    "density_gamma = recovery_density_fit(epiT, df_recovery, recov_parm_samples)"
   ]
  },
  {
   "cell_type": "code",
   "execution_count": null,
   "metadata": {},
   "outputs": [],
   "source": [
    "fname = location + \"recoverydensity\" + today.strftime(\"%m%d\") \n",
    "fig_save(density_gamma, plot_folder, fname)"
   ]
  },
  {
   "cell_type": "code",
   "execution_count": null,
   "metadata": {},
   "outputs": [],
   "source": [
    "np.size(recov_parm_samples,0)"
   ]
  },
  {
   "cell_type": "code",
   "execution_count": null,
   "metadata": {},
   "outputs": [],
   "source": []
  },
  {
   "cell_type": "code",
   "execution_count": null,
   "metadata": {},
   "outputs": [],
   "source": []
  },
  {
   "cell_type": "code",
   "execution_count": null,
   "metadata": {},
   "outputs": [],
   "source": []
  },
  {
   "cell_type": "code",
   "execution_count": null,
   "metadata": {},
   "outputs": [],
   "source": []
  },
  {
   "cell_type": "code",
   "execution_count": null,
   "metadata": {},
   "outputs": [],
   "source": []
  },
  {
   "cell_type": "code",
   "execution_count": null,
   "metadata": {},
   "outputs": [],
   "source": []
  },
  {
   "cell_type": "code",
   "execution_count": null,
   "metadata": {},
   "outputs": [],
   "source": []
  },
  {
   "cell_type": "code",
   "execution_count": null,
   "metadata": {},
   "outputs": [],
   "source": []
  },
  {
   "cell_type": "code",
   "execution_count": null,
   "metadata": {},
   "outputs": [],
   "source": []
  },
  {
   "cell_type": "code",
   "execution_count": null,
   "metadata": {},
   "outputs": [],
   "source": []
  },
  {
   "cell_type": "code",
   "execution_count": null,
   "metadata": {},
   "outputs": [],
   "source": []
  },
  {
   "cell_type": "code",
   "execution_count": null,
   "metadata": {},
   "outputs": [],
   "source": [
    "estimate_gamma_sample(epiT, epiT.theta, df_recovery = df_recovery, N=N, x0=(0.1, -5),\n",
    "                                       bounds=[(1.0 / 25, 1.0 / 5), (-10, 0)], approach='offset')"
   ]
  },
  {
   "cell_type": "code",
   "execution_count": null,
   "metadata": {},
   "outputs": [],
   "source": [
    "def estimate_gamma_sample(epi, sample, df_recovery, N,x0,bounds,approach='gamma'):\n",
    "    # solve the system over the relevant timespan\n",
    "    S0 = [1.0]\n",
    "    t = epi.plot_T\n",
    "    if approach == 'offset':\n",
    "        t += bounds[1][1]\n",
    "    tt = np.linspace(0,t,1000)\n",
    "    sol = odeint(Epidemic.Deriv_S, S0, tt, args=tuple(sample))\n",
    "    S = interp1d(tt,sol[:,0])\n",
    "    Scure = S\n",
    "    Tcure = np.ceil(df_recovery['recovery'].max())\n",
    "    datacure = df_recovery['recovery'].sample(N,replace=True).values\n",
    "\n",
    "    if approach == 'offset':\n",
    "        bounds_gamma = bounds\n",
    "        # perform optimization\n",
    "        gamma, offset = minimize(\n",
    "            epi.negloglikelihood_gammaoffset,\n",
    "            x0=x0,\n",
    "            bounds=bounds_gamma,\n",
    "            options={'disp': False, 'maxiter':3}\n",
    "        ).x\n",
    "    elif approach == 'prior':\n",
    "        # perform optimization\n",
    "        bounds_gamma = bounds\n",
    "        offset = 0\n",
    "        # perform optimization\n",
    "        alpha, beta = minimize(\n",
    "            epi.negloglikelihood_alphabeta,\n",
    "            x0=x0,\n",
    "            bounds=bounds_gamma,\n",
    "            options={'disp': False, 'maxiter':3}\n",
    "        ).x\n",
    "        gamma = alpha * beta\n",
    "    elif approach == 'gamma':\n",
    "        offset = 0\n",
    "        bounds_gamma = bounds\n",
    "        # perform optimization\n",
    "        gamma, = minimize(\n",
    "            epi.negloglikelihood_gamma,\n",
    "            x0=x0,\n",
    "            bounds=bounds_gamma,\n",
    "            options={'disp': False, 'maxiter':3}\n",
    "        ).x\n",
    "    return gamma, offset\n"
   ]
  },
  {
   "cell_type": "code",
   "execution_count": null,
   "metadata": {},
   "outputs": [],
   "source": [
    "def recovery_density_fit(epi, df_recovery, samples):  \n",
    "    nSamples = np.size(samples, axis=0)\n",
    "    S0 = [1.0]\n",
    "    t = epi.plot_T\n",
    "    if approach == 'offset':\n",
    "        t += bounds[1][1]\n",
    "    tt = np.linspace(0,t,1000)\n",
    "    sol = euler1d(poisson_ode_fun, tt, abc=tuple(epi.theta))\n",
    "    S = interp1d(tt, sol)     \n",
    "    Scure = S\n",
    "    Tcure = np.ceil(df_recovery['recovery'].max())\n",
    "    datacure = df_recovery['recovery'].sample(N,replace=True).values    \n",
    "    s = np.linspace(Tcure/100, Tcure,100).tolist()\n",
    "    s_ = np.asarray([0]+s)\n",
    "    \n",
    "    mirrored_data = (2*Tcure - df_recovery['recovery'].values).tolist()\n",
    "    combined_data = df_recovery['recovery'].values.tolist() + mirrored_data\n",
    "    dense = gaussian_kde(combined_data)\n",
    "    denseval = [0]+list(dense(u)*2 for u in s[1:])\n",
    "    cumdensity_data = cumtrapz(denseval,s,initial=0)\n",
    "    cumdensity_data /= cumdensity_data[-1]\n",
    "    ind3 = np.argmax(cumdensity_data>0.001)\n",
    "    ind4 = np.argmax(cumdensity_data>0.999)\n",
    "    fig = plt.figure()\n",
    "    for idx in range(nSamples):\n",
    "        gamma, offset = samples[idx]\n",
    "        vals = np.asarray([0]+list(epi.proper_density_recovery(u, gamma,offset=offset) for u in s))     \n",
    "        cumdensity_model = cumtrapz(vals,s_,initial=0)\n",
    "        cumdensity_model /= cumdensity_model[-1]\n",
    "        ind1 = np.argmax(cumdensity_model>0.001)\n",
    "        ind2 = np.argmax(cumdensity_model>0.999)\n",
    "        low = min(ind1,ind3)\n",
    "        high = max(ind2,ind4)\n",
    "        plt.plot(s_[low:high+1],vals[low:high+1],'-', color= myColours['tud7a'].get_rgb(), lw=1.5, alpha = 0.5)\n",
    "        \n",
    "    vals = np.asarray([0]+list(epi.proper_density_recovery(u, epi.gamma,offset=epi.offset) for u in s))     \n",
    "    cumdensity_model = cumtrapz(vals,s_,initial=0)\n",
    "    cumdensity_model /= cumdensity_model[-1]\n",
    "    ind1 = np.argmax(cumdensity_model>0.001)\n",
    "    ind2 = np.argmax(cumdensity_model>0.999)\n",
    "    low = min(ind1,ind3)\n",
    "    high = max(ind2,ind4)\n",
    "    plt.plot(s_[low:high+1],vals[low:high+1],'-', color= myColours['tud7d'].get_rgb(), lw=3, alpha = 0.5)\n",
    "\n",
    "    plt.plot(s[low:high+1],denseval[low:high+1],'-', color = myColours['tud2d'].get_rgb(), lw=3)\n",
    "    plt.xlabel('t')\n",
    "    plt.ylabel('Probability')\n",
    "    plt.axvline(x=epi.Tcure,color=myColours['tud11d'].get_rgb(),linestyle='-')\n",
    "\n",
    "    return fig"
   ]
  },
  {
   "cell_type": "code",
   "execution_count": null,
   "metadata": {},
   "outputs": [],
   "source": [
    "epiT.offset"
   ]
  },
  {
   "cell_type": "code",
   "execution_count": null,
   "metadata": {},
   "outputs": [],
   "source": []
  },
  {
   "cell_type": "code",
   "execution_count": null,
   "metadata": {},
   "outputs": [],
   "source": []
  },
  {
   "cell_type": "code",
   "execution_count": null,
   "metadata": {},
   "outputs": [],
   "source": []
  },
  {
   "cell_type": "code",
   "execution_count": null,
   "metadata": {},
   "outputs": [],
   "source": [
    "plot_T = 150\n",
    "N = min(2000,df_italy['cum_confirm'].iloc[-1])\n",
    "n = 40\n",
    "bounds = [(0.3,0.5),(0.5,0.7),(1E-9,1E-1)]\n",
    "\n",
    "epiT = Epidemic(file_or_df=df,bounds=bounds,abc=tuple(theta),plot_T=plot_T)"
   ]
  },
  {
   "cell_type": "code",
   "execution_count": null,
   "metadata": {},
   "outputs": [],
   "source": []
  },
  {
   "cell_type": "code",
   "execution_count": null,
   "metadata": {},
   "outputs": [],
   "source": []
  },
  {
   "cell_type": "code",
   "execution_count": null,
   "metadata": {},
   "outputs": [],
   "source": []
  },
  {
   "cell_type": "code",
   "execution_count": null,
   "metadata": {},
   "outputs": [],
   "source": []
  },
  {
   "cell_type": "code",
   "execution_count": null,
   "metadata": {},
   "outputs": [],
   "source": []
  },
  {
   "cell_type": "code",
   "execution_count": null,
   "metadata": {},
   "outputs": [],
   "source": []
  },
  {
   "cell_type": "code",
   "execution_count": null,
   "metadata": {},
   "outputs": [],
   "source": [
    "epiT.fit(N=N, summary=True)"
   ]
  },
  {
   "cell_type": "code",
   "execution_count": null,
   "metadata": {},
   "outputs": [],
   "source": [
    "fname = location + 'Tfinaldensity' + today.strftime(\"%m%d\")\n",
    "fig_save(fig_density, plot_folder, fname)"
   ]
  },
  {
   "cell_type": "code",
   "execution_count": null,
   "metadata": {},
   "outputs": [],
   "source": [
    "def estimate_n(df, theta):\n",
    "    epi = Epidemic(file_or_df = df, abc=theta)\n",
    "    return epi.n"
   ]
  },
  {
   "cell_type": "code",
   "execution_count": null,
   "metadata": {},
   "outputs": [],
   "source": [
    "estimate_n(epiT.df, [0.4, 0.6, 1E-6])"
   ]
  },
  {
   "cell_type": "code",
   "execution_count": null,
   "metadata": {},
   "outputs": [],
   "source": [
    "def predict(epi, samples, ohio_df, dates, Plot_Folder, fname):\n",
    "    nSamples = np.size(samples,axis=0)\n",
    "    nDays = len(dates)\n",
    "    time_points = np.arange(nDays)\n",
    "    mean = np.zeros((nSamples, nDays), dtype=np.float)\n",
    "    mean_daily = np.zeros((nSamples, nDays), dtype=np.float)\n",
    "    theta = np.mean(samples,axis=0)\n",
    "    n = epi.n\n",
    "   # n = np.mean(diagnostics(tuple(theta), ohio_df))\n",
    "    fig = plt.figure()\n",
    "    for i in range(nSamples):\n",
    "        S0 = [1]\n",
    "        n = estimate_n(epi.df, samples[i])\n",
    "#         n = np.mean(diagnostics(tuple(samples[i]), ohio_df))\n",
    "        sol = odeint(Epidemic.Deriv_S, S0, time_points, args=tuple(samples[i]))\n",
    "        S = interp1d(time_points, sol[:, 0])\n",
    "        mean[i] = np.asarray(list(n * (1 - S(x)) for x in time_points))\n",
    "        mean[i][0] = 1\n",
    "        mean_daily[i] = np.append(mean[i][0], np.diff(mean[i]))\n",
    "        l1, = plt.plot(dates['d'].dt.date, mean[i], '-', color=myColours['tud2b'].get_rgb(), lw=1, alpha=0.05)\n",
    "        # l1nd = plt.plot(dates['d'].dt.date, mean_nd[i], '-', color=myColours['tud7a'].get_rgb(), lw=1, alpha=0.05)\n",
    "\n",
    "    m_ = np.int64(np.ceil(np.mean(mean, axis=0)))\n",
    "    l = np.int64(np.ceil(np.quantile(mean, q= 0.025, axis=0)))\n",
    "    h = np.int64(np.ceil(np.quantile(mean, q= 0.975, axis=0)))\n",
    "\n",
    "    S0 = [1]\n",
    "    n = estimate_n(epi.df, epi.theta)\n",
    "   # n = np.mean(diagnostics(tuple(theta), ohio_df))\n",
    "\n",
    "    sol = odeint(Epidemic.Deriv_S, S0, time_points, args=tuple(theta))\n",
    "    S = interp1d(time_points, sol[:, 0])\n",
    "    m = np.asarray(list(n * (1 - S(x)) for x in time_points))\n",
    "    l2 = plt.plot(dates['d'].dt.date, m, '-', color=myColours['tud1d'].get_rgb(), lw=3)\n",
    "#     l2_, = plt.plot(dates['d'].dt.date, m_, '-', color=myColours['tud1d'].get_rgb(), lw=3, label='With mitigation')\n",
    "    l3 = plt.plot(dates['d'].dt.date, l, '--', color=myColours['tud1d'].get_rgb(), lw=1)\n",
    "    l4 = plt.plot(dates['d'].dt.date, h, '--', color=myColours['tud1d'].get_rgb(), lw=1)\n",
    "    l5 = plt.fill_between(dates['d'].dt.date, l, h, alpha=.1, color=myColours['tud1a'].get_rgb())\n",
    "\n",
    "    l6 = plt.axvline(x=ohio_df['time'].max(), color=myColours['tud7d'].get_rgb(), linestyle='--')\n",
    "    l6 = plt.axvline(x=ohio_df['time'][epi.T - 1], color=myColours['tud7a'].get_rgb(), linestyle='-')\n",
    "    l7 = plt.plot(ohio_df['time'].values, ohio_df['cum_confirm'].values, '-', color=myColours['tud7d'].get_rgb(), lw=3)\n",
    "    plt.xlabel('Dates')\n",
    "    plt.ylabel('Cumulative infections')\n",
    "    # plt.legend(handles=[l2nd_, l2_])\n",
    "#     plt.legend((l2_,l2nd_), ('Mean with mitigation', 'Mean without mitigation'))\n",
    "    fig_save(fig, Plot_Folder, fname)\n",
    "\n",
    "    fname_ = fname + '_daily_new'\n",
    "    fig = plt.figure()\n",
    "    for i in range(nSamples):\n",
    "        # l1nd = plt.plot(dates['d'].dt.date, mean_nd_daily[i], '-', color=myColours['tud7b'].get_rgb(), lw=1, alpha=0.05)\n",
    "        l1 = plt.plot(dates['d'].dt.date, mean_daily[i], '-', color=myColours['tud2b'].get_rgb(), lw=1, alpha=0.05)\n",
    "    m_daily = np.append(m[0], np.diff(m))\n",
    "    # m_nd_daily = np.append(m_nd[0], np.diff(m_nd))\n",
    "    # l2nd, = plt.plot(dates['d'].dt.date, m_nd_daily, '-', color=myColours['tud7d'].get_rgb(), lw=3, label='Without mitigation')\n",
    "    l2, = plt.plot(dates['d'].dt.date, m_daily, '-', color=myColours['tud1d'].get_rgb(), lw=3, label='With mitigation')\n",
    "    l6 = plt.axvline(x=ohio_df['time'].max(), color=myColours['tud7d'].get_rgb(), linestyle='--')\n",
    "    l6 = plt.axvline(x=ohio_df['time'][epi.T - 1], color=myColours['tud7a'].get_rgb(), linestyle='-')\n",
    "    # l7 = plt.plot(df_ohio['time'].values, df_ohio['daily_confirm'].values, color=myColours['tud11d'].get_rgb(), lw=3)\n",
    "    plt.ylabel('Daily new infections')\n",
    "    plt.xlabel('Dates')\n",
    "    # plt.legend(handles=[l2nd, l2])\n",
    "    fig_save(fig, Plot_Folder, fname_)\n",
    "    m[0] = 1\n",
    "    # m_nd[0] = 1\n",
    "    my_dict = {}\n",
    "    my_dict['Dates'] = dates['d']\n",
    "    my_dict['Mean'] = m\n",
    "    my_dict['High'] = h\n",
    "    my_dict['Low'] = l\n",
    "    my_dict = pd.DataFrame(my_dict)\n",
    "    my_dict.to_csv(os.path.join(Plot_Folder, fname + '.csv'), index=False)\n",
    "    return my_dict\n"
   ]
  },
  {
   "cell_type": "markdown",
   "metadata": {},
   "source": [
    "## Posterior samples using Laplace approximation"
   ]
  },
  {
   "cell_type": "code",
   "execution_count": null,
   "metadata": {},
   "outputs": [],
   "source": [
    "fname = location + '_fits_' + today.strftime(\"%m%d\") + '.csv'\n",
    "thetas_fitted = pd.read_csv(os.path.join('Italy',fname))\n",
    "thetas_fitted"
   ]
  },
  {
   "cell_type": "code",
   "execution_count": null,
   "metadata": {},
   "outputs": [],
   "source": [
    "fname"
   ]
  },
  {
   "cell_type": "code",
   "execution_count": null,
   "metadata": {},
   "outputs": [],
   "source": [
    "temp = np.zeros((3, np.size(thetas_fitted,0)), dtype=np.float)\n",
    "temp[0] = thetas_fitted.a.values\n",
    "temp[1] = thetas_fitted.b.values\n",
    "temp[2] = thetas_fitted.c.values\n",
    "mean_estimates = np.mean(thetas_fitted, axis=0)\n",
    "s = np.std(thetas_fitted, axis=0)\n",
    "theta = np.mean(temp,axis=1)\n",
    "cov = np.cov(temp)\n",
    "print('The mean values of the posterior samples are\\n')\n",
    "print(mean_estimates)\n",
    "\n",
    "print('The standard deviations of the posterior samples are\\n')\n",
    "print(s)\n",
    "\n",
    "print('The covariance matrix is\\n')\n",
    "print(cov)"
   ]
  },
  {
   "cell_type": "code",
   "execution_count": null,
   "metadata": {},
   "outputs": [],
   "source": [
    "f = plt.figure()\n",
    "plt.hist(thetas_fitted.a.values, bins=20)\n",
    "plt.hist(thetas_fitted.b.values, bins=20)"
   ]
  },
  {
   "cell_type": "code",
   "execution_count": null,
   "metadata": {},
   "outputs": [],
   "source": [
    "f = plt.figure()\n",
    "plt.hist(thetas_fitted.R0.values, bins=20, density=True)"
   ]
  },
  {
   "cell_type": "code",
   "execution_count": null,
   "metadata": {},
   "outputs": [],
   "source": [
    "nDays = 150\n",
    "dates = pd.DataFrame({'d':[day0 + pd.DateOffset(i) for i in np.arange(nDays)]})\n",
    "\n",
    "nSim = 100\n",
    "samples = parm_sample_correlated(theta,cov,nSim)\n",
    "samples"
   ]
  },
  {
   "cell_type": "code",
   "execution_count": null,
   "metadata": {},
   "outputs": [],
   "source": [
    "temp = thetas_fitted[['a','b','c']].to_numpy()\n",
    "idx = np.random.choice(np.size(temp,axis=0), 1000)\n",
    "samples = temp[idx]\n",
    "samples"
   ]
  },
  {
   "cell_type": "code",
   "execution_count": null,
   "metadata": {},
   "outputs": [],
   "source": [
    "fig_density = plot_density_fit_posterior(epiT, samples)"
   ]
  },
  {
   "cell_type": "code",
   "execution_count": null,
   "metadata": {},
   "outputs": [],
   "source": []
  },
  {
   "cell_type": "code",
   "execution_count": null,
   "metadata": {},
   "outputs": [],
   "source": []
  },
  {
   "cell_type": "code",
   "execution_count": null,
   "metadata": {},
   "outputs": [],
   "source": []
  },
  {
   "cell_type": "code",
   "execution_count": null,
   "metadata": {},
   "outputs": [],
   "source": []
  },
  {
   "cell_type": "markdown",
   "metadata": {},
   "source": [
    "## Metropolis-Hastings"
   ]
  },
  {
   "cell_type": "code",
   "execution_count": null,
   "metadata": {},
   "outputs": [],
   "source": [
    "mh_folder = today.strftime(\"%m%d\") + '_plots_mh'\n",
    "fname = 'mh_chains' + today.strftime(\"%m%d\")\n",
    "mh_chains = pickle.load(open(os.path.join(mh_folder, fname), \"rb\"))\n",
    "mh_chains"
   ]
  },
  {
   "cell_type": "code",
   "execution_count": null,
   "metadata": {},
   "outputs": [],
   "source": [
    "len(mh_chains['a'])"
   ]
  },
  {
   "cell_type": "code",
   "execution_count": null,
   "metadata": {},
   "outputs": [],
   "source": [
    "temp = np.zeros((3, len(mh_chains['a'])), dtype=np.float)\n",
    "temp[0] = mh_chains['a']\n",
    "temp[1] = mh_chains['b']\n",
    "temp[2] = mh_chains['c']\n",
    "mean_estimates = np.mean(temp, axis=1)\n",
    "s = np.std(temp, axis=1)\n",
    "theta = np.mean(temp,axis=1)\n",
    "cov = np.cov(temp)\n",
    "print('The mean values of the posterior samples are\\n')\n",
    "print(mean_estimates)\n",
    "\n",
    "print('The standard deviations of the posterior samples are\\n')\n",
    "print(s)\n",
    "\n",
    "print('The covariance matrix is\\n')\n",
    "print(cov)"
   ]
  },
  {
   "cell_type": "code",
   "execution_count": null,
   "metadata": {},
   "outputs": [],
   "source": [
    "f = plt.figure()\n",
    "plt.hist(mh_chains['a'], bins=20, density=True)"
   ]
  },
  {
   "cell_type": "code",
   "execution_count": null,
   "metadata": {},
   "outputs": [],
   "source": [
    "nDays = 150\n",
    "dates = pd.DataFrame({'d':[day0 + pd.DateOffset(i) for i in np.arange(nDays)]})\n",
    "\n",
    "nSim = 5000\n",
    "samples = parm_sample_correlated(theta,cov,nSim)\n",
    "samples"
   ]
  },
  {
   "cell_type": "code",
   "execution_count": null,
   "metadata": {},
   "outputs": [],
   "source": [
    "fname = location + 'predictions_' + today.strftime(\"%m%d\")\n",
    "fname = 'test'\n",
    "predictions = predict(epiT, samples, df_italy, dates, plot_folder, fname)"
   ]
  },
  {
   "cell_type": "code",
   "execution_count": null,
   "metadata": {},
   "outputs": [],
   "source": []
  },
  {
   "cell_type": "code",
   "execution_count": null,
   "metadata": {},
   "outputs": [],
   "source": []
  },
  {
   "cell_type": "code",
   "execution_count": null,
   "metadata": {},
   "outputs": [],
   "source": []
  },
  {
   "cell_type": "code",
   "execution_count": null,
   "metadata": {},
   "outputs": [],
   "source": []
  },
  {
   "cell_type": "code",
   "execution_count": null,
   "metadata": {},
   "outputs": [],
   "source": []
  },
  {
   "cell_type": "code",
   "execution_count": null,
   "metadata": {},
   "outputs": [],
   "source": []
  },
  {
   "cell_type": "code",
   "execution_count": null,
   "metadata": {},
   "outputs": [],
   "source": []
  },
  {
   "cell_type": "code",
   "execution_count": null,
   "metadata": {},
   "outputs": [],
   "source": []
  },
  {
   "cell_type": "code",
   "execution_count": null,
   "metadata": {},
   "outputs": [],
   "source": [
    "epiT.bounda"
   ]
  },
  {
   "cell_type": "code",
   "execution_count": null,
   "metadata": {},
   "outputs": [],
   "source": [
    "len(thetas_fitted)"
   ]
  },
  {
   "cell_type": "code",
   "execution_count": null,
   "metadata": {},
   "outputs": [],
   "source": [
    "fname = os.path.join('Italy',\"thetas_fitted\")\n",
    "thetas_fitted = pickle.load(open(fname, \"rb\"))\n",
    "thetas_fitted"
   ]
  },
  {
   "cell_type": "code",
   "execution_count": null,
   "metadata": {},
   "outputs": [],
   "source": [
    "all_theta = thetas_fitted[['a','b','c']].to_numpy()\n",
    "idx = np.random.choice(len(thetas_fitted), 1000)\n",
    "samples = all_theta[idx]\n",
    "samples"
   ]
  },
  {
   "cell_type": "code",
   "execution_count": null,
   "metadata": {},
   "outputs": [],
   "source": [
    "fig_density = plot_density_fit_posterior(epiT, samples)"
   ]
  },
  {
   "cell_type": "code",
   "execution_count": null,
   "metadata": {},
   "outputs": [],
   "source": []
  },
  {
   "cell_type": "code",
   "execution_count": null,
   "metadata": {},
   "outputs": [],
   "source": [
    "fname = location + '_fits_' + today.strftime(\"%m%d\") + '.csv'\n",
    "thetas_fitted = pd.read_csv(os.path.join('Italy',fname))\n",
    "thetas_fitted"
   ]
  },
  {
   "cell_type": "code",
   "execution_count": null,
   "metadata": {},
   "outputs": [],
   "source": [
    "temp = np.zeros((3, np.size(thetas_fitted,0)), dtype=np.float)\n",
    "temp[0] = thetas_fitted.a.values\n",
    "temp[1] = thetas_fitted.b.values\n",
    "temp[2] = thetas_fitted.c.values\n",
    "mean_estimates = np.mean(thetas_fitted, axis=0)\n",
    "s = np.std(thetas_fitted, axis=0)\n",
    "theta = np.mean(temp,axis=1)\n",
    "cov = np.cov(temp)\n",
    "print('The mean values of the posterior samples are\\n')\n",
    "print(mean_estimates)\n",
    "\n",
    "print('The standard deviations of the posterior samples are\\n')\n",
    "print(s)\n",
    "\n",
    "print('The covariance matrix is\\n')\n",
    "print(cov)"
   ]
  },
  {
   "cell_type": "code",
   "execution_count": null,
   "metadata": {},
   "outputs": [],
   "source": [
    "samples"
   ]
  },
  {
   "cell_type": "code",
   "execution_count": null,
   "metadata": {},
   "outputs": [],
   "source": [
    "samples"
   ]
  },
  {
   "cell_type": "code",
   "execution_count": null,
   "metadata": {},
   "outputs": [],
   "source": [
    "f = plt.figure()\n",
    "plt.plot(epiT.density([3.92091497e+00, 2.46408173e+00, 9.89216187e-04]))"
   ]
  },
  {
   "cell_type": "code",
   "execution_count": null,
   "metadata": {},
   "outputs": [],
   "source": [
    "print('Plotting density fit\\n')\n",
    "# fig_density = epiT.plot_density_fit()\n",
    "fig_density = epiT.plot_density_fit()"
   ]
  },
  {
   "cell_type": "code",
   "execution_count": null,
   "metadata": {},
   "outputs": [],
   "source": [
    "epiT.theta"
   ]
  },
  {
   "cell_type": "code",
   "execution_count": null,
   "metadata": {},
   "outputs": [],
   "source": [
    "epiT.plot_density_fit()"
   ]
  },
  {
   "cell_type": "code",
   "execution_count": null,
   "metadata": {},
   "outputs": [],
   "source": []
  },
  {
   "cell_type": "code",
   "execution_count": null,
   "metadata": {},
   "outputs": [],
   "source": [
    "f = plt.figure()\n",
    "plt.plot(epiT.t,compute_density(epiT, [3.92091497e+00, 2.46408173e+00, 9.89216187e-06]))"
   ]
  },
  {
   "cell_type": "code",
   "execution_count": null,
   "metadata": {},
   "outputs": [],
   "source": [
    "sol = odeint(Epidemic.Deriv_S, [1], epiT.t, args=tuple(samples[150]))"
   ]
  },
  {
   "cell_type": "code",
   "execution_count": null,
   "metadata": {},
   "outputs": [],
   "source": [
    "type(samples)"
   ]
  },
  {
   "cell_type": "code",
   "execution_count": null,
   "metadata": {},
   "outputs": [],
   "source": [
    "epiT.theta "
   ]
  },
  {
   "cell_type": "code",
   "execution_count": null,
   "metadata": {},
   "outputs": [],
   "source": [
    "f = plt.figure()\n",
    "plt.plot(sol)"
   ]
  },
  {
   "cell_type": "code",
   "execution_count": null,
   "metadata": {},
   "outputs": [],
   "source": []
  },
  {
   "cell_type": "code",
   "execution_count": null,
   "metadata": {},
   "outputs": [],
   "source": []
  },
  {
   "cell_type": "code",
   "execution_count": null,
   "metadata": {},
   "outputs": [],
   "source": [
    "day0 = df_italy[\"time\"].min()\n",
    "print(day0)"
   ]
  },
  {
   "cell_type": "code",
   "execution_count": null,
   "metadata": {},
   "outputs": [],
   "source": [
    "today = df_italy[\"time\"].max()\n",
    "print(today)"
   ]
  },
  {
   "cell_type": "code",
   "execution_count": null,
   "metadata": {},
   "outputs": [],
   "source": [
    "print('Generating infection times by uniformly distributing throughout each day from actual daily counts\\n')\n",
    "infection_data = list(\n",
    "    i + rand.uniform() for i, y in enumerate(df_italy['daily_confirm'].values) for z in range(y.astype(int)))\n",
    "df = pd.DataFrame(infection_data,index=range(len(infection_data)),columns=['infection'])"
   ]
  },
  {
   "cell_type": "code",
   "execution_count": null,
   "metadata": {},
   "outputs": [],
   "source": [
    "print('Generating recovery times by uniformly distributing throughout each day')\n",
    "recovery_data = list(\n",
    "    i + rand.uniform() for i, y in enumerate(df_italy['recovery'].values + df_italy['deaths'].values) for z in\n",
    "    range(y.astype(int)))\n",
    "df_recovery = pd.DataFrame(recovery_data, index=range(len(recovery_data)), columns=['recovery'])"
   ]
  },
  {
   "cell_type": "code",
   "execution_count": null,
   "metadata": {},
   "outputs": [],
   "source": [
    "bounds = [(0.1,1),(0.1,1),(1E-9,1E-1)]\n",
    "\n",
    "N = min(2000,df_italy['cum_confirm'].iloc[-1])\n",
    "n = 500\n",
    "plot_T = 150 # show system through end of epidemic\n",
    "import pickle\n",
    "st = time.time()"
   ]
  },
  {
   "cell_type": "code",
   "execution_count": null,
   "metadata": {},
   "outputs": [],
   "source": [
    "epiT = Epidemic(file_or_df=df,bounds=bounds,abc=(0.4, 0.6, 1E-6),plot_T=plot_T)"
   ]
  },
  {
   "cell_type": "code",
   "execution_count": null,
   "metadata": {},
   "outputs": [],
   "source": [
    "epiT.fit(N=N, summary=True) # use all the data"
   ]
  },
  {
   "cell_type": "code",
   "execution_count": null,
   "metadata": {},
   "outputs": [],
   "source": [
    "epiT.simulate_and_fit(N=N, n=n)\n",
    "print(\"Total time Simulate and Fit %s\" % (time.time() - st))"
   ]
  },
  {
   "cell_type": "code",
   "execution_count": null,
   "metadata": {},
   "outputs": [],
   "source": [
    "m"
   ]
  },
  {
   "cell_type": "code",
   "execution_count": null,
   "metadata": {},
   "outputs": [],
   "source": [
    "m = epiT.theta\n",
    "s = [np.sqrt(epiT.var_a()), np.sqrt(epiT.var_b()), np.sqrt(epiT.var_c())]\n",
    "cov = epiT.cov_abc()\n",
    "\n",
    "nDays = 150\n",
    "dates = pd.DataFrame({'d':[day0 + pd.DateOffset(i) for i in np.arange(nDays)]})\n",
    "\n",
    "nSim = 2000\n",
    "samples = parm_sample_correlated(m,cov,nSim)"
   ]
  },
  {
   "cell_type": "code",
   "execution_count": null,
   "metadata": {},
   "outputs": [],
   "source": [
    "fig_density = plot_density_fit_posterior(epiT, samples)"
   ]
  },
  {
   "cell_type": "code",
   "execution_count": null,
   "metadata": {},
   "outputs": [],
   "source": [
    "cov"
   ]
  },
  {
   "cell_type": "code",
   "execution_count": null,
   "metadata": {},
   "outputs": [],
   "source": [
    "print('Plotting density fit\\n')\n",
    "fig_density = epiT.plot_density_fit()\n",
    "fname = 'Tfinaldensity' + today.strftime(\"%m%d\")\n",
    "fig_save(fig_density,Plot_Folder,fname)\n"
   ]
  },
  {
   "cell_type": "code",
   "execution_count": null,
   "metadata": {},
   "outputs": [],
   "source": [
    "fig_inf_curve, fig_inf_T = epiT.plot_infections()\n",
    "fname = 'Tfinalinfections' + today.strftime(\"%m%d\")\n",
    "fig_save(fig_inf_T,Plot_Folder,fname)"
   ]
  },
  {
   "cell_type": "code",
   "execution_count": null,
   "metadata": {},
   "outputs": [],
   "source": [
    "print('Estimating gamma\\n')\n",
    "fig_recovery = epiT.estimate_gamma(df_recovery = df_recovery, N=N, x0=(0.1, -5),\n",
    "                                   bounds=[(1.0 / 25, 1.0 / 5), (-10, 0)], approach='offset')\n",
    "fname = 'recovery_' + today.strftime(\"%m%d\")\n",
    "fig_save(fig_recovery, Plot_Folder, fname)\n"
   ]
  },
  {
   "cell_type": "code",
   "execution_count": null,
   "metadata": {},
   "outputs": [],
   "source": [
    "fig_dropout = epiT.plot_dropout(pt=epiT.delta / epiT.a)\n",
    "fname = 'Tfinaldropout' + today.strftime(\"%m%d\")\n",
    "fig_save(fig_dropout, Plot_Folder, fname)"
   ]
  },
  {
   "cell_type": "code",
   "execution_count": null,
   "metadata": {},
   "outputs": [],
   "source": [
    "fname = location + 'predictions_' + today.strftime(\"%m%d\")\n",
    "predictions = predict(epiT, samples, df_italy, nSim, dates, Plot_Folder, fname)"
   ]
  },
  {
   "cell_type": "code",
   "execution_count": null,
   "metadata": {},
   "outputs": [],
   "source": [
    "epiT.n"
   ]
  },
  {
   "cell_type": "code",
   "execution_count": null,
   "metadata": {},
   "outputs": [],
   "source": [
    "mm = diagnostics(epiT.theta, df_italy)\n",
    "fig = plt.figure()\n",
    "plt.plot(mm)\n",
    "plt.show()"
   ]
  },
  {
   "cell_type": "code",
   "execution_count": null,
   "metadata": {},
   "outputs": [],
   "source": [
    "np.mean(mm)"
   ]
  },
  {
   "cell_type": "code",
   "execution_count": null,
   "metadata": {},
   "outputs": [],
   "source": [
    "plt.plot(mm)"
   ]
  },
  {
   "cell_type": "code",
   "execution_count": null,
   "metadata": {},
   "outputs": [],
   "source": [
    "fig1 = plt.figure()\n",
    "plt.plot(epiT.density(epiT.theta))\n"
   ]
  },
  {
   "cell_type": "code",
   "execution_count": null,
   "metadata": {},
   "outputs": [],
   "source": [
    "nSamples = np.size(samples, 0)"
   ]
  },
  {
   "cell_type": "code",
   "execution_count": null,
   "metadata": {},
   "outputs": [],
   "source": [
    "len(epiT.t)"
   ]
  },
  {
   "cell_type": "code",
   "execution_count": null,
   "metadata": {},
   "outputs": [],
   "source": []
  },
  {
   "cell_type": "code",
   "execution_count": null,
   "metadata": {},
   "outputs": [],
   "source": []
  },
  {
   "cell_type": "code",
   "execution_count": null,
   "metadata": {},
   "outputs": [],
   "source": []
  },
  {
   "cell_type": "code",
   "execution_count": null,
   "metadata": {},
   "outputs": [],
   "source": [
    "def plot_density_fit_posterior(epi, samples):\n",
    "    nSamples = np.size(samples, axis = 0)\n",
    "    Ds = np.zeros((nSamples, len(epi.t)), dtype=np.float)\n",
    "    for idx in range(nSamples):\n",
    "        Ds[idx] = epi.density(samples[idx])\n",
    "    Dslow = np.quantile(Ds, q = 0.025, axis=0)\n",
    "    Dshigh = np.quantile(Ds, q = 0.975, axis=0)\n",
    "    Dmean = np.mean(Ds, axis=0)\n",
    "    fig = plt.figure()\n",
    "    plt.plot(epi.t, Dmean, '-', color=myColours['tud7d'].get_rgb(), lw=3)\n",
    "    plt.plot(epi.t, Dslow, '--', color=myColours['tud7d'].get_rgb(), lw=1)\n",
    "    plt.plot(epi.t, Dshigh, '--', color=myColours['tud7d'].get_rgb(), lw=1)\n",
    "    plt.axvline(x=epi.T, color=myColours['tud11d'].get_rgb(), linestyle='-')\n",
    "\n",
    "    mirrored_data = (2 * epi.T - epi.df['infection'].values).tolist()\n",
    "    combined_data = epi.df['infection'].values.tolist() + mirrored_data\n",
    "    dense = gaussian_kde(combined_data)\n",
    "    denseval = list(dense(x) * 2 for x in epi.t)\n",
    "    plt.plot(epi.t, denseval, '-', color=myColours['tud1d'].get_rgb(), lw=3)\n",
    "    plt.fill_between(epi.t, Dslow, Dshigh, alpha=.3, color=myColours['tud7d'].get_rgb())\n",
    "    plt.legend()\n",
    "    plt.ylabel('$-S_t/(1-S_T)$')\n",
    "    plt.xlabel('t')\n",
    "    c = cumtrapz(Dmean, epi.t)\n",
    "    ind = np.argmax(c >= 0.001)\n",
    "    plt.xlim((epi.t[ind], epi.t[-1] + 1))\n",
    "\n",
    "    return fig"
   ]
  },
  {
   "cell_type": "code",
   "execution_count": null,
   "metadata": {},
   "outputs": [],
   "source": [
    "from scipy.interpolate import interp1d, Rbf\n",
    "from scipy.optimize import minimize, newton\n",
    "from statsmodels.distributions.empirical_distribution import ECDF\n",
    "from scipy.special import lambertw\n",
    "from scipy.integrate import cumtrapz\n",
    "from numpy.random import RandomState\n",
    "import matplotlib\n",
    "import seaborn as sns\n",
    "sns.set_style(\"whitegrid\")\n",
    "from scipy.stats import binom, norm, gaussian_kde, expon, gamma as Gamma\n",
    "import matplotlib; # matplotlib.use('TkAgg')\n",
    "from tabulate import tabulate\n",
    "from mpl_toolkits.axes_grid1 import host_subplot\n",
    "import mpl_toolkits.axisartist as AA"
   ]
  },
  {
   "cell_type": "markdown",
   "metadata": {},
   "source": [
    "### Fitted parms from server"
   ]
  },
  {
   "cell_type": "code",
   "execution_count": null,
   "metadata": {},
   "outputs": [],
   "source": [
    "fname = 'Italy_epi_0413.pkl'\n",
    "epiT = pickle.load(open(os.path.join(Plot_Folder, fname),\"rb\"))"
   ]
  },
  {
   "cell_type": "code",
   "execution_count": null,
   "metadata": {},
   "outputs": [],
   "source": [
    "m = epiT.theta\n",
    "s = [np.sqrt(epiT.var_a()), np.sqrt(epiT.var_b()), np.sqrt(epiT.var_c())]\n",
    "cov = epiT.cov_abc()\n",
    "\n",
    "nDays = 150\n",
    "dates = pd.DataFrame({'d':[day0 + pd.DateOffset(i) for i in np.arange(nDays)]})\n",
    "\n",
    "nSim = 2000\n",
    "samples = parm_sample_correlated(m,cov,nSim)"
   ]
  },
  {
   "cell_type": "code",
   "execution_count": null,
   "metadata": {},
   "outputs": [],
   "source": [
    "fig_density = plot_density_fit_posterior(epiT, samples)"
   ]
  },
  {
   "cell_type": "code",
   "execution_count": null,
   "metadata": {},
   "outputs": [],
   "source": []
  },
  {
   "cell_type": "code",
   "execution_count": null,
   "metadata": {},
   "outputs": [],
   "source": []
  },
  {
   "cell_type": "markdown",
   "metadata": {},
   "source": [
    "## South Korea"
   ]
  },
  {
   "cell_type": "code",
   "execution_count": null,
   "metadata": {},
   "outputs": [],
   "source": [
    "fname_for_server = 'Skorea' + today.strftime(\"%m%d\") + '.csv'"
   ]
  },
  {
   "cell_type": "code",
   "execution_count": null,
   "metadata": {},
   "outputs": [],
   "source": [
    "datafile = 'Skorea' + today.strftime(\"%m%d\") + '.csv'\n",
    "df_korea = pd.read_csv(os.path.join(Data_Folder,datafile), parse_dates=[\"time\"])"
   ]
  },
  {
   "cell_type": "code",
   "execution_count": null,
   "metadata": {},
   "outputs": [],
   "source": [
    "# get daily counts\n",
    "df_korea_inf = df_korea['cum_confirm'].diff().abs()\n",
    "df_korea_inf[0] = df_korea['cum_confirm'].iloc[0]\n",
    "df_korea['daily_confirm'] = df_korea_inf\n",
    "\n",
    "inf_count = df_korea['cum_confirm'].values\n",
    "death_count = df_korea['cum_dead'].values\n",
    "cure_count = df_korea['cum_heal'].values\n",
    "\n",
    "# get daily recovery counts \n",
    "df_korea_cure = df_korea['cum_heal'].diff().abs()\n",
    "df_korea_cure[0] = df_korea['cum_heal'].iloc[0]\n",
    "df_korea['recovery'] = df_korea_cure\n",
    "\n",
    "# get daily death counts\n",
    "df_korea_death = df_korea['cum_dead'].diff().abs()\n",
    "df_korea_death[0] = df_korea['cum_dead'].iloc[0]\n",
    "df_korea['deaths'] = df_korea_death"
   ]
  },
  {
   "cell_type": "code",
   "execution_count": null,
   "metadata": {},
   "outputs": [],
   "source": [
    "df_korea.to_csv(os.path.join(server_folder,fname_for_server))"
   ]
  },
  {
   "cell_type": "code",
   "execution_count": null,
   "metadata": {},
   "outputs": [],
   "source": [
    "df_korea"
   ]
  },
  {
   "cell_type": "markdown",
   "metadata": {},
   "source": [
    "## China"
   ]
  },
  {
   "cell_type": "code",
   "execution_count": null,
   "metadata": {},
   "outputs": [],
   "source": [
    "fname_for_server = 'AllChina' + today.strftime(\"%m%d\") + '.csv'"
   ]
  },
  {
   "cell_type": "code",
   "execution_count": null,
   "metadata": {},
   "outputs": [],
   "source": [
    "datafile = 'AllChina' + today.strftime(\"%m%d\") + '.csv'\n",
    "df_china = pd.read_csv(os.path.join(Data_Folder,datafile), parse_dates=[\"time\"])"
   ]
  },
  {
   "cell_type": "code",
   "execution_count": null,
   "metadata": {},
   "outputs": [],
   "source": [
    "# get daily counts\n",
    "df_china_inf = df_china['cum_confirm'].diff().abs()\n",
    "df_china_inf[0] = df_china['cum_confirm'].iloc[0]\n",
    "df_china['daily_confirm'] = df_china_inf\n",
    "\n",
    "inf_count = df_china['cum_confirm'].values\n",
    "death_count = df_china['cum_dead'].values\n",
    "cure_count = df_china['cum_heal'].values\n",
    "\n",
    "# get daily recovery counts \n",
    "df_china_cure = df_china['cum_heal'].diff().abs()\n",
    "df_china_cure[0] = df_china['cum_heal'].iloc[0]\n",
    "df_china['recovery'] = df_china_cure\n",
    "\n",
    "# get daily death counts\n",
    "df_china_death = df_china['cum_dead'].diff().abs()\n",
    "df_china_death[0] = df_china['cum_dead'].iloc[0]\n",
    "df_china['deaths'] = df_china_death"
   ]
  },
  {
   "cell_type": "code",
   "execution_count": null,
   "metadata": {},
   "outputs": [],
   "source": [
    "df_china.to_csv(os.path.join(server_folder,fname_for_server))"
   ]
  },
  {
   "cell_type": "code",
   "execution_count": null,
   "metadata": {},
   "outputs": [],
   "source": [
    "df_china"
   ]
  },
  {
   "cell_type": "markdown",
   "metadata": {},
   "source": [
    "## USA"
   ]
  },
  {
   "cell_type": "code",
   "execution_count": null,
   "metadata": {},
   "outputs": [],
   "source": [
    "fname_for_server = 'US' + today.strftime(\"%m%d\") + '.csv'"
   ]
  },
  {
   "cell_type": "code",
   "execution_count": null,
   "metadata": {},
   "outputs": [],
   "source": [
    "datafile = 'US' + today.strftime(\"%m%d\") + '.csv'\n",
    "df_usa = pd.read_csv(os.path.join(Data_Folder,datafile), parse_dates=[\"time\"])"
   ]
  },
  {
   "cell_type": "code",
   "execution_count": null,
   "metadata": {},
   "outputs": [],
   "source": [
    "# get daily counts\n",
    "df_usa_inf = df_usa['cum_confirm'].diff().abs()\n",
    "df_usa_inf[0] = df_usa['cum_confirm'].iloc[0]\n",
    "df_usa['daily_confirm'] = df_usa_inf\n",
    "\n",
    "inf_count = df_usa['cum_confirm'].values\n",
    "death_count = df_usa['cum_dead'].values\n",
    "cure_count = df_usa['cum_heal'].values\n",
    "\n",
    "# get daily recovery counts \n",
    "df_usa_cure = df_usa['cum_heal'].diff().abs()\n",
    "df_usa_cure[0] = df_usa['cum_heal'].iloc[0]\n",
    "df_usa['recovery'] = df_usa_cure\n",
    "\n",
    "# get daily death counts\n",
    "df_usa_death = df_usa['cum_dead'].diff().abs()\n",
    "df_usa_death[0] = df_usa['cum_dead'].iloc[0]\n",
    "df_usa['deaths'] = df_usa_death"
   ]
  },
  {
   "cell_type": "code",
   "execution_count": null,
   "metadata": {},
   "outputs": [],
   "source": [
    "df_usa.to_csv(os.path.join(server_folder,fname_for_server))"
   ]
  },
  {
   "cell_type": "code",
   "execution_count": null,
   "metadata": {},
   "outputs": [],
   "source": [
    "df_usa"
   ]
  },
  {
   "cell_type": "code",
   "execution_count": null,
   "metadata": {},
   "outputs": [],
   "source": []
  },
  {
   "cell_type": "code",
   "execution_count": null,
   "metadata": {},
   "outputs": [],
   "source": []
  },
  {
   "cell_type": "code",
   "execution_count": null,
   "metadata": {},
   "outputs": [],
   "source": []
  },
  {
   "cell_type": "code",
   "execution_count": null,
   "metadata": {},
   "outputs": [],
   "source": []
  },
  {
   "cell_type": "code",
   "execution_count": null,
   "metadata": {},
   "outputs": [],
   "source": []
  },
  {
   "cell_type": "code",
   "execution_count": null,
   "metadata": {},
   "outputs": [],
   "source": []
  },
  {
   "cell_type": "code",
   "execution_count": null,
   "metadata": {},
   "outputs": [],
   "source": [
    "def date_formatting(df,date_fields):\n",
    "    l = len(date_fields)\n",
    "    for i in range(l):\n",
    "        field = date_fields[i]\n",
    "        df[field] = pd.to_datetime(df[field])\n",
    "        "
   ]
  },
  {
   "cell_type": "code",
   "execution_count": null,
   "metadata": {},
   "outputs": [],
   "source": [
    "date_fields = [\"DateOfDeath\",\n",
    "               \"DateOfIllnessOnSet\",\n",
    "               \"EventDate\",\n",
    "               \"FacilityAdmitDate\",\n",
    "               \"FacilityDischargeDate\"]"
   ]
  },
  {
   "cell_type": "code",
   "execution_count": null,
   "metadata": {},
   "outputs": [],
   "source": [
    "required_fields = [\"CaseID\",\n",
    "                   \"CaseClassificationStatus\",\n",
    "                   \"DateOfDeath\",\n",
    "                   \"COVID_DIEDFROMILLNESS\",\n",
    "                   \"DateOfIllnessOnSet\",\n",
    "                   \"EventDate\",\n",
    "                   \"FacilityAdmitDate\",\n",
    "                   \"FacilityDischargeDate\",\n",
    "                   \"SendToCDC\"]"
   ]
  },
  {
   "cell_type": "code",
   "execution_count": null,
   "metadata": {},
   "outputs": [],
   "source": [
    "ohio_full_data = pd.read_csv(os.path.join(Data_Folder,\"COVID19_OSU.04042020_113014.csv\"), parse_dates=date_fields)\n",
    "ohio_full_data = ohio_full_data[required_fields]\n",
    "ohio_full_data"
   ]
  },
  {
   "cell_type": "code",
   "execution_count": null,
   "metadata": {},
   "outputs": [],
   "source": [
    "# remove unconfirmed cases\n",
    "indexNames = ohio_full_data[ohio_full_data['CaseClassificationStatus'] != \"Confirmed\" ].index\n",
    "ohio_full_data.drop(indexNames, inplace=True)\n",
    "\n",
    "# remove CDC reporting FALSE cases\n",
    "indexNames = ohio_full_data[ohio_full_data['SendToCDC'] == False ].index\n",
    "ohio_full_data.drop(indexNames, inplace=True)\n",
    "\n",
    "# ohio_full_data"
   ]
  },
  {
   "cell_type": "code",
   "execution_count": null,
   "metadata": {},
   "outputs": [],
   "source": [
    "date_formatting(ohio_full_data,date_fields)"
   ]
  },
  {
   "cell_type": "code",
   "execution_count": null,
   "metadata": {},
   "outputs": [],
   "source": [
    "ohio_full_data"
   ]
  },
  {
   "cell_type": "markdown",
   "metadata": {},
   "source": [
    "## Filter out unnecessary data\n",
    "\n",
    "A case is removed if \n",
    "1. The case is not \"Confirmed\".\n",
    "2. The \"sendtocdc\" code is \"False\"."
   ]
  },
  {
   "cell_type": "code",
   "execution_count": null,
   "metadata": {},
   "outputs": [],
   "source": [
    "ohio_full_data[ohio_full_data[\"COVID_DIEDFROMILLNESS\"] == \"Yes\"]"
   ]
  },
  {
   "cell_type": "code",
   "execution_count": null,
   "metadata": {},
   "outputs": [],
   "source": [
    "# remove cases with no onset date\n",
    "indexNames = ohio_full_data[np.isnat(ohio_full_data[\"DateOfIllnessOnSet\"]) == True ].index\n",
    "ohio_full_data[\"no_onset_date\"] = np.isnat(ohio_full_data[\"DateOfIllnessOnSet\"]) "
   ]
  },
  {
   "cell_type": "code",
   "execution_count": null,
   "metadata": {},
   "outputs": [],
   "source": [
    "ohio_full_data[\"OnsetDate\"] = ohio_full_data.apply(lambda dd: dd.EventDate.date() if dd.no_onset_date \n",
    "                                                   else dd.DateOfIllnessOnSet.date(), axis=1)"
   ]
  },
  {
   "cell_type": "code",
   "execution_count": null,
   "metadata": {},
   "outputs": [],
   "source": [
    "# remove cases with no onset date\n",
    "# indexNames = ohio_full_data[np.isnat(ohio_full_data[\"DateOfIllnessOnSet\"]) == True ].index\n",
    "# ohio_full_data.drop(indexNames, inplace=True)\n",
    "\n",
    "# #compute onset date\n",
    "# ohio_full_data[\"no_onset_date\"] = np.isnat(ohio_full_data[\"DateOfIllnessOnSet\"]) \n",
    "\n",
    "# ohio_full_data[\"OnsetDate\"] = ohio_full_data.DateOfIllnessOnSet"
   ]
  },
  {
   "cell_type": "code",
   "execution_count": null,
   "metadata": {},
   "outputs": [],
   "source": [
    "np.sum(ohio_full_data[\"no_onset_date\"].values)"
   ]
  },
  {
   "cell_type": "markdown",
   "metadata": {},
   "source": [
    "Dropping duplicate entries "
   ]
  },
  {
   "cell_type": "code",
   "execution_count": null,
   "metadata": {},
   "outputs": [],
   "source": [
    "ohio_full_data = ohio_full_data.drop_duplicates(subset =\"CaseID\")\n",
    "assert np.size(ohio_full_data.CaseID.unique()) == ohio_full_data.CaseID.count(), \"There are more duplicates\"\n",
    "ohio_full_data"
   ]
  },
  {
   "cell_type": "code",
   "execution_count": null,
   "metadata": {},
   "outputs": [],
   "source": [
    "ohio_full_data.groupby(ohio_full_data.CaseClassificationStatus).count()"
   ]
  },
  {
   "cell_type": "code",
   "execution_count": null,
   "metadata": {},
   "outputs": [],
   "source": [
    "ohio_full_data = ohio_full_data.sort_values(by=['OnsetDate'])\n",
    "ohio_full_data"
   ]
  },
  {
   "cell_type": "code",
   "execution_count": null,
   "metadata": {},
   "outputs": [],
   "source": [
    "day0 = ohio_full_data[\"OnsetDate\"].min()\n",
    "print('The first day is', day0)"
   ]
  },
  {
   "cell_type": "code",
   "execution_count": null,
   "metadata": {},
   "outputs": [],
   "source": [
    "day0 = pd.to_datetime(np.datetime64('2020-03-01 00:00:00'))"
   ]
  },
  {
   "cell_type": "code",
   "execution_count": null,
   "metadata": {},
   "outputs": [],
   "source": [
    "ohio_full_data[ohio_full_data[\"COVID_DIEDFROMILLNESS\"] == \"Yes\"]"
   ]
  },
  {
   "cell_type": "code",
   "execution_count": null,
   "metadata": {},
   "outputs": [],
   "source": [
    "def daily_counts(df, times):\n",
    "    nDays: int = len(times)\n",
    "    daily_confirm = np.zeros(nDays, dtype=np.int64)\n",
    "    recovery = np.zeros(nDays, dtype=np.int64)\n",
    "    deaths = np.zeros(nDays, dtype=np.int64)\n",
    "    temp_df1 = df[df[\"COVID_DIEDFROMILLNESS\"] != \"Yes\"]\n",
    "    temp_df2 = df[df[\"COVID_DIEDFROMILLNESS\"] == \"Yes\"]\n",
    "\n",
    "    for d in range(nDays):\n",
    "        daily_confirm[d] = np.sum(df['OnsetDate'] == times[d])\n",
    "        recovery[d] = np.sum(temp_df1['FacilityDischargeDate'] == times[d])\n",
    "        deaths[d] = np.sum(temp_df2['DateOfDeath'] == times[d])\n",
    "\n",
    "    temp = {'time': times, 'daily_confirm': daily_confirm, 'recovery': recovery, 'deaths': deaths}\n",
    "    df_ohio = pd.DataFrame(temp)\n",
    "    # cumulative counts\n",
    "    df_ohio[\"cum_confirm\"] = df_ohio.daily_confirm.cumsum()\n",
    "    df_ohio[\"cum_heal\"] = df_ohio.recovery.cumsum()\n",
    "    df_ohio[\"cum_dead\"] = df_ohio.deaths.cumsum()\n",
    "    return df_ohio"
   ]
  },
  {
   "cell_type": "markdown",
   "metadata": {},
   "source": [
    "## Calculate daily counts for all dates (including missing dates)\n"
   ]
  },
  {
   "cell_type": "code",
   "execution_count": null,
   "metadata": {},
   "outputs": [],
   "source": [
    "nDays = (today -day0).days + 1\n",
    "time = np.array([day0 + pd.DateOffset(i) for i in np.arange(nDays)])\n",
    "df_ohio = daily_counts(ohio_full_data, time)\n",
    "df_ohio"
   ]
  },
  {
   "cell_type": "code",
   "execution_count": null,
   "metadata": {},
   "outputs": [],
   "source": [
    "# fname = 'ohio_no_removal_' + today.strftime(\"%m%d\")\n",
    "# df_ohio.to_csv(os.path.join(server_folder,fname))"
   ]
  },
  {
   "cell_type": "code",
   "execution_count": null,
   "metadata": {},
   "outputs": [],
   "source": [
    "# df_ohio.drop(df_ohio.tail(2).index,inplace=True)\n",
    "fig = plt.figure()\n",
    "# l1, = plt.plot(df_ohio[\"time\"],df_ohio.daily_confirm.values, '-', color=myColours['tud1d'].get_rgb(), lw=3, alpha=1.0)\n",
    "l1, = plt.plot(df_ohio.daily_confirm.values, '-', color=myColours['tud1d'].get_rgb(), lw=3, alpha=1.0)\n",
    "# l1, = plt.plot(df_ohio.time.values,df_ohio.cum_confirm.values)\n",
    "plt.ylabel('Daily new counts')\n",
    "plt.xlabel('Days since ' + day0.strftime(\"%m-%d\"))\n",
    "fname = \"daily_new_\" + today.strftime(\"%m%d\")\n",
    "fig_save(fig,Plot_Folder,fname)"
   ]
  },
  {
   "cell_type": "code",
   "execution_count": null,
   "metadata": {},
   "outputs": [],
   "source": [
    "fig = plt.figure()\n",
    "# l1, = plt.plot(df_ohio.time.values,df_ohio.daily_confirm.values, '-', color=myColours['tud1d'].get_rgb(), lw=3, alpha=1.0)\n",
    "l1, = plt.plot(df_ohio.time.values,df_ohio.cum_confirm.values,'-', color=myColours['tud1d'].get_rgb(), lw=3, alpha=1.0)\n",
    "# l2, = plt.plot(df_ohio.time.values, smoothed_cum_confirm(range(np.size(df_ohio, axis = 0))), '-.', color=myColours['tud7d'].get_rgb(), lw=3, alpha=1.0 )\n",
    "plt.ylabel('Cumulative counts')\n",
    "plt.xlabel('Days since ' + day0.strftime(\"%m-%d\"))\n",
    "fname = \"daily_new_\" + today.strftime(\"%m%d\")\n",
    "fname = \"cum_confirm_\" + today.strftime(\"%m%d\")\n",
    "fig_save(fig,Plot_Folder,fname)"
   ]
  },
  {
   "cell_type": "code",
   "execution_count": null,
   "metadata": {},
   "outputs": [],
   "source": [
    "df_ohio.to_csv(os.path.join(server_folder,fname_for_server))"
   ]
  },
  {
   "cell_type": "markdown",
   "metadata": {},
   "source": [
    "# Data going into prediction"
   ]
  },
  {
   "cell_type": "code",
   "execution_count": 140,
   "metadata": {},
   "outputs": [
    {
     "ename": "NameError",
     "evalue": "name 'df_ohio' is not defined",
     "output_type": "error",
     "traceback": [
      "\u001b[0;31m---------------------------------------------------------------------------\u001b[0m",
      "\u001b[0;31mNameError\u001b[0m                                 Traceback (most recent call last)",
      "\u001b[0;32m<ipython-input-140-19bc965c7710>\u001b[0m in \u001b[0;36m<module>\u001b[0;34m\u001b[0m\n\u001b[0;32m----> 1\u001b[0;31m \u001b[0mdf_ohio\u001b[0m\u001b[0;34m\u001b[0m\u001b[0;34m\u001b[0m\u001b[0m\n\u001b[0m",
      "\u001b[0;31mNameError\u001b[0m: name 'df_ohio' is not defined"
     ]
    }
   ],
   "source": [
    "df_ohio"
   ]
  },
  {
   "cell_type": "code",
   "execution_count": null,
   "metadata": {},
   "outputs": [],
   "source": [
    "nRemoave = 13\n",
    "burn_in = 5000\n",
    "nChains = 20\n",
    "dsa_dict = {'datafile': fname_for_server, \n",
    "            'location': 'Ohio', \n",
    "            'plot_folder': today.strftime(\"%m%d\") + '_plots_dsa', \n",
    "            'remove': nRemoave}\n",
    "laplace_dict = {'datafile': fname_for_server, \n",
    "                'location': 'Ohio', \n",
    "                'plot_folder': today.strftime(\"%m%d\") + '_plots_laplace', \n",
    "                'remove': nRemoave,\n",
    "                'ifMPI': 'true'}\n",
    "\n",
    "mh_dict = {'datafile': fname_for_server, \n",
    "                'location': 'Ohio', \n",
    "                'plot_folder': today.strftime(\"%m%d\") + '_plots_mh', \n",
    "                'remove': nRemoave,\n",
    "                'ifMPI': 'true',\n",
    "                'burn_in': burn_in,\n",
    "                'nChains': nChains}\n",
    "\n",
    "fname = 'dsa_dict' + today.strftime(\"%m%d\") + '.pkl'\n",
    "f = open(os.path.join(server_folder, fname),\"wb\")\n",
    "pickle.dump(dsa_dict,f)\n",
    "f.close()\n",
    "\n",
    "fname = 'laplace_dict' + today.strftime(\"%m%d\") + '.pkl'\n",
    "f = open(os.path.join(server_folder, fname),\"wb\")\n",
    "pickle.dump(laplace_dict,f)\n",
    "f.close()\n",
    "\n",
    "fname = 'mh_dict' + today.strftime(\"%m%d\") + '.pkl'\n",
    "f = open(os.path.join(server_folder, fname),\"wb\")\n",
    "pickle.dump(mh_dict,f)\n",
    "f.close()"
   ]
  },
  {
   "cell_type": "code",
   "execution_count": null,
   "metadata": {},
   "outputs": [],
   "source": [
    "laplace_dict"
   ]
  },
  {
   "cell_type": "code",
   "execution_count": null,
   "metadata": {},
   "outputs": [],
   "source": [
    "#deleting last two data points\n",
    "df_ohio.drop(df_ohio.tail(nRemoave).index,inplace=True)\n",
    "df_ohio"
   ]
  },
  {
   "cell_type": "code",
   "execution_count": null,
   "metadata": {
    "scrolled": true
   },
   "outputs": [],
   "source": [
    "fig = plt.figure()\n",
    "l1, = plt.plot(df_ohio.time.values,df_ohio.daily_confirm.values, '-', color=myColours['tud1d'].get_rgb(), lw=3, alpha=1.0)\n",
    "# l1, = plt.plot(df_ohio.time.values,df_ohio.cum_confirm.values)\n",
    "\n",
    "# fname = \"daily_new_\" + today.strftime(\"%m%d\")\n",
    "# fig_save(fig,Plot_Folder,fname)"
   ]
  },
  {
   "cell_type": "code",
   "execution_count": null,
   "metadata": {},
   "outputs": [],
   "source": [
    "sm_daily = sc.interpolate.UnivariateSpline(range(np.size(df_ohio, axis = 0)), df_ohio.daily_confirm.values, k=3)\n",
    "fig = plt.figure()\n",
    "l1, = plt.plot(df_ohio.time.values,df_ohio.daily_confirm.values, '-', color=myColours['tud1d'].get_rgb(), lw=3, alpha=1.0)\n",
    "l2, = plt.plot(df_ohio.time.values, sm_daily(range(np.size(df_ohio, axis = 0))), '-.', color=myColours['tud7d'].get_rgb(), lw=3, alpha=1.0 )\n"
   ]
  },
  {
   "cell_type": "code",
   "execution_count": null,
   "metadata": {},
   "outputs": [],
   "source": [
    "ispl = sm_daily.antiderivative() \n",
    "antiderivative = lambda x: ispl(x) - ispl(0)\n"
   ]
  },
  {
   "cell_type": "code",
   "execution_count": null,
   "metadata": {},
   "outputs": [],
   "source": [
    "smoothed_cum_confirm = sc.interpolate.UnivariateSpline(range(np.size(df_ohio, axis = 0)), df_ohio.cum_confirm.values, k=3)"
   ]
  },
  {
   "cell_type": "code",
   "execution_count": null,
   "metadata": {},
   "outputs": [],
   "source": [
    "fig = plt.figure()\n",
    "# l1, = plt.plot(df_ohio.time.values,df_ohio.daily_confirm.values, '-', color=myColours['tud1d'].get_rgb(), lw=3, alpha=1.0)\n",
    "l1, = plt.plot(df_ohio.time.values,df_ohio.cum_confirm.values,'-', color=myColours['tud1d'].get_rgb(), lw=3, alpha=1.0)\n",
    "l2, = plt.plot(df_ohio.time.values, smoothed_cum_confirm(range(np.size(df_ohio, axis = 0))), '-.', color=myColours['tud7d'].get_rgb(), lw=3, alpha=1.0 )\n",
    "l3, = plt.plot(df_ohio.time.values, antiderivative(range(np.size(df_ohio, axis = 0))), '--', color=myColours['tud11d'].get_rgb(), lw=3, alpha=1.0 )\n",
    "# fname = \"cum_confirm_\" + today.strftime(\"%m%d\")\n",
    "# fig_save(fig,Plot_Folder,fname)"
   ]
  },
  {
   "cell_type": "code",
   "execution_count": null,
   "metadata": {},
   "outputs": [],
   "source": [
    "np.size(df_ohio, axis = 0)"
   ]
  },
  {
   "cell_type": "code",
   "execution_count": null,
   "metadata": {},
   "outputs": [],
   "source": [
    "fig_ohio = Epidemic.Plot_Data(\n",
    "\tinf_count=df_ohio[\"cum_confirm\"].values,\n",
    "\tdeath_count=df_ohio[\"cum_dead\"].values,\n",
    "\tcure_count=df_ohio[\"cum_heal\"].values,\n",
    "\tdaily_confirm=df_ohio['daily_confirm'].values,\n",
    "\tdaily_cure=df_ohio['recovery'].values,\n",
    "\tt=np.arange(1,df_ohio.shape[0]+1),\n",
    "\tlegend='left',\n",
    "\tscale_density=1.0,\n",
    "\tlocation='Ohio'\n",
    ")\n",
    "fname = 'ohio'\n",
    "fig_save(fig_ohio,Plot_Folder,fname)"
   ]
  },
  {
   "cell_type": "code",
   "execution_count": null,
   "metadata": {},
   "outputs": [],
   "source": [
    "# generate infection times through uniformly distributing throughout each day\n",
    "infection_data = list(i+rand.uniform() for i,y in enumerate(df_ohio['daily_confirm'].values) for z in range(y.astype(int)))\n",
    "df = pd.DataFrame(infection_data,index=range(len(infection_data)),columns=['infection'])\n",
    "# plt.hist(df.infection.values, density=True, bins=50)\n",
    "# plt.show()"
   ]
  },
  {
   "cell_type": "code",
   "execution_count": null,
   "metadata": {},
   "outputs": [],
   "source": [
    "# generate recovery times through uniformly distributing throughout each day \n",
    "recovery_data = list(i+rand.uniform() for i,y in enumerate(df_ohio['recovery'].values + df_ohio['deaths'].values) for z in range(y.astype(int)))\n",
    "df_recovery = pd.DataFrame(recovery_data,index=range(len(recovery_data)),columns=['recovery'])\n",
    "# plt.hist(df_recovery.recovery.values, density=True, bins=50)\n",
    "# plt.show()"
   ]
  },
  {
   "cell_type": "markdown",
   "metadata": {},
   "source": [
    "## Prior information from neighbouring states"
   ]
  },
  {
   "cell_type": "code",
   "execution_count": null,
   "metadata": {},
   "outputs": [],
   "source": [
    "fname = 'midwest_' + today.strftime(\"%m%d\") + '.csv'\n",
    "midwest_df = pd.read_csv(os.path.join(Root_Folder,'misc_data',fname), parse_dates=[\"time\"])\n",
    "midwest_df"
   ]
  },
  {
   "cell_type": "code",
   "execution_count": null,
   "metadata": {},
   "outputs": [],
   "source": [
    "plt.plot(midwest_df[\"daily_confirm\"])\n",
    "plt.ylabel('Daily new cases')\n",
    "plt.xlabel('Days since ' + midwest_df[\"time\"].min().strftime(\"%m-%d\"))"
   ]
  },
  {
   "cell_type": "code",
   "execution_count": null,
   "metadata": {},
   "outputs": [],
   "source": [
    "plt.plot(midwest_df[\"cum_confirm\"])\n",
    "plt.ylabel('Cumulative cases')\n",
    "plt.xlabel('Days since ' + midwest_df[\"time\"].min().strftime(\"%m-%d\"))"
   ]
  },
  {
   "cell_type": "code",
   "execution_count": null,
   "metadata": {},
   "outputs": [],
   "source": [
    "midwest_infec = list(i+rand.uniform() for i,y in enumerate(midwest_df['daily_confirm'].values) for z in range(y.astype(int)))\n",
    "midwest_infec_df = pd.DataFrame(midwest_infec,index=range(len(midwest_infec)),columns=['infection'])\n",
    "\n",
    "\n",
    "midwest_rec = list(i+rand.uniform() for i,y in enumerate(midwest_df['deaths'].values) for z in range(y.astype(int)))\n",
    "midwest_rec_df = pd.DataFrame(midwest_rec,index=range(len(midwest_rec)),columns=['recovery'])"
   ]
  },
  {
   "cell_type": "code",
   "execution_count": null,
   "metadata": {},
   "outputs": [],
   "source": [
    "## fit model to neighbouring states\n",
    "#file = '20200302_covid_transformed_data.csv'\n",
    "bounds = [(0.1,1),(0.1,1),(1E-9,1E-4)]\n",
    "#df = pd.read_csv(file)\n",
    "\n",
    "N = min(2000,midwest_df['cum_confirm'].iloc[-1])\n",
    "n = 500\n",
    "plot_T = 150 # show system through end of epidemic\n",
    "\n",
    "midwest_epi = Epidemic(file_or_df=midwest_infec_df,bounds=bounds,abc=(0.4,0.6,1E-8),plot_T=plot_T)\n",
    "\n",
    "midwest_epi.fit(N=N, summary=True)"
   ]
  },
  {
   "cell_type": "code",
   "execution_count": null,
   "metadata": {},
   "outputs": [],
   "source": [
    "midwest_epi.theta"
   ]
  },
  {
   "cell_type": "code",
   "execution_count": null,
   "metadata": {},
   "outputs": [],
   "source": [
    "\n",
    "#file = '20200302_covid_transformed_data.csv'\n",
    "bounds = [(0.1,1),(0.1,1),(1E-9,1E-4)]\n",
    "#df = pd.read_csv(file)\n",
    "\n",
    "N = min(2000,df_ohio['cum_confirm'].iloc[-1])\n",
    "n = 5\n",
    "plot_T = 150 # show system through end of epidemic\n",
    "\n",
    "epiT = Epidemic(file_or_df=df,bounds=bounds,abc=tuple(midwest_epi.theta),plot_T=plot_T)\n",
    "\n",
    "epiT.fit(N=N, summary=True)\n",
    "# epiT.fit(N=N, summary=True, ifSave = True, fname=os.path.join(Plot_Folder,'summary.tex')) # use all the data"
   ]
  },
  {
   "cell_type": "code",
   "execution_count": null,
   "metadata": {},
   "outputs": [],
   "source": [
    "len([epiT])"
   ]
  },
  {
   "cell_type": "code",
   "execution_count": null,
   "metadata": {},
   "outputs": [],
   "source": [
    "fig_recovery = epiT.estimate_gamma(df_recovery=df_recovery,N=N,x0=(0.1,-5),bounds=[(1.0/25,1.0/5),(-10,0)],approach='offset')\n"
   ]
  },
  {
   "cell_type": "code",
   "execution_count": null,
   "metadata": {},
   "outputs": [],
   "source": [
    "fname = 'recoveryohio' + today.strftime(\"%m%d\")\n",
    "fig_save(fig_recovery,Plot_Folder,fname)"
   ]
  },
  {
   "cell_type": "code",
   "execution_count": null,
   "metadata": {},
   "outputs": [],
   "source": [
    "epiT.simulate_and_fit(N=N,n=n)"
   ]
  },
  {
   "cell_type": "code",
   "execution_count": null,
   "metadata": {},
   "outputs": [],
   "source": [
    "epiT.R0"
   ]
  },
  {
   "cell_type": "code",
   "execution_count": null,
   "metadata": {},
   "outputs": [],
   "source": [
    "fig_density = epiT.plot_density_fit()\n",
    "fname = 'Tfinaldensity' + today.strftime(\"%m%d\")\n",
    "fig_save(fig_density,Plot_Folder,fname)"
   ]
  },
  {
   "cell_type": "code",
   "execution_count": null,
   "metadata": {},
   "outputs": [],
   "source": [
    "fig_dropout = epiT.plot_dropout(pt=epiT.delta/epiT.a)\n",
    "fname = 'Tfinaldropout' + today.strftime(\"%m%d\")\n",
    "fig_save(fig_dropout,Plot_Folder,fname)"
   ]
  },
  {
   "cell_type": "code",
   "execution_count": null,
   "metadata": {},
   "outputs": [],
   "source": [
    "fig_inf_curve, fig_inf_T = epiT.plot_infections()\n",
    "fname = 'Tfinalinfections'+ today.strftime(\"%m%d\")\n",
    "fig_save(fig_inf_T,Plot_Folder,fname)"
   ]
  },
  {
   "cell_type": "code",
   "execution_count": null,
   "metadata": {},
   "outputs": [],
   "source": [
    "fig_combined_infection = Epidemic.plot_infection_fits([epiT])\n",
    "fname = 'infections' + today.strftime(\"%m%d\")\n",
    "fig_save(fig_combined_infection, Plot_Folder,fname)"
   ]
  },
  {
   "cell_type": "code",
   "execution_count": null,
   "metadata": {},
   "outputs": [],
   "source": [
    "'''\n",
    "# show optimizer results\n",
    "'''\n",
    "\n",
    "print(\"T=final boundary pts\", epiT.number_boundary_samples, \"T=final interior pts\", epiT.number_interior_samples)\n",
    "epiT.summary()\n",
    "plt.show(block=True)"
   ]
  },
  {
   "cell_type": "code",
   "execution_count": null,
   "metadata": {},
   "outputs": [],
   "source": [
    "fname = 'epi_' + today.strftime(\"%m%d\")\n",
    "with open(os.path.join (Plot_Folder, fname + '.pkl'), 'wb') as output:  # Overwrites any existing file.\n",
    "            pickle.dump(epiT, output, -1)"
   ]
  },
  {
   "cell_type": "code",
   "execution_count": null,
   "metadata": {},
   "outputs": [],
   "source": [
    "fname = 'fitted_parms_' + today.strftime(\"%m%d\") + '.csv'\n",
    "fitted_parms = pd.DataFrame({'a': list(f.a for f in epiT.fits), 'b' : list(f.b for f in epiT.fits), 'c': list(f.c for f in epiT.fits)})\n",
    "fitted_parms.to_csv(os.path.join(Plot_Folder,fname))"
   ]
  },
  {
   "cell_type": "markdown",
   "metadata": {},
   "source": [
    "## Read the fitted parameters"
   ]
  },
  {
   "cell_type": "code",
   "execution_count": null,
   "metadata": {},
   "outputs": [],
   "source": [
    "fname = 'fits_' + today.strftime(\"%m%d\") + '.csv'\n",
    "# fname = 'fitted_parms_0401.csv'\n",
    "fitted_parms = pd.read_csv(os.path.join (Root_Folder, 'figs/server_plots/laplace', fname))"
   ]
  },
  {
   "cell_type": "code",
   "execution_count": null,
   "metadata": {},
   "outputs": [],
   "source": [
    "fitted_parms"
   ]
  },
  {
   "cell_type": "code",
   "execution_count": null,
   "metadata": {},
   "outputs": [],
   "source": [
    "np.mean(fitted_parms)"
   ]
  },
  {
   "cell_type": "code",
   "execution_count": null,
   "metadata": {},
   "outputs": [],
   "source": [
    "idx = fitted_parms[fitted_parms[\"kinfty\"] > 6E5].index\n",
    "temp_df = fitted_parms.drop(idx)\n",
    "\n",
    "fname = 'final_size_density_' + today.strftime(\"%m%d\")\n",
    "fig = plt.figure()\n",
    "plt.hist(temp_df.kinfty.values, density=True, bins=20)\n",
    "fig_save(fig, Plot_Folder, fname)"
   ]
  },
  {
   "cell_type": "code",
   "execution_count": null,
   "metadata": {},
   "outputs": [],
   "source": []
  },
  {
   "cell_type": "code",
   "execution_count": null,
   "metadata": {},
   "outputs": [],
   "source": [
    "fname = 'Ohio_epi_' + today.strftime(\"%m%d\") + '.pkl'\n",
    "# fname = 'Ohio_epi_0401.pkl'\n",
    "with open(os.path.join (Root_Folder, 'figs/server_plots/laplace', fname), 'rb') as input:\n",
    "    epiT = pickle.load (input)"
   ]
  },
  {
   "cell_type": "code",
   "execution_count": null,
   "metadata": {},
   "outputs": [],
   "source": [
    "fig_density = epiT.plot_density_fit()\n",
    "fname = 'Tfinaldensity' + today.strftime(\"%m%d\")\n",
    "fig_save(fig_density,Plot_Folder,fname)"
   ]
  },
  {
   "cell_type": "code",
   "execution_count": null,
   "metadata": {},
   "outputs": [],
   "source": [
    "# fname = 'fits_' + today.strftime(\"%m%d\")\n",
    "# fname = 'fits_0401.csv'\n",
    "# fitted_parms = pickle.load(open(os.path.join (Root_Folder, 'figs/server_plots/large_epi', fname), \"rb\"))\n",
    "# np.size(fitted_parms,axis=0)"
   ]
  },
  {
   "cell_type": "code",
   "execution_count": null,
   "metadata": {},
   "outputs": [],
   "source": [
    "abc = np.mean(fitted_parms)\n",
    "theta = [abc.a, abc.b, abc.c]\n",
    "epi = Epidemic(file_or_df=df,bounds=bounds,abc=tuple(theta),plot_T=plot_T)"
   ]
  },
  {
   "cell_type": "code",
   "execution_count": null,
   "metadata": {},
   "outputs": [],
   "source": [
    "epi.n"
   ]
  },
  {
   "cell_type": "code",
   "execution_count": null,
   "metadata": {},
   "outputs": [],
   "source": [
    "fname = 'ohio_prediction' + today.strftime(\"%m%d\")\n",
    "predictions = fit2prediction(epi, df_ohio, fitted_parms, Plot_Folder, fname, nDays=150, nSim=1000)"
   ]
  },
  {
   "cell_type": "code",
   "execution_count": null,
   "metadata": {},
   "outputs": [],
   "source": [
    "small_epi.rho"
   ]
  },
  {
   "cell_type": "code",
   "execution_count": null,
   "metadata": {},
   "outputs": [],
   "source": [
    "cutoff = 100000\n",
    "idx = fitted_parms[fitted_parms[\"kinfty\"] > cutoff].index\n",
    "small_epi_parms = fitted_parms.drop(idx)\n",
    "\n",
    "idx = fitted_parms[fitted_parms[\"kinfty\"] <= cutoff].index\n",
    "large_epi_parms = fitted_parms.drop(idx)\n",
    "\n",
    "large_epi_prob = np.size(large_epi_parms,axis=0)/np.size(fitted_parms,axis=0)  \n",
    "print('The probability of a large outbreak is ', large_epi_prob)\n",
    "small_epi_prob = np.size(small_epi_parms,axis=0) /np.size(fitted_parms,axis=0)  \n",
    "print('The probability of a small outbreak is ', small_epi_prob)"
   ]
  },
  {
   "cell_type": "code",
   "execution_count": null,
   "metadata": {},
   "outputs": [],
   "source": [
    "abc = np.mean(small_epi_parms)\n",
    "small_epi_theta = [abc.a, abc.b, abc.c]\n",
    "small_epi = Epidemic(file_or_df=df,bounds=bounds,abc=tuple(small_epi_theta),plot_T=plot_T)\n",
    "# small_epi.fit(N=N)\n",
    "\n",
    "abc = np.mean(large_epi_parms)\n",
    "large_epi_theta = [abc.a, abc.b, abc.c]\n",
    "large_epi = Epidemic(file_or_df=df,bounds=bounds,abc=tuple(large_epi_theta),plot_T=plot_T)\n",
    "# large_epi.fit(N=N)"
   ]
  },
  {
   "cell_type": "code",
   "execution_count": null,
   "metadata": {},
   "outputs": [],
   "source": [
    "print(large_epi.n, small_epi.n)"
   ]
  },
  {
   "cell_type": "code",
   "execution_count": null,
   "metadata": {},
   "outputs": [],
   "source": [
    "print(small_epi.R0, large_epi.R0)"
   ]
  },
  {
   "cell_type": "code",
   "execution_count": null,
   "metadata": {},
   "outputs": [],
   "source": [
    "large_epi.objfxn(large_epi_theta)"
   ]
  },
  {
   "cell_type": "code",
   "execution_count": null,
   "metadata": {},
   "outputs": [],
   "source": [
    "small_epi.objfxn(small_epi_theta)"
   ]
  },
  {
   "cell_type": "code",
   "execution_count": null,
   "metadata": {},
   "outputs": [],
   "source": [
    "temp = np.mean(small_epi_parms)\n",
    "small_epi_theta = theta = [temp['a'], temp['b'], temp['c']]\n",
    "fname = 'small_epi_diagnostic' + today.strftime(\"%m%d\") \n",
    "n_small_epi = diagnostics(small_epi_theta, df_ohio)\n",
    "fig = plt.figure()\n",
    "plt.plot(n_small_epi)\n",
    "fig_save(fig, Plot_Folder,fname)"
   ]
  },
  {
   "cell_type": "code",
   "execution_count": null,
   "metadata": {},
   "outputs": [],
   "source": [
    "small_epi.n"
   ]
  },
  {
   "cell_type": "code",
   "execution_count": null,
   "metadata": {},
   "outputs": [],
   "source": [
    "fname = 'small_epi_prediction' + today.strftime(\"%m%d\")\n",
    "small_predictions = fit2prediction(small_epi, df_ohio, small_epi_parms, fname, nDays=30, nSim=10)"
   ]
  },
  {
   "cell_type": "code",
   "execution_count": null,
   "metadata": {},
   "outputs": [],
   "source": [
    "fname = 'large_epi_prediction' + today.strftime(\"%m%d\")\n",
    "large_predictions = fit2prediction(large_epi, df_ohio, large_epi_parms, Plot_Folder, fname, nDays=150, nSim=2000)"
   ]
  },
  {
   "cell_type": "code",
   "execution_count": null,
   "metadata": {},
   "outputs": [],
   "source": [
    "fig_density = large_epi.plot_density_fit()\n",
    "fname = 'Tfinaldensity' + today.strftime(\"%m%d\")\n",
    "# fig_save(fig_density,Plot_Folder,fname)"
   ]
  },
  {
   "cell_type": "code",
   "execution_count": null,
   "metadata": {},
   "outputs": [],
   "source": [
    "temp = np.mean(large_epi)\n",
    "large_epi_theta = theta = [temp['a'], temp['b'], temp['c']]\n",
    "fname = 'small_epi_diagnostic' + today.strftime(\"%m%d\") \n",
    "n_large_epi = diagnostics(large_epi_theta, df_ohio)"
   ]
  },
  {
   "cell_type": "code",
   "execution_count": null,
   "metadata": {},
   "outputs": [],
   "source": [
    "temp = np.zeros((3, np.size(small_epi,0)), dtype=np.float)\n",
    "temp[0] = small_epi.a.values\n",
    "temp[1] = small_epi.b.values\n",
    "temp[2] = small_epi.c.values\n",
    "theta = np.mean(temp,axis=1)\n",
    "cov = np.cov(temp)"
   ]
  },
  {
   "cell_type": "code",
   "execution_count": null,
   "metadata": {},
   "outputs": [],
   "source": [
    "mmm = diagnostics(theta, df_ohio)\n",
    "plt.plot(mmm)"
   ]
  },
  {
   "cell_type": "code",
   "execution_count": null,
   "metadata": {},
   "outputs": [],
   "source": [
    "np.mean(large_epi)"
   ]
  },
  {
   "cell_type": "code",
   "execution_count": null,
   "metadata": {},
   "outputs": [],
   "source": [
    "idx = large_epi[fitted_parms[\"kinfty\"] > 1E6].index\n",
    "temp_df = large_epi.drop(idx)\n",
    "\n",
    "fname = 'large_epi_final_size_density_' + today.strftime(\"%m%d\")\n",
    "fig = plt.figure()\n",
    "plt.hist(temp_df.kinfty.values, density=True, bins=20)\n",
    "fig_save(fig, Plot_Folder, fname)\n"
   ]
  },
  {
   "cell_type": "code",
   "execution_count": null,
   "metadata": {},
   "outputs": [],
   "source": [
    "temp = np.zeros((3, np.size(large_epi,0)), dtype=np.float)\n",
    "temp[0] = large_epi.a.values\n",
    "temp[1] = large_epi.b.values\n",
    "temp[2] = large_epi.c.values\n",
    "m = np.mean(temp,axis=1)\n",
    "cov = np.cov(temp)\n",
    "print(m)"
   ]
  },
  {
   "cell_type": "code",
   "execution_count": null,
   "metadata": {},
   "outputs": [],
   "source": [
    "m0 = [epiT.gamma, epiT.b, epiT.c]"
   ]
  },
  {
   "cell_type": "code",
   "execution_count": null,
   "metadata": {},
   "outputs": [],
   "source": [
    "day0 = df_ohio[\"time\"].min()\n",
    "day0"
   ]
  },
  {
   "cell_type": "code",
   "execution_count": null,
   "metadata": {},
   "outputs": [],
   "source": [
    "def fit2prediction(epi, df_ohio, fitted_parms, Plot_Folder, fname, nDays=150, nSim=2000):\n",
    "    temp = np.zeros((3, np.size(fitted_parms,0)), dtype=np.float)\n",
    "    temp[0] = fitted_parms.a.values\n",
    "    temp[1] = fitted_parms.b.values\n",
    "    temp[2] = fitted_parms.c.values\n",
    "    m = np.mean(temp,axis=1)\n",
    "    cov = np.cov(temp)\n",
    "    day0 = df_ohio[\"time\"].min()\n",
    "    dates = pd.DataFrame({'d':[day0 + pd.DateOffset(i) for i in np.arange(nDays)]})\n",
    "    samples = parm_sample_correlated(m,cov,nSim)\n",
    "    predictions = predict(epi, samples, df_ohio, nSim, dates, Plot_Folder, fname)\n",
    "    return predictions\n"
   ]
  },
  {
   "cell_type": "code",
   "execution_count": null,
   "metadata": {},
   "outputs": [],
   "source": [
    "Plot_Folder"
   ]
  },
  {
   "cell_type": "code",
   "execution_count": null,
   "metadata": {},
   "outputs": [],
   "source": [
    "nDays = 150\n",
    "dates = pd.DataFrame({'d':[day0 + pd.DateOffset(i) for i in np.arange(nDays)]})\n",
    "fname = 'ohiopredictions_' + today.strftime(\"%m%d\")\n",
    "nSim = 2000\n",
    "samples = parm_sample_correlated(m,cov,nSim)\n",
    "predictions = predict(epiT, samples, df_ohio, nSim, dates, Plot_Folder, fname)\n",
    "predictions"
   ]
  },
  {
   "cell_type": "code",
   "execution_count": null,
   "metadata": {},
   "outputs": [],
   "source": [
    "np.mean(mmm)"
   ]
  },
  {
   "cell_type": "code",
   "execution_count": null,
   "metadata": {},
   "outputs": [],
   "source": []
  },
  {
   "cell_type": "code",
   "execution_count": null,
   "metadata": {},
   "outputs": [],
   "source": [
    "plt.plot(epiT.df)"
   ]
  },
  {
   "cell_type": "code",
   "execution_count": null,
   "metadata": {},
   "outputs": [],
   "source": [
    "np.mean(fitted_parms,0)"
   ]
  },
  {
   "cell_type": "code",
   "execution_count": null,
   "metadata": {},
   "outputs": [],
   "source": [
    "epiT.theta"
   ]
  },
  {
   "cell_type": "markdown",
   "metadata": {},
   "source": [
    "## DSA on daily hospitalizations"
   ]
  },
  {
   "cell_type": "code",
   "execution_count": null,
   "metadata": {},
   "outputs": [],
   "source": [
    "new_hosp = pd.read_csv(\"hbd.csv\")\n",
    "new_hosp"
   ]
  },
  {
   "cell_type": "code",
   "execution_count": null,
   "metadata": {},
   "outputs": [],
   "source": []
  },
  {
   "cell_type": "code",
   "execution_count": null,
   "metadata": {},
   "outputs": [],
   "source": []
  },
  {
   "cell_type": "code",
   "execution_count": null,
   "metadata": {},
   "outputs": [],
   "source": []
  },
  {
   "cell_type": "code",
   "execution_count": null,
   "metadata": {},
   "outputs": [],
   "source": [
    "m = epiT.theta\n",
    "s = [np.sqrt(epiT.var_a()), np.sqrt(epiT.var_b()), np.sqrt(epiT.var_c())]\n",
    "cov = epiT.cov_abc()\n",
    "m0 = [epiT.gamma, epiT.b, epiT.c]\n",
    "rate = 1 + epiT.dropout_benefit/100.0\n",
    "n0 = epiT.kinfty /rate"
   ]
  },
  {
   "cell_type": "code",
   "execution_count": null,
   "metadata": {},
   "outputs": [],
   "source": [
    "nDays = 150\n",
    "dates = pd.DataFrame({'d':[day0 + pd.DateOffset(i) for i in np.arange(nDays)]})\n",
    "fname = 'ohiopredictions_' + today.strftime(\"%m%d\")\n",
    "nSim = 2000\n",
    "samples = parm_sample_correlated(m,cov,nSim)\n",
    "samples_nd = parm_sample_correlated(m0,cov,nSim)\n",
    "predictions = predict(epiT,samples, samples_nd, df_ohio, nSim, dates, Plot_Folder, fname)\n",
    "predictions"
   ]
  },
  {
   "cell_type": "code",
   "execution_count": null,
   "metadata": {},
   "outputs": [],
   "source": [
    "## Optional diagnostics\n",
    "fig = plt.figure()\n",
    "plt.plot(df_ohio.time,diagnostics(epiT, df_ohio))\n",
    "fname = 'diagnostics' + today.strftime(\"%m%d\")\n",
    "fig_save(fig, Plot_Folder,fname)"
   ]
  },
  {
   "cell_type": "code",
   "execution_count": null,
   "metadata": {},
   "outputs": [],
   "source": [
    "df_ohio"
   ]
  },
  {
   "cell_type": "code",
   "execution_count": null,
   "metadata": {},
   "outputs": [],
   "source": [
    "def diagnostics(theta, df_ohio):\n",
    "    nDays = len(df_ohio.time.values)\n",
    "    time_points = np.arange(nDays)\n",
    "    S0 = [1]\n",
    "    sol = odeint(Epidemic.Deriv_S, S0, time_points, args=tuple(theta))\n",
    "    S = interp1d(time_points, sol[:, 0])\n",
    "    mean = np.asarray(list( (1 - S(x)) for x in time_points))\n",
    "    res = np.divide(df_ohio[\"cum_confirm\"],mean)\n",
    "    res.pop(0)\n",
    "    return res\n",
    "    \n",
    "    "
   ]
  },
  {
   "cell_type": "code",
   "execution_count": null,
   "metadata": {},
   "outputs": [],
   "source": [
    "np.mean(abc, axis=0)"
   ]
  },
  {
   "cell_type": "code",
   "execution_count": null,
   "metadata": {},
   "outputs": [],
   "source": [
    "abc = diagnostics(epiT, df_ohio)"
   ]
  },
  {
   "cell_type": "code",
   "execution_count": null,
   "metadata": {},
   "outputs": [],
   "source": [
    "fig = plt.plot(abc)\n",
    "# fig.savefig(os.path.join (Plot_Folder, fname + \".\" + 'pdf'), format='pdf')\n",
    "# fig_save(fig, Plot_Folder, 'nplot_0329')"
   ]
  },
  {
   "cell_type": "code",
   "execution_count": null,
   "metadata": {},
   "outputs": [],
   "source": [
    "def mean_prediction(theta,dates,T,kT):\n",
    "    nDays = len(dates)\n",
    "    time_points = np.arange(nDays)\n",
    "    S0 = [1]\n",
    "    sol = odeint(Epidemic.Deriv_S, S0, time_points, args=tuple(theta))\n",
    "    S = interp1d(time_points, sol[:, 0])\n",
    "    factor = 1 - S(T)\n",
    "    n = kT/factor\n",
    "    mean = np.asarray(list( n*(1 - S(x)) for x in time_points))\n",
    "    plt.plot(dates,mean)\n",
    "    return mean\n",
    "    \n",
    "    "
   ]
  },
  {
   "cell_type": "code",
   "execution_count": null,
   "metadata": {},
   "outputs": [],
   "source": [
    "from scipy.stats import gamma, beta, uniform"
   ]
  },
  {
   "cell_type": "code",
   "execution_count": null,
   "metadata": {},
   "outputs": [],
   "source": [
    "epiT.theta = 2"
   ]
  },
  {
   "cell_type": "code",
   "execution_count": null,
   "metadata": {},
   "outputs": [],
   "source": [
    "# nDays = 150\n",
    "# dates = pd.DataFrame({'d':[day0 + pd.DateOffset(i) for i in np.arange(nDays)]})\n",
    "# fname = 'ohiopredictions_test'\n",
    "# nSim = 1000\n",
    "# samples = parm_sample(m,s,nSim)\n",
    "# samples_nd = parm_sample(m0,s,nSim)\n",
    "# predictions = predict(epiT,samples, samples_nd, df_ohio, nSim, dates, Plot_Folder, fname)\n",
    "# predictions"
   ]
  },
  {
   "cell_type": "code",
   "execution_count": null,
   "metadata": {},
   "outputs": [],
   "source": []
  },
  {
   "cell_type": "code",
   "execution_count": null,
   "metadata": {},
   "outputs": [],
   "source": [
    "epiT.data.values"
   ]
  },
  {
   "cell_type": "code",
   "execution_count": null,
   "metadata": {},
   "outputs": [],
   "source": []
  },
  {
   "cell_type": "code",
   "execution_count": null,
   "metadata": {},
   "outputs": [],
   "source": [
    "dates"
   ]
  },
  {
   "cell_type": "code",
   "execution_count": null,
   "metadata": {},
   "outputs": [],
   "source": [
    "#predictions = predict(epiT, m, s, nSim, dates, Plot_Folder, fname)\n",
    "kT = df_ohio[\"cum_confirm\"].shape[0]"
   ]
  },
  {
   "cell_type": "code",
   "execution_count": null,
   "metadata": {},
   "outputs": [],
   "source": [
    "time_points[nDays-1]"
   ]
  },
  {
   "cell_type": "code",
   "execution_count": null,
   "metadata": {},
   "outputs": [],
   "source": [
    "time_points = np.arange(nDays)"
   ]
  },
  {
   "cell_type": "code",
   "execution_count": null,
   "metadata": {},
   "outputs": [],
   "source": [
    "import scipy as sc\n",
    "from scipy.stats import gamma, beta, norm, uniform, expon"
   ]
  },
  {
   "cell_type": "code",
   "execution_count": null,
   "metadata": {},
   "outputs": [],
   "source": [
    "def predict(epi, samples, ohio_df, N, dates, Plot_Folder, fname):\n",
    "    nDays = len(dates)\n",
    "    time_points = np.arange(nDays)\n",
    "    mean = np.zeros((N, nDays), dtype=np.float)\n",
    "    mean_daily = np.zeros((N, nDays), dtype=np.float)\n",
    "    theta = np.mean(samples,axis=0)\n",
    "    kT = epi.df['infection'].shape[0]\n",
    "    n = np.mean(diagnostics(tuple(theta), ohio_df))\n",
    "    fig = plt.figure()\n",
    "    for i in range(N):\n",
    "        S0 = [1]\n",
    "        n = min(1E6, np.mean(diagnostics(tuple(samples[i]), ohio_df)))\n",
    "        sol = odeint(Epidemic.Deriv_S, S0, time_points, args=tuple(samples[i]))\n",
    "        S = interp1d(time_points, sol[:, 0])\n",
    "#         rescale = 1 - S(time_points[nDays-1])\n",
    "#         n = kT/rescale\n",
    "        mean[i] = np.asarray(list(n * (1 - S(x)) for x in time_points))\n",
    "        mean[i][0] = 1\n",
    "        mean_daily[i] = np.append(mean[i][0], np.diff(mean[i]))\n",
    "        l1, = plt.plot(dates['d'].dt.date, mean[i], '-', color=myColours['tud2b'].get_rgb(), lw=1, alpha=0.05)\n",
    "        # l1nd = plt.plot(dates['d'].dt.date, mean_nd[i], '-', color=myColours['tud7a'].get_rgb(), lw=1, alpha=0.05)\n",
    "\n",
    "    m_ = np.int64(np.ceil(np.mean(mean, axis=0)))\n",
    "    l = np.int64(np.ceil(np.quantile(mean, q= 0.025, axis=0)))\n",
    "    h = np.int64(np.ceil(np.quantile(mean, q= 0.975, axis=0)))\n",
    "\n",
    "    S0 = [1]\n",
    "    n = min(1E6,np.mean(diagnostics(tuple(theta), ohio_df)))\n",
    "    sol = odeint(Epidemic.Deriv_S, S0, time_points, args=tuple(theta))\n",
    "    S = interp1d(time_points, sol[:, 0])\n",
    "#     rescale = 1 - S(time_points[nDays-1])\n",
    "#     n = kT/rescale\n",
    "    m = np.asarray(list(n * (1 - S(x)) for x in time_points))\n",
    "    l2 = plt.plot(dates['d'].dt.date, m, '-', color=myColours['tud1d'].get_rgb(), lw=3)\n",
    "#     l2_, = plt.plot(dates['d'].dt.date, m_, '-', color=myColours['tud1d'].get_rgb(), lw=3, label='With mitigation')\n",
    "    l3 = plt.plot(dates['d'].dt.date, l, '--', color=myColours['tud1d'].get_rgb(), lw=1)\n",
    "    l4 = plt.plot(dates['d'].dt.date, h, '--', color=myColours['tud1d'].get_rgb(), lw=1)\n",
    "    l5 = plt.fill_between(dates['d'].dt.date, l, h, alpha=.1, color=myColours['tud1a'].get_rgb())\n",
    "\n",
    "    l6 = plt.axvline(x=ohio_df['time'][epi.T - 1], color=myColours['tud7d'].get_rgb(), linestyle='-')\n",
    "    l7 = plt.plot(ohio_df['time'].values, ohio_df['cum_confirm'].values, '-', color=myColours['tud7d'].get_rgb(), lw=3)\n",
    "    plt.xlabel('Dates')\n",
    "    plt.ylabel('Cumulative infections')\n",
    "    # plt.legend(handles=[l2nd_, l2_])\n",
    "#     plt.legend((l2_,l2nd_), ('Mean with mitigation', 'Mean without mitigation'))\n",
    "    fig_save(fig, Plot_Folder, fname)\n",
    "\n",
    "    fname_ = fname + '_daily_new'\n",
    "    fig = plt.figure()\n",
    "    for i in range(N):\n",
    "        # l1nd = plt.plot(dates['d'].dt.date, mean_nd_daily[i], '-', color=myColours['tud7b'].get_rgb(), lw=1, alpha=0.05)\n",
    "        l1 = plt.plot(dates['d'].dt.date, mean_daily[i], '-', color=myColours['tud2b'].get_rgb(), lw=1, alpha=0.05)\n",
    "    m_daily = np.append(m[0], np.diff(m))\n",
    "    # m_nd_daily = np.append(m_nd[0], np.diff(m_nd))\n",
    "    # l2nd, = plt.plot(dates['d'].dt.date, m_nd_daily, '-', color=myColours['tud7d'].get_rgb(), lw=3, label='Without mitigation')\n",
    "    l2, = plt.plot(dates['d'].dt.date, m_daily, '-', color=myColours['tud1d'].get_rgb(), lw=3, label='With mitigation')\n",
    "    l6 = plt.axvline(x=ohio_df['time'][epi.T - 1], color=myColours['tud7d'].get_rgb(), linestyle='--')\n",
    "    # l7 = plt.plot(df_ohio['time'].values, df_ohio['daily_confirm'].values, color=myColours['tud11d'].get_rgb(), lw=3)\n",
    "    plt.ylabel('Daily new infections')\n",
    "    plt.xlabel('Dates')\n",
    "    # plt.legend(handles=[l2nd, l2])\n",
    "    fig_save(fig, Plot_Folder, fname_)\n",
    "    m[0] = 1\n",
    "    # m_nd[0] = 1\n",
    "    my_dict = {}\n",
    "    my_dict['Dates'] = dates['d']\n",
    "    my_dict['Mean'] = m\n",
    "    my_dict['High'] = h\n",
    "    my_dict['Low'] = l\n",
    "    my_dict = pd.DataFrame(my_dict)\n",
    "    my_dict.to_csv(os.path.join(Plot_Folder, fname + '.csv'), index=False)\n",
    "    return my_dict\n",
    "\n"
   ]
  },
  {
   "cell_type": "code",
   "execution_count": null,
   "metadata": {},
   "outputs": [],
   "source": [
    "c.stats()"
   ]
  },
  {
   "cell_type": "code",
   "execution_count": null,
   "metadata": {},
   "outputs": [],
   "source": [
    "c = expon(scale=1E-8)\n",
    "xx = np.linspace(0,1E-2,100)\n",
    "plt.plot(xx, c.pdf(xx), 'k-', lw=2, label='frozen pdf')"
   ]
  },
  {
   "cell_type": "code",
   "execution_count": null,
   "metadata": {},
   "outputs": [],
   "source": [
    "c = beta(0.05, 0.75, loc=0, scale=1.25)\n",
    "c.mean()\n",
    "xx = np.linspace(0,1E-2,100)\n",
    "plt.plot(xx, c.pdf(xx), 'k-', lw=2, label='frozen pdf')"
   ]
  },
  {
   "cell_type": "code",
   "execution_count": null,
   "metadata": {},
   "outputs": [],
   "source": [
    "prior(epiT.theta,p)"
   ]
  },
  {
   "cell_type": "code",
   "execution_count": null,
   "metadata": {},
   "outputs": [],
   "source": [
    "def subtract(a,b):\n",
    "    return np.add(a, np.multiply(-1,b))"
   ]
  },
  {
   "cell_type": "code",
   "execution_count": null,
   "metadata": {},
   "outputs": [],
   "source": [
    "a = gamma(1.75, loc=0, scale=0.25)\n",
    "b = gamma(2.26, loc=0, scale=0.250)\n",
    "c = beta(1E-3, 2.25, loc=0, scale=1.0)\n",
    "p = [a,b,c]\n",
    "prior(epiT.theta,p)\n",
    "proposal = norm(scale=1E-2)\n"
   ]
  },
  {
   "cell_type": "code",
   "execution_count": null,
   "metadata": {},
   "outputs": [],
   "source": [
    "c.stats()"
   ]
  },
  {
   "cell_type": "code",
   "execution_count": null,
   "metadata": {},
   "outputs": [],
   "source": [
    "def draw_from_prior(p):\n",
    "    return [p[0].rvs(), p[1].rvs(), p[2].rvs()]"
   ]
  },
  {
   "cell_type": "code",
   "execution_count": null,
   "metadata": {},
   "outputs": [],
   "source": [
    "np.inf"
   ]
  },
  {
   "cell_type": "code",
   "execution_count": null,
   "metadata": {},
   "outputs": [],
   "source": [
    "proposal.pdf(substract([1,2,3], [2,3,4]))"
   ]
  },
  {
   "cell_type": "code",
   "execution_count": null,
   "metadata": {},
   "outputs": [],
   "source": [
    "c.pdf(1E-6)"
   ]
  },
  {
   "cell_type": "code",
   "execution_count": null,
   "metadata": {},
   "outputs": [],
   "source": [
    "def prior(theta,p):\n",
    "    return p[0].pdf(theta[0]) * p[1].pdf(theta[2]) * p[2].pdf(theta[2])"
   ]
  },
  {
   "cell_type": "code",
   "execution_count": null,
   "metadata": {},
   "outputs": [],
   "source": [
    "def log_prior(theta,p):\n",
    "    if prior(theta,p) > 0:\n",
    "        return np.log(prior(theta,p))\n",
    "    else:\n",
    "        return -np.inf"
   ]
  },
  {
   "cell_type": "code",
   "execution_count": null,
   "metadata": {},
   "outputs": [],
   "source": [
    "def log_data_likelihood(epi, theta):\n",
    "    a,b,c=theta\n",
    "    S0 = [1.0]\n",
    "    #t = np.linspace(0,self.data.max(),1000)\n",
    "    sol = odeint(Epidemic.Deriv_S, S0, epi.t, args=(a, b, c))\n",
    "    S = interp1d(epiT.t,sol[:,0])\n",
    "    smax = S(epiT.T)\n",
    "    factor = 1 - smax\n",
    "    Z = 0\n",
    "    j = 0\n",
    "    for x in epi.data.values:\n",
    "        s = S(x)\n",
    "        if s > 0:\n",
    "            z = (a*s*np.log(s)+b*(s-s**2)+c*s)/factor\n",
    "            if z > 0:\n",
    "                Z += np.log(z)\n",
    "                j += 1\n",
    "    return Z  "
   ]
  },
  {
   "cell_type": "code",
   "execution_count": null,
   "metadata": {},
   "outputs": [],
   "source": [
    "def log_posterior(epi,theta,p):\n",
    "    data_likelihood = log_data_likelihood(epi,theta)\n",
    "    lp = log_prior(theta, p)\n",
    "    return data_likelihood + lp  "
   ]
  },
  {
   "cell_type": "code",
   "execution_count": null,
   "metadata": {},
   "outputs": [],
   "source": [
    "proposal.rvs(size=3)"
   ]
  },
  {
   "cell_type": "code",
   "execution_count": null,
   "metadata": {},
   "outputs": [],
   "source": [
    "def proposal_loglikelihood(theta1,theta2,q):\n",
    "    return np.sum(np.log(q.pdf(theta2)))"
   ]
  },
  {
   "cell_type": "code",
   "execution_count": null,
   "metadata": {},
   "outputs": [],
   "source": [
    "def draw_proposal(theta, proposal):\n",
    "    ss = proposal.rvs(size=len(theta)) + theta\n",
    "    return ss"
   ]
  },
  {
   "cell_type": "code",
   "execution_count": null,
   "metadata": {},
   "outputs": [],
   "source": [
    "def accept_prob(epi, p, theta1, theta2):\n",
    "    l1 = log_posterior(epi,theta1,p)\n",
    "    l2 = log_posterior(epi,theta2,p)\n",
    "    a = min(1, np.exp(l2 -l1))\n",
    "    return a"
   ]
  },
  {
   "cell_type": "code",
   "execution_count": null,
   "metadata": {},
   "outputs": [],
   "source": [
    "accept_prob(epiT,p, epiT.theta, [0.531,0.42,-0.0001])"
   ]
  },
  {
   "cell_type": "code",
   "execution_count": null,
   "metadata": {},
   "outputs": [],
   "source": [
    "prior(epiT.theta, p)"
   ]
  },
  {
   "cell_type": "code",
   "execution_count": null,
   "metadata": {},
   "outputs": [],
   "source": [
    "log_posterior(epiT,epiT.theta,p)"
   ]
  },
  {
   "cell_type": "code",
   "execution_count": null,
   "metadata": {},
   "outputs": [],
   "source": [
    "np.exp(log_posterior(epiT,[0.531,0.42,-0.1],p) - log_posterior(epiT,epiT.theta,p))"
   ]
  },
  {
   "cell_type": "code",
   "execution_count": null,
   "metadata": {},
   "outputs": [],
   "source": [
    "asd = norm(epiT.theta, scale=1E-2)\n",
    "asd.stats()"
   ]
  },
  {
   "cell_type": "code",
   "execution_count": null,
   "metadata": {},
   "outputs": [],
   "source": [
    "draw_proposal(epiT.theta, proposal)"
   ]
  },
  {
   "cell_type": "code",
   "execution_count": null,
   "metadata": {},
   "outputs": [],
   "source": [
    "def mh(epi, p, proposal, burnin=10**3, chain_length=10**4):\n",
    "    chain = np.zeros((chain_length,3), dtype=np.float)\n",
    "    chain[0] = draw_from_prior(p)\n",
    "    for i in np.arange(1,chain_length):\n",
    "        new = draw_proposal(chain[i-1], proposal)\n",
    "        a = accept_prob(epi, p, chain[i-1], new)\n",
    "        if uniform.rvs() < a:\n",
    "            chain[i] = new\n",
    "        else:\n",
    "            chain[i] = chain[i-1]\n",
    "    after_burnin = chain[burnin:chain_length-1]\n",
    "    idx = np.arange(0,chain_length-burnin,20)\n",
    "    return after_burnin[idx]"
   ]
  },
  {
   "cell_type": "code",
   "execution_count": null,
   "metadata": {},
   "outputs": [],
   "source": [
    "chain_length = 20\n",
    "chain = np.zeros((chain_length,3), dtype=np.float)\n",
    "chain[0] = epiT.theta"
   ]
  },
  {
   "cell_type": "code",
   "execution_count": null,
   "metadata": {},
   "outputs": [],
   "source": [
    "np.size(chain[2:chain_length],0)"
   ]
  },
  {
   "cell_type": "code",
   "execution_count": null,
   "metadata": {},
   "outputs": [],
   "source": [
    "abc = mh(epiT, p, proposal, burnin= 10**3, chain_length=10**5)"
   ]
  },
  {
   "cell_type": "code",
   "execution_count": null,
   "metadata": {},
   "outputs": [],
   "source": []
  },
  {
   "cell_type": "code",
   "execution_count": null,
   "metadata": {},
   "outputs": [],
   "source": [
    "np.arange(0,1000,100)"
   ]
  },
  {
   "cell_type": "code",
   "execution_count": null,
   "metadata": {},
   "outputs": [],
   "source": [
    "theta_hat = np.mean(abc,axis=0)\n",
    "theta_hat"
   ]
  },
  {
   "cell_type": "code",
   "execution_count": null,
   "metadata": {},
   "outputs": [],
   "source": [
    "plt.plot(abc[:,0])"
   ]
  },
  {
   "cell_type": "code",
   "execution_count": null,
   "metadata": {},
   "outputs": [],
   "source": [
    "plt.plot(abc[:,1])\n"
   ]
  },
  {
   "cell_type": "code",
   "execution_count": null,
   "metadata": {},
   "outputs": [],
   "source": [
    "plt.plot(abc[:,2])"
   ]
  },
  {
   "cell_type": "code",
   "execution_count": null,
   "metadata": {},
   "outputs": [],
   "source": [
    "plt.hist(abc[:,2])"
   ]
  },
  {
   "cell_type": "code",
   "execution_count": null,
   "metadata": {},
   "outputs": [],
   "source": [
    "plt.hist(abc[:,0])"
   ]
  },
  {
   "cell_type": "code",
   "execution_count": null,
   "metadata": {},
   "outputs": [],
   "source": [
    "plt.hist(abc[:,1])"
   ]
  },
  {
   "cell_type": "code",
   "execution_count": null,
   "metadata": {},
   "outputs": [],
   "source": []
  },
  {
   "cell_type": "code",
   "execution_count": null,
   "metadata": {},
   "outputs": [],
   "source": []
  }
 ],
 "metadata": {
  "kernelspec": {
   "display_name": "Python 3",
   "language": "python",
   "name": "python3"
  },
  "language_info": {
   "codemirror_mode": {
    "name": "ipython",
    "version": 3
   },
   "file_extension": ".py",
   "mimetype": "text/x-python",
   "name": "python",
   "nbconvert_exporter": "python",
   "pygments_lexer": "ipython3",
   "version": "3.6.10"
  },
  "latex_envs": {
   "LaTeX_envs_menu_present": true,
   "autoclose": false,
   "autocomplete": true,
   "bibliofile": "biblio.bib",
   "cite_by": "apalike",
   "current_citInitial": 1,
   "eqLabelWithNumbers": true,
   "eqNumInitial": 1,
   "hotkeys": {
    "equation": "Ctrl-E",
    "itemize": "Ctrl-I"
   },
   "labels_anchors": false,
   "latex_user_defs": false,
   "report_style_numbering": false,
   "user_envs_cfg": false
  },
  "toc": {
   "base_numbering": 1,
   "nav_menu": {},
   "number_sections": true,
   "sideBar": true,
   "skip_h1_title": false,
   "title_cell": "Table of Contents",
   "title_sidebar": "Contents",
   "toc_cell": false,
   "toc_position": {},
   "toc_section_display": true,
   "toc_window_display": false
  },
  "varInspector": {
   "cols": {
    "lenName": 16,
    "lenType": 16,
    "lenVar": 40
   },
   "kernels_config": {
    "python": {
     "delete_cmd_postfix": "",
     "delete_cmd_prefix": "del ",
     "library": "var_list.py",
     "varRefreshCmd": "print(var_dic_list())"
    },
    "r": {
     "delete_cmd_postfix": ") ",
     "delete_cmd_prefix": "rm(",
     "library": "var_list.r",
     "varRefreshCmd": "cat(var_dic_list()) "
    }
   },
   "types_to_exclude": [
    "module",
    "function",
    "builtin_function_or_method",
    "instance",
    "_Feature"
   ],
   "window_display": false
  }
 },
 "nbformat": 4,
 "nbformat_minor": 4
}
